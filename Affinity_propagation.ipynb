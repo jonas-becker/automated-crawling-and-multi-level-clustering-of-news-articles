{
    "cells": [
        {
            "cell_type": "code",
            "execution_count": 1,
            "source": [
                "import pandas as pd"
            ],
            "outputs": [],
            "metadata": {}
        },
        {
            "cell_type": "markdown",
            "source": [
                "# Load JSON Files into Pandas Dataframe"
            ],
            "metadata": {}
        },
        {
            "cell_type": "code",
            "execution_count": 2,
            "source": [
                "filename = 'cluster_20-trump_ president_ king.json'\r\n",
                "path = './lda_clustered_json/'+filename\r\n",
                " \r\n",
                "with open(path, encoding='utf-8', mode='r') as currentFile:\r\n",
                "    df = pd.read_json(currentFile, orient='index')\r\n",
                "\r\n",
                "df.head(3)"
            ],
            "outputs": [
                {
                    "output_type": "execute_result",
                    "data": {
                        "text/html": [
                            "<div>\n",
                            "<style scoped>\n",
                            "    .dataframe tbody tr th:only-of-type {\n",
                            "        vertical-align: middle;\n",
                            "    }\n",
                            "\n",
                            "    .dataframe tbody tr th {\n",
                            "        vertical-align: top;\n",
                            "    }\n",
                            "\n",
                            "    .dataframe thead th {\n",
                            "        text-align: right;\n",
                            "    }\n",
                            "</style>\n",
                            "<table border=\"1\" class=\"dataframe\">\n",
                            "  <thead>\n",
                            "    <tr style=\"text-align: right;\">\n",
                            "      <th></th>\n",
                            "      <th>date_download</th>\n",
                            "      <th>date_modify</th>\n",
                            "      <th>date_publish</th>\n",
                            "      <th>description</th>\n",
                            "      <th>language</th>\n",
                            "      <th>source_domain</th>\n",
                            "      <th>maintext</th>\n",
                            "      <th>title</th>\n",
                            "      <th>url</th>\n",
                            "      <th>clusterID</th>\n",
                            "      <th>topic_percentage</th>\n",
                            "      <th>topic_keywords</th>\n",
                            "      <th>filtered_maintext</th>\n",
                            "    </tr>\n",
                            "  </thead>\n",
                            "  <tbody>\n",
                            "    <tr>\n",
                            "      <th>35</th>\n",
                            "      <td>07/14/2021, 01:04:12</td>\n",
                            "      <td>07/14/2021, 01:04:12</td>\n",
                            "      <td>06/12/2021, 15:53:42</td>\n",
                            "      <td>By Pam Benson The intelligence community - not...</td>\n",
                            "      <td>en</td>\n",
                            "      <td>security.blogs.cnn.com</td>\n",
                            "      <td>By Pam Benson The intelligence community - not...</td>\n",
                            "      <td>Official: Changes to Benghazi talking points m...</td>\n",
                            "      <td>https://security.blogs.cnn.com/2012/11/19/offi...</td>\n",
                            "      <td>20</td>\n",
                            "      <td>0.53227</td>\n",
                            "      <td>trump, president, king, obama, house, stone, h...</td>\n",
                            "      <td>pam benson intelligence community white house ...</td>\n",
                            "    </tr>\n",
                            "    <tr>\n",
                            "      <th>37</th>\n",
                            "      <td>07/14/2021, 01:04:12</td>\n",
                            "      <td>07/14/2021, 01:04:12</td>\n",
                            "      <td>06/12/2021, 15:22:34</td>\n",
                            "      <td>To complete your CNN profile and ensure you ar...</td>\n",
                            "      <td>en</td>\n",
                            "      <td>www.cnn.com</td>\n",
                            "      <td>To complete your CNN profile and ensure you ar...</td>\n",
                            "      <td>Evan McMullin runs for White House to take on ...</td>\n",
                            "      <td>https://www.cnn.com/2016/08/08/politics/evan-m...</td>\n",
                            "      <td>20</td>\n",
                            "      <td>0.98567</td>\n",
                            "      <td>trump, president, king, obama, house, stone, h...</td>\n",
                            "      <td>profile account button conditions privacy poli...</td>\n",
                            "    </tr>\n",
                            "    <tr>\n",
                            "      <th>60</th>\n",
                            "      <td>07/14/2021, 01:08:34</td>\n",
                            "      <td>07/14/2021, 01:08:34</td>\n",
                            "      <td>06/13/2021, 06:29:30</td>\n",
                            "      <td>To complete your CNN profile and ensure you ar...</td>\n",
                            "      <td>en</td>\n",
                            "      <td>www.cnn.com</td>\n",
                            "      <td>To complete your CNN profile and ensure you ar...</td>\n",
                            "      <td>Deputy AG defends AP subpoenas | CNN</td>\n",
                            "      <td>https://www.cnn.com/2013/05/14/us/justice-ap-p...</td>\n",
                            "      <td>20</td>\n",
                            "      <td>0.65164</td>\n",
                            "      <td>trump, president, king, obama, house, stone, h...</td>\n",
                            "      <td>profile account button conditions privacy poli...</td>\n",
                            "    </tr>\n",
                            "  </tbody>\n",
                            "</table>\n",
                            "</div>"
                        ],
                        "text/plain": [
                            "           date_download           date_modify          date_publish  \\\n",
                            "35  07/14/2021, 01:04:12  07/14/2021, 01:04:12  06/12/2021, 15:53:42   \n",
                            "37  07/14/2021, 01:04:12  07/14/2021, 01:04:12  06/12/2021, 15:22:34   \n",
                            "60  07/14/2021, 01:08:34  07/14/2021, 01:08:34  06/13/2021, 06:29:30   \n",
                            "\n",
                            "                                          description language  \\\n",
                            "35  By Pam Benson The intelligence community - not...       en   \n",
                            "37  To complete your CNN profile and ensure you ar...       en   \n",
                            "60  To complete your CNN profile and ensure you ar...       en   \n",
                            "\n",
                            "             source_domain                                           maintext  \\\n",
                            "35  security.blogs.cnn.com  By Pam Benson The intelligence community - not...   \n",
                            "37             www.cnn.com  To complete your CNN profile and ensure you ar...   \n",
                            "60             www.cnn.com  To complete your CNN profile and ensure you ar...   \n",
                            "\n",
                            "                                                title  \\\n",
                            "35  Official: Changes to Benghazi talking points m...   \n",
                            "37  Evan McMullin runs for White House to take on ...   \n",
                            "60               Deputy AG defends AP subpoenas | CNN   \n",
                            "\n",
                            "                                                  url  clusterID  \\\n",
                            "35  https://security.blogs.cnn.com/2012/11/19/offi...         20   \n",
                            "37  https://www.cnn.com/2016/08/08/politics/evan-m...         20   \n",
                            "60  https://www.cnn.com/2013/05/14/us/justice-ap-p...         20   \n",
                            "\n",
                            "    topic_percentage                                     topic_keywords  \\\n",
                            "35           0.53227  trump, president, king, obama, house, stone, h...   \n",
                            "37           0.98567  trump, president, king, obama, house, stone, h...   \n",
                            "60           0.65164  trump, president, king, obama, house, stone, h...   \n",
                            "\n",
                            "                                    filtered_maintext  \n",
                            "35  pam benson intelligence community white house ...  \n",
                            "37  profile account button conditions privacy poli...  \n",
                            "60  profile account button conditions privacy poli...  "
                        ]
                    },
                    "metadata": {},
                    "execution_count": 2
                }
            ],
            "metadata": {}
        },
        {
            "cell_type": "code",
            "execution_count": 3,
            "source": [
                "amount_of_articles = len(df[\"filtered_maintext\"])\r\n",
                "print(f\"Amount of articles: {amount_of_articles}\")\r\n",
                "processed_articles = df['filtered_maintext']"
            ],
            "outputs": [
                {
                    "output_type": "stream",
                    "name": "stdout",
                    "text": [
                        "Amount of articles: 9899\n"
                    ]
                }
            ],
            "metadata": {}
        },
        {
            "cell_type": "code",
            "execution_count": 4,
            "source": [
                "from sklearn.feature_extraction.text import TfidfVectorizer\r\n",
                "\r\n",
                "tfidfconverter = TfidfVectorizer(lowercase=True, stop_words='english', min_df=0.05 , max_df=0.6)  \r\n",
                "tfidf = tfidfconverter.fit_transform(processed_articles)\r\n",
                "words = tfidfconverter.get_feature_names()\r\n",
                "print(tfidf)"
            ],
            "outputs": [
                {
                    "output_type": "stream",
                    "name": "stdout",
                    "text": [
                        "  (0, 358)\t0.04187934448214907\n",
                        "  (0, 726)\t0.019535736185985763\n",
                        "  (0, 662)\t0.02982178096413444\n",
                        "  (0, 238)\t0.039497745371298486\n",
                        "  (0, 668)\t0.04240645378786761\n",
                        "  (0, 606)\t0.0753536205897937\n",
                        "  (0, 516)\t0.028552183299019634\n",
                        "  (0, 488)\t0.04076590384798725\n",
                        "  (0, 147)\t0.0457561397560888\n",
                        "  (0, 613)\t0.06129741037374882\n",
                        "  (0, 457)\t0.035819630827409486\n",
                        "  (0, 389)\t0.03440039864649566\n",
                        "  (0, 288)\t0.03493602113688847\n",
                        "  (0, 387)\t0.03287563052201695\n",
                        "  (0, 83)\t0.044864642892631104\n",
                        "  (0, 297)\t0.14162945196115412\n",
                        "  (0, 489)\t0.04045267783562697\n",
                        "  (0, 739)\t0.05904934502875641\n",
                        "  (0, 412)\t0.07115375791607371\n",
                        "  (0, 276)\t0.04258214499770199\n",
                        "  (0, 649)\t0.0435194269450302\n",
                        "  (0, 222)\t0.07000730491902885\n",
                        "  (0, 57)\t0.035819630827409486\n",
                        "  (0, 202)\t0.02978355005242834\n",
                        "  (0, 258)\t0.03705362373152568\n",
                        "  :\t:\n",
                        "  (9898, 408)\t0.12465263263213797\n",
                        "  (9898, 441)\t0.1689030508791322\n",
                        "  (9898, 254)\t0.09217886095145895\n",
                        "  (9898, 566)\t0.08585685380891703\n",
                        "  (9898, 241)\t0.10962709335047421\n",
                        "  (9898, 378)\t0.08836659920042579\n",
                        "  (9898, 430)\t0.1401176228366809\n",
                        "  (9898, 4)\t0.18751158588075303\n",
                        "  (9898, 726)\t0.15674862803776474\n",
                        "  (9898, 606)\t0.13435863307324308\n",
                        "  (9898, 516)\t0.15272918365249297\n",
                        "  (9898, 554)\t0.3852980009995704\n",
                        "  (9898, 496)\t0.10563744865470891\n",
                        "  (9898, 12)\t0.059072843867986995\n",
                        "  (9898, 161)\t0.06364860927058513\n",
                        "  (9898, 571)\t0.22281276190645516\n",
                        "  (9898, 560)\t0.10031158851580937\n",
                        "  (9898, 35)\t0.0717391747993302\n",
                        "  (9898, 31)\t0.10844582991842902\n",
                        "  (9898, 203)\t0.09907526824929626\n",
                        "  (9898, 553)\t0.08054531117392127\n",
                        "  (9898, 55)\t0.15378935208298833\n",
                        "  (9898, 453)\t0.06565377645480369\n",
                        "  (9898, 300)\t0.06173817003113315\n",
                        "  (9898, 215)\t0.3653629487803236\n"
                    ]
                }
            ],
            "metadata": {}
        },
        {
            "cell_type": "code",
            "execution_count": 5,
            "source": [
                "from sklearn.metrics.pairwise import cosine_distances\r\n",
                "\r\n",
                "cosine_similarity = cosine_distances(tfidf)\r\n",
                "cosine_similarity"
            ],
            "outputs": [
                {
                    "output_type": "execute_result",
                    "data": {
                        "text/plain": [
                            "array([[0.        , 0.92062385, 0.75031194, ..., 0.91756832, 0.78152125,\n",
                            "        0.82355272],\n",
                            "       [0.92062385, 0.        , 0.85941121, ..., 0.95150893, 0.94356035,\n",
                            "        0.8900695 ],\n",
                            "       [0.75031194, 0.85941121, 0.        , ..., 0.90483841, 0.63555379,\n",
                            "        0.7678456 ],\n",
                            "       ...,\n",
                            "       [0.91756832, 0.95150893, 0.90483841, ..., 0.        , 0.92324768,\n",
                            "        0.92177877],\n",
                            "       [0.78152125, 0.94356035, 0.63555379, ..., 0.92324768, 0.        ,\n",
                            "        0.7985514 ],\n",
                            "       [0.82355272, 0.8900695 , 0.7678456 , ..., 0.92177877, 0.7985514 ,\n",
                            "        0.        ]])"
                        ]
                    },
                    "metadata": {},
                    "execution_count": 5
                }
            ],
            "metadata": {}
        },
        {
            "cell_type": "code",
            "execution_count": 6,
            "source": [
                "from sklearn.cluster import AffinityPropagation"
            ],
            "outputs": [],
            "metadata": {}
        },
        {
            "cell_type": "code",
            "execution_count": 7,
            "source": [
                "'''\r\n",
                "clustering = AffinityPropagation(convergence_iter=5, affinity='precomputed', random_state=10)\r\n",
                "clustering.fit(cosine_similarity)\r\n",
                "labels = clustering.labels_\r\n",
                "print(labels.dtype)\r\n",
                "#cluster_centers = clustering.cluster_centers_\r\n",
                "cluster_centers_indices = clustering.cluster_centers_indices_\r\n",
                "n_clusters_ = len(cluster_centers_indices)\r\n",
                "print(n_clusters_)'''"
            ],
            "outputs": [
                {
                    "output_type": "execute_result",
                    "data": {
                        "text/plain": [
                            "\"\\nclustering = AffinityPropagation(convergence_iter=5, affinity='precomputed', random_state=10)\\nclustering.fit(cosine_similarity)\\nlabels = clustering.labels_\\nprint(labels.dtype)\\n#cluster_centers = clustering.cluster_centers_\\ncluster_centers_indices = clustering.cluster_centers_indices_\\nn_clusters_ = len(cluster_centers_indices)\\nprint(n_clusters_)\""
                        ]
                    },
                    "metadata": {},
                    "execution_count": 7
                }
            ],
            "metadata": {}
        },
        {
            "cell_type": "code",
            "execution_count": 8,
            "source": [
                "'''\r\n",
                "import matplotlib.pyplot as plt\r\n",
                "from itertools import cycle\r\n",
                "\r\n",
                "plt.close('all')\r\n",
                "plt.figure(1)\r\n",
                "plt.clf()\r\n",
                "\r\n",
                "colors = cycle('bgrcmykbgrcmykbgrcmykbgrcmyk')\r\n",
                "for k, col in zip(range(n_clusters_), colors):\r\n",
                "    class_members = labels == k\r\n",
                "    cluster_center = cosine_similarity[cluster_centers_indices[k]]\r\n",
                "    plt.plot(cosine_similarity[class_members, 0], cosine_similarity[class_members, 1], col + '.')\r\n",
                "    plt.plot(cluster_center[0], cluster_center[1], 'o', markerfacecolor=col,\r\n",
                "             markeredgecolor='k', markersize=14)\r\n",
                "    for x in cosine_similarity[class_members]:\r\n",
                "        plt.plot([cluster_center[0], x[0]], [cluster_center[1], x[1]], col)\r\n",
                "\r\n",
                "plt.title('Estimated number of clusters: %d' % n_clusters_)\r\n",
                "plt.show()'''"
            ],
            "outputs": [
                {
                    "output_type": "execute_result",
                    "data": {
                        "text/plain": [
                            "\"\\nimport matplotlib.pyplot as plt\\nfrom itertools import cycle\\n\\nplt.close('all')\\nplt.figure(1)\\nplt.clf()\\n\\ncolors = cycle('bgrcmykbgrcmykbgrcmykbgrcmyk')\\nfor k, col in zip(range(n_clusters_), colors):\\n    class_members = labels == k\\n    cluster_center = cosine_similarity[cluster_centers_indices[k]]\\n    plt.plot(cosine_similarity[class_members, 0], cosine_similarity[class_members, 1], col + '.')\\n    plt.plot(cluster_center[0], cluster_center[1], 'o', markerfacecolor=col,\\n             markeredgecolor='k', markersize=14)\\n    for x in cosine_similarity[class_members]:\\n        plt.plot([cluster_center[0], x[0]], [cluster_center[1], x[1]], col)\\n\\nplt.title('Estimated number of clusters: %d' % n_clusters_)\\nplt.show()\""
                        ]
                    },
                    "metadata": {},
                    "execution_count": 8
                }
            ],
            "metadata": {}
        },
        {
            "cell_type": "code",
            "execution_count": 9,
            "source": [
                "'''\r\n",
                "df['processed_articles'] = processed_articles\r\n",
                "df['affpropID'] = clustering.labels_'''\r\n"
            ],
            "outputs": [
                {
                    "output_type": "execute_result",
                    "data": {
                        "text/plain": [
                            "\"\\ndf['processed_articles'] = processed_articles\\ndf['affpropID'] = clustering.labels_\""
                        ]
                    },
                    "metadata": {},
                    "execution_count": 9
                }
            ],
            "metadata": {}
        },
        {
            "cell_type": "code",
            "execution_count": 10,
            "source": [
                "df.head()"
            ],
            "outputs": [
                {
                    "output_type": "execute_result",
                    "data": {
                        "text/html": [
                            "<div>\n",
                            "<style scoped>\n",
                            "    .dataframe tbody tr th:only-of-type {\n",
                            "        vertical-align: middle;\n",
                            "    }\n",
                            "\n",
                            "    .dataframe tbody tr th {\n",
                            "        vertical-align: top;\n",
                            "    }\n",
                            "\n",
                            "    .dataframe thead th {\n",
                            "        text-align: right;\n",
                            "    }\n",
                            "</style>\n",
                            "<table border=\"1\" class=\"dataframe\">\n",
                            "  <thead>\n",
                            "    <tr style=\"text-align: right;\">\n",
                            "      <th></th>\n",
                            "      <th>date_download</th>\n",
                            "      <th>date_modify</th>\n",
                            "      <th>date_publish</th>\n",
                            "      <th>description</th>\n",
                            "      <th>language</th>\n",
                            "      <th>source_domain</th>\n",
                            "      <th>maintext</th>\n",
                            "      <th>title</th>\n",
                            "      <th>url</th>\n",
                            "      <th>clusterID</th>\n",
                            "      <th>topic_percentage</th>\n",
                            "      <th>topic_keywords</th>\n",
                            "      <th>filtered_maintext</th>\n",
                            "    </tr>\n",
                            "  </thead>\n",
                            "  <tbody>\n",
                            "    <tr>\n",
                            "      <th>35</th>\n",
                            "      <td>07/14/2021, 01:04:12</td>\n",
                            "      <td>07/14/2021, 01:04:12</td>\n",
                            "      <td>06/12/2021, 15:53:42</td>\n",
                            "      <td>By Pam Benson The intelligence community - not...</td>\n",
                            "      <td>en</td>\n",
                            "      <td>security.blogs.cnn.com</td>\n",
                            "      <td>By Pam Benson The intelligence community - not...</td>\n",
                            "      <td>Official: Changes to Benghazi talking points m...</td>\n",
                            "      <td>https://security.blogs.cnn.com/2012/11/19/offi...</td>\n",
                            "      <td>20</td>\n",
                            "      <td>0.53227</td>\n",
                            "      <td>trump, president, king, obama, house, stone, h...</td>\n",
                            "      <td>pam benson intelligence community white house ...</td>\n",
                            "    </tr>\n",
                            "    <tr>\n",
                            "      <th>37</th>\n",
                            "      <td>07/14/2021, 01:04:12</td>\n",
                            "      <td>07/14/2021, 01:04:12</td>\n",
                            "      <td>06/12/2021, 15:22:34</td>\n",
                            "      <td>To complete your CNN profile and ensure you ar...</td>\n",
                            "      <td>en</td>\n",
                            "      <td>www.cnn.com</td>\n",
                            "      <td>To complete your CNN profile and ensure you ar...</td>\n",
                            "      <td>Evan McMullin runs for White House to take on ...</td>\n",
                            "      <td>https://www.cnn.com/2016/08/08/politics/evan-m...</td>\n",
                            "      <td>20</td>\n",
                            "      <td>0.98567</td>\n",
                            "      <td>trump, president, king, obama, house, stone, h...</td>\n",
                            "      <td>profile account button conditions privacy poli...</td>\n",
                            "    </tr>\n",
                            "    <tr>\n",
                            "      <th>60</th>\n",
                            "      <td>07/14/2021, 01:08:34</td>\n",
                            "      <td>07/14/2021, 01:08:34</td>\n",
                            "      <td>06/13/2021, 06:29:30</td>\n",
                            "      <td>To complete your CNN profile and ensure you ar...</td>\n",
                            "      <td>en</td>\n",
                            "      <td>www.cnn.com</td>\n",
                            "      <td>To complete your CNN profile and ensure you ar...</td>\n",
                            "      <td>Deputy AG defends AP subpoenas | CNN</td>\n",
                            "      <td>https://www.cnn.com/2013/05/14/us/justice-ap-p...</td>\n",
                            "      <td>20</td>\n",
                            "      <td>0.65164</td>\n",
                            "      <td>trump, president, king, obama, house, stone, h...</td>\n",
                            "      <td>profile account button conditions privacy poli...</td>\n",
                            "    </tr>\n",
                            "    <tr>\n",
                            "      <th>68</th>\n",
                            "      <td>07/14/2021, 01:13:12</td>\n",
                            "      <td>07/14/2021, 01:13:12</td>\n",
                            "      <td>06/13/2021, 14:42:24</td>\n",
                            "      <td>Representative Joe L. Barton on Thursday quick...</td>\n",
                            "      <td>en</td>\n",
                            "      <td>thecaucus.blogs.nytimes.com</td>\n",
                            "      <td>Representative Joe L. Barton on Thursday quick...</td>\n",
                            "      <td>Barton: What I Really Meant to Say - The New Y...</td>\n",
                            "      <td>https://thecaucus.blogs.nytimes.com/2010/06/17...</td>\n",
                            "      <td>20</td>\n",
                            "      <td>0.74849</td>\n",
                            "      <td>trump, president, king, obama, house, stone, h...</td>\n",
                            "      <td>joe barton remark liability fund uproar democr...</td>\n",
                            "    </tr>\n",
                            "    <tr>\n",
                            "      <th>104</th>\n",
                            "      <td>07/14/2021, 01:17:07</td>\n",
                            "      <td>07/14/2021, 01:17:07</td>\n",
                            "      <td>06/13/2021, 21:41:10</td>\n",
                            "      <td>It doesn't matter. That's what some in the med...</td>\n",
                            "      <td>en</td>\n",
                            "      <td>www.breitbart.com</td>\n",
                            "      <td>It doesn't matter. That's what some in the med...</td>\n",
                            "      <td>Hillary Clinton's Long History of Hiding Docum...</td>\n",
                            "      <td>https://www.breitbart.com/politics/2015/03/04/...</td>\n",
                            "      <td>20</td>\n",
                            "      <td>0.68846</td>\n",
                            "      <td>trump, president, king, obama, house, stone, h...</td>\n",
                            "      <td>secretary hillary clinton decision server scru...</td>\n",
                            "    </tr>\n",
                            "  </tbody>\n",
                            "</table>\n",
                            "</div>"
                        ],
                        "text/plain": [
                            "            date_download           date_modify          date_publish  \\\n",
                            "35   07/14/2021, 01:04:12  07/14/2021, 01:04:12  06/12/2021, 15:53:42   \n",
                            "37   07/14/2021, 01:04:12  07/14/2021, 01:04:12  06/12/2021, 15:22:34   \n",
                            "60   07/14/2021, 01:08:34  07/14/2021, 01:08:34  06/13/2021, 06:29:30   \n",
                            "68   07/14/2021, 01:13:12  07/14/2021, 01:13:12  06/13/2021, 14:42:24   \n",
                            "104  07/14/2021, 01:17:07  07/14/2021, 01:17:07  06/13/2021, 21:41:10   \n",
                            "\n",
                            "                                           description language  \\\n",
                            "35   By Pam Benson The intelligence community - not...       en   \n",
                            "37   To complete your CNN profile and ensure you ar...       en   \n",
                            "60   To complete your CNN profile and ensure you ar...       en   \n",
                            "68   Representative Joe L. Barton on Thursday quick...       en   \n",
                            "104  It doesn't matter. That's what some in the med...       en   \n",
                            "\n",
                            "                   source_domain  \\\n",
                            "35        security.blogs.cnn.com   \n",
                            "37                   www.cnn.com   \n",
                            "60                   www.cnn.com   \n",
                            "68   thecaucus.blogs.nytimes.com   \n",
                            "104            www.breitbart.com   \n",
                            "\n",
                            "                                              maintext  \\\n",
                            "35   By Pam Benson The intelligence community - not...   \n",
                            "37   To complete your CNN profile and ensure you ar...   \n",
                            "60   To complete your CNN profile and ensure you ar...   \n",
                            "68   Representative Joe L. Barton on Thursday quick...   \n",
                            "104  It doesn't matter. That's what some in the med...   \n",
                            "\n",
                            "                                                 title  \\\n",
                            "35   Official: Changes to Benghazi talking points m...   \n",
                            "37   Evan McMullin runs for White House to take on ...   \n",
                            "60                Deputy AG defends AP subpoenas | CNN   \n",
                            "68   Barton: What I Really Meant to Say - The New Y...   \n",
                            "104  Hillary Clinton's Long History of Hiding Docum...   \n",
                            "\n",
                            "                                                   url  clusterID  \\\n",
                            "35   https://security.blogs.cnn.com/2012/11/19/offi...         20   \n",
                            "37   https://www.cnn.com/2016/08/08/politics/evan-m...         20   \n",
                            "60   https://www.cnn.com/2013/05/14/us/justice-ap-p...         20   \n",
                            "68   https://thecaucus.blogs.nytimes.com/2010/06/17...         20   \n",
                            "104  https://www.breitbart.com/politics/2015/03/04/...         20   \n",
                            "\n",
                            "     topic_percentage                                     topic_keywords  \\\n",
                            "35            0.53227  trump, president, king, obama, house, stone, h...   \n",
                            "37            0.98567  trump, president, king, obama, house, stone, h...   \n",
                            "60            0.65164  trump, president, king, obama, house, stone, h...   \n",
                            "68            0.74849  trump, president, king, obama, house, stone, h...   \n",
                            "104           0.68846  trump, president, king, obama, house, stone, h...   \n",
                            "\n",
                            "                                     filtered_maintext  \n",
                            "35   pam benson intelligence community white house ...  \n",
                            "37   profile account button conditions privacy poli...  \n",
                            "60   profile account button conditions privacy poli...  \n",
                            "68   joe barton remark liability fund uproar democr...  \n",
                            "104  secretary hillary clinton decision server scru...  "
                        ]
                    },
                    "metadata": {},
                    "execution_count": 10
                }
            ],
            "metadata": {}
        },
        {
            "cell_type": "code",
            "execution_count": 11,
            "source": [
                "from sklearn.cluster import KMeans\r\n",
                "from scipy.spatial.distance import cdist\r\n",
                "from sklearn import metrics"
            ],
            "outputs": [],
            "metadata": {}
        },
        {
            "cell_type": "code",
            "execution_count": 46,
            "source": [
                "max_clusters = 20"
            ],
            "outputs": [],
            "metadata": {}
        },
        {
            "cell_type": "code",
            "execution_count": 47,
            "source": [
                "from scipy.spatial.distance import cdist\r\n",
                "import numpy as np\r\n",
                "\r\n",
                "distortions = []\r\n",
                "inertias = []\r\n",
                "mapping1 = {}\r\n",
                "mapping2 = {}\r\n",
                "\r\n",
                "K = range(2,max_clusters)\r\n",
                "X = np.matrix(tfidf.toarray())\r\n",
                "for i in K:\r\n",
                "    print(\"Iteration: \" + str(i))\r\n",
                "    kMeans = KMeans(n_clusters=i, max_iter=400).fit(tfidf)\r\n",
                "    kMeans.predict(tfidf)\r\n",
                "    labels = kMeans.labels_\r\n",
                "    cluster_centers = kMeans.cluster_centers_\r\n",
                "    inertias.append(kMeans.inertia_)\r\n",
                "    distortions.append(sum(np.min(cdist(X, cluster_centers,\r\n",
                "                                        'euclidean'), axis=1)) / X.shape[0])\r\n",
                "\r\n",
                "    this_silhouette = metrics.silhouette_score(tfidf.toarray(), labels, metric='sqeuclidean')\r\n",
                "\r\n",
                "    print(\"Silhouette Score: \" + str(this_silhouette))\r\n",
                "\r\n",
                "    mapping1[i] =  sum(np.min(cdist(X, cluster_centers,\r\n",
                "                                   'euclidean'), axis=1)) / X.shape[0]\r\n",
                "    mapping2[i] = kMeans.inertia_\r\n",
                "\r\n",
                "    common_words = kMeans.cluster_centers_.argsort()[:,-1:-11:-1]\r\n",
                "    for num, centroid in enumerate(common_words):\r\n",
                "        print(str(num) + ' : ' + ', '.join(words[word] for word in centroid))"
            ],
            "outputs": [
                {
                    "output_type": "stream",
                    "name": "stdout",
                    "text": [
                        "Iteration: 2\n"
                    ]
                }
            ],
            "metadata": {}
        },
        {
            "cell_type": "code",
            "execution_count": null,
            "source": [
                "for key, val in mapping2.items():\r\n",
                "    print(f'{key} : {val}')"
            ],
            "outputs": [
                {
                    "output_type": "stream",
                    "name": "stdout",
                    "text": [
                        "2 : 8898.07564655117\n",
                        "3 : 8783.882365424626\n",
                        "4 : 8679.46404081027\n"
                    ]
                }
            ],
            "metadata": {}
        },
        {
            "cell_type": "code",
            "execution_count": null,
            "source": [
                "import matplotlib.pyplot as plt\r\n",
                "\r\n",
                "plt.plot(K, inertias, 'bx-')\r\n",
                "plt.xlabel('Values of K')\r\n",
                "plt.ylabel('Inertia')\r\n",
                "plt.title('The Elbow Method using Inertia')\r\n",
                "plt.show()"
            ],
            "outputs": [
                {
                    "output_type": "display_data",
                    "data": {
                        "image/png": "[encoded data removed]",
                        "text/plain": [
                            "<Figure size 432x288 with 1 Axes>"
                        ]
                    },
                    "metadata": {
                        "needs_background": "light"
                    }
                }
            ],
            "metadata": {}
        },
        {
            "cell_type": "code",
            "execution_count": null,
            "source": [
                "for key, val in mapping1.items():\r\n",
                "    print(f'{key} : {val}')"
            ],
            "outputs": [
                {
                    "output_type": "stream",
                    "name": "stdout",
                    "text": [
                        "2 : 0.9476436861840061\n",
                        "3 : 0.9411285185813134\n",
                        "4 : 0.9352902859909397\n"
                    ]
                }
            ],
            "metadata": {}
        },
        {
            "cell_type": "code",
            "execution_count": null,
            "source": [
                "plt.plot(K, distortions, 'bx-')\r\n",
                "plt.xlabel('Values of K')\r\n",
                "plt.ylabel('Distortion')\r\n",
                "plt.title('The Elbow Method using Distortion')\r\n",
                "plt.show()"
            ],
            "outputs": [
                {
                    "output_type": "display_data",
                    "data": {
                        "image/png": "[encoded data removed]",
                        "text/plain": [
                            "<Figure size 432x288 with 1 Axes>"
                        ]
                    },
                    "metadata": {
                        "needs_background": "light"
                    }
                }
            ],
            "metadata": {}
        }
    ],
    "metadata": {
        "orig_nbformat": 4,
        "language_info": {
            "name": "python",
            "version": "3.9.5",
            "mimetype": "text/x-python",
            "codemirror_mode": {
                "name": "ipython",
                "version": 3
            },
            "pygments_lexer": "ipython3",
            "nbconvert_exporter": "python",
            "file_extension": ".py"
        },
        "kernelspec": {
            "name": "python3",
            "display_name": "Python 3.9.5 64-bit ('kcc': conda)"
        },
        "interpreter": {
            "hash": "21ab713a94b9dff8ceab4d966c04cbd434fb99e8b3685c982045bb942eef746a"
        }
    },
    "nbformat": 4,
    "nbformat_minor": 2
}