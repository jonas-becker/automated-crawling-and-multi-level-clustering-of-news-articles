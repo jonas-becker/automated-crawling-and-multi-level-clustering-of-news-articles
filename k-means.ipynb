{
 "metadata": {
  "language_info": {
   "codemirror_mode": {
    "name": "ipython",
    "version": 3
   },
   "file_extension": ".py",
   "mimetype": "text/x-python",
   "name": "python",
   "nbconvert_exporter": "python",
   "pygments_lexer": "ipython3",
   "version": "3.9.4"
  },
  "orig_nbformat": 4,
  "kernelspec": {
   "name": "python3",
   "display_name": "Python 3.9.4 64-bit ('kccs': conda)"
  },
  "interpreter": {
   "hash": "d7b8994cdf06398bb1d6bc43ff8b2ebd874fbdc1b32ac998f9bfa73841ea6f5e"
  }
 },
 "nbformat": 4,
 "nbformat_minor": 2,
 "cells": [
  {
   "cell_type": "code",
   "execution_count": 45,
   "metadata": {},
   "outputs": [],
   "source": [
    "import pandas as pd\n",
    "import numpy as np"
   ]
  },
  {
   "cell_type": "code",
   "execution_count": 46,
   "metadata": {},
   "outputs": [
    {
     "output_type": "execute_result",
     "data": {
      "text/plain": [
       "          date_download           date_modify          date_publish  \\\n",
       "0  06/09/2021, 00:40:28  06/09/2021, 00:40:28  03/28/2020, 14:58:03   \n",
       "1  06/09/2021, 00:40:28  06/09/2021, 00:40:28  03/28/2020, 16:15:00   \n",
       "\n",
       "                                         description language  \\\n",
       "0  Neighbors » Forums » General Discussion » Arti...       en   \n",
       "1  Neighbors » Forums » Sports News » Denver Bron...       en   \n",
       "\n",
       "              source_domain  \\\n",
       "0  neighbors.denverpost.com   \n",
       "1  neighbors.denverpost.com   \n",
       "\n",
       "                                            maintext  \\\n",
       "0  Neighbors » Forums » General Discussion » Arti...   \n",
       "1  Neighbors » Forums » Sports News » Denver Bron...   \n",
       "\n",
       "                                               title  \\\n",
       "0  Denver Post poll: Most Coloradans support NRA,...   \n",
       "1  Elvis Dumervil agrees to contract with Baltimo...   \n",
       "\n",
       "                                                 url  \n",
       "0  http://neighbors.denverpost.com/viewtopic.php?...  \n",
       "1  http://neighbors.denverpost.com/viewtopic.php?...  "
      ],
      "text/html": "<div>\n<style scoped>\n    .dataframe tbody tr th:only-of-type {\n        vertical-align: middle;\n    }\n\n    .dataframe tbody tr th {\n        vertical-align: top;\n    }\n\n    .dataframe thead th {\n        text-align: right;\n    }\n</style>\n<table border=\"1\" class=\"dataframe\">\n  <thead>\n    <tr style=\"text-align: right;\">\n      <th></th>\n      <th>date_download</th>\n      <th>date_modify</th>\n      <th>date_publish</th>\n      <th>description</th>\n      <th>language</th>\n      <th>source_domain</th>\n      <th>maintext</th>\n      <th>title</th>\n      <th>url</th>\n    </tr>\n  </thead>\n  <tbody>\n    <tr>\n      <th>0</th>\n      <td>06/09/2021, 00:40:28</td>\n      <td>06/09/2021, 00:40:28</td>\n      <td>03/28/2020, 14:58:03</td>\n      <td>Neighbors » Forums » General Discussion » Arti...</td>\n      <td>en</td>\n      <td>neighbors.denverpost.com</td>\n      <td>Neighbors » Forums » General Discussion » Arti...</td>\n      <td>Denver Post poll: Most Coloradans support NRA,...</td>\n      <td>http://neighbors.denverpost.com/viewtopic.php?...</td>\n    </tr>\n    <tr>\n      <th>1</th>\n      <td>06/09/2021, 00:40:28</td>\n      <td>06/09/2021, 00:40:28</td>\n      <td>03/28/2020, 16:15:00</td>\n      <td>Neighbors » Forums » Sports News » Denver Bron...</td>\n      <td>en</td>\n      <td>neighbors.denverpost.com</td>\n      <td>Neighbors » Forums » Sports News » Denver Bron...</td>\n      <td>Elvis Dumervil agrees to contract with Baltimo...</td>\n      <td>http://neighbors.denverpost.com/viewtopic.php?...</td>\n    </tr>\n  </tbody>\n</table>\n</div>"
     },
     "metadata": {},
     "execution_count": 46
    }
   ],
   "source": [
    "PATH = '.\\crawl_json\\crawl_0_0.json'\n",
    "\n",
    "df = pd.read_json(PATH, orient='index')\n",
    "df.drop(['authors', 'image_url', 'localpath', 'title_page', 'title_rss'], axis = 1, inplace = True)\n",
    "df.head(2)"
   ]
  },
  {
   "cell_type": "code",
   "execution_count": 47,
   "metadata": {},
   "outputs": [
    {
     "output_type": "stream",
     "name": "stderr",
     "text": [
      "[nltk_data] Downloading package punkt to\n[nltk_data]     C:\\Users\\snake\\AppData\\Roaming\\nltk_data...\n[nltk_data]   Package punkt is already up-to-date!\n[nltk_data] Downloading package averaged_perceptron_tagger to\n[nltk_data]     C:\\Users\\snake\\AppData\\Roaming\\nltk_data...\n[nltk_data]   Package averaged_perceptron_tagger is already up-to-\n[nltk_data]       date!\n"
     ]
    },
    {
     "output_type": "execute_result",
     "data": {
      "text/plain": [
       "True"
      ]
     },
     "metadata": {},
     "execution_count": 47
    }
   ],
   "source": [
    "import nltk\n",
    "from textblob import TextBlob\n",
    "nltk.download('punkt')\n",
    "nltk.download('averaged_perceptron_tagger')"
   ]
  },
  {
   "cell_type": "code",
   "execution_count": 48,
   "metadata": {
    "tags": []
   },
   "outputs": [
    {
     "output_type": "execute_result",
     "data": {
      "text/plain": [
       "          date_download           date_modify          date_publish  \\\n",
       "0  06/09/2021, 00:40:28  06/09/2021, 00:40:28  03/28/2020, 14:58:03   \n",
       "1  06/09/2021, 00:40:28  06/09/2021, 00:40:28  03/28/2020, 16:15:00   \n",
       "2  06/09/2021, 00:40:28  06/09/2021, 00:40:28  03/28/2020, 15:43:08   \n",
       "\n",
       "                                         description language  \\\n",
       "0  Neighbors » Forums » General Discussion » Arti...       en   \n",
       "1  Neighbors » Forums » Sports News » Denver Bron...       en   \n",
       "2  Art historian Kelly Grovier looks at images th...       en   \n",
       "\n",
       "              source_domain  \\\n",
       "0  neighbors.denverpost.com   \n",
       "1  neighbors.denverpost.com   \n",
       "2               www.bbc.com   \n",
       "\n",
       "                                            maintext  \\\n",
       "0  Neighbors » Forums » General Discussion » Arti...   \n",
       "1  Neighbors » Forums » Sports News » Denver Bron...   \n",
       "2   Art historian Kelly Grovier looks at images t...   \n",
       "\n",
       "                                               title  \\\n",
       "0  Denver Post poll: Most Coloradans support NRA,...   \n",
       "1  Elvis Dumervil agrees to contract with Baltimo...   \n",
       "2   BBC - Culture - The painting that tricks the eye   \n",
       "\n",
       "                                                 url  \\\n",
       "0  http://neighbors.denverpost.com/viewtopic.php?...   \n",
       "1  http://neighbors.denverpost.com/viewtopic.php?...   \n",
       "2  http://www.bbc.com/culture/story/20160304-the-...   \n",
       "\n",
       "                                     tokenized_words  \\\n",
       "0  [Neighbors, », Forums, », General, Discussion,...   \n",
       "1  [Neighbors, », Forums, », Sports, News, », Den...   \n",
       "2  [Art, historian, Kelly, Grovier, looks, at, im...   \n",
       "\n",
       "                                               nouns  \n",
       "0  [Neighbors, Forums, », General, Discussion, »,...  \n",
       "1  [Neighbors, Forums, », Sports, News, », Denver...  \n",
       "2  [Art, historian, Kelly, Grovier, images, frame...  "
      ],
      "text/html": "<div>\n<style scoped>\n    .dataframe tbody tr th:only-of-type {\n        vertical-align: middle;\n    }\n\n    .dataframe tbody tr th {\n        vertical-align: top;\n    }\n\n    .dataframe thead th {\n        text-align: right;\n    }\n</style>\n<table border=\"1\" class=\"dataframe\">\n  <thead>\n    <tr style=\"text-align: right;\">\n      <th></th>\n      <th>date_download</th>\n      <th>date_modify</th>\n      <th>date_publish</th>\n      <th>description</th>\n      <th>language</th>\n      <th>source_domain</th>\n      <th>maintext</th>\n      <th>title</th>\n      <th>url</th>\n      <th>tokenized_words</th>\n      <th>nouns</th>\n    </tr>\n  </thead>\n  <tbody>\n    <tr>\n      <th>0</th>\n      <td>06/09/2021, 00:40:28</td>\n      <td>06/09/2021, 00:40:28</td>\n      <td>03/28/2020, 14:58:03</td>\n      <td>Neighbors » Forums » General Discussion » Arti...</td>\n      <td>en</td>\n      <td>neighbors.denverpost.com</td>\n      <td>Neighbors » Forums » General Discussion » Arti...</td>\n      <td>Denver Post poll: Most Coloradans support NRA,...</td>\n      <td>http://neighbors.denverpost.com/viewtopic.php?...</td>\n      <td>[Neighbors, », Forums, », General, Discussion,...</td>\n      <td>[Neighbors, Forums, », General, Discussion, »,...</td>\n    </tr>\n    <tr>\n      <th>1</th>\n      <td>06/09/2021, 00:40:28</td>\n      <td>06/09/2021, 00:40:28</td>\n      <td>03/28/2020, 16:15:00</td>\n      <td>Neighbors » Forums » Sports News » Denver Bron...</td>\n      <td>en</td>\n      <td>neighbors.denverpost.com</td>\n      <td>Neighbors » Forums » Sports News » Denver Bron...</td>\n      <td>Elvis Dumervil agrees to contract with Baltimo...</td>\n      <td>http://neighbors.denverpost.com/viewtopic.php?...</td>\n      <td>[Neighbors, », Forums, », Sports, News, », Den...</td>\n      <td>[Neighbors, Forums, », Sports, News, », Denver...</td>\n    </tr>\n    <tr>\n      <th>2</th>\n      <td>06/09/2021, 00:40:28</td>\n      <td>06/09/2021, 00:40:28</td>\n      <td>03/28/2020, 15:43:08</td>\n      <td>Art historian Kelly Grovier looks at images th...</td>\n      <td>en</td>\n      <td>www.bbc.com</td>\n      <td>Art historian Kelly Grovier looks at images t...</td>\n      <td>BBC - Culture - The painting that tricks the eye</td>\n      <td>http://www.bbc.com/culture/story/20160304-the-...</td>\n      <td>[Art, historian, Kelly, Grovier, looks, at, im...</td>\n      <td>[Art, historian, Kelly, Grovier, images, frame...</td>\n    </tr>\n  </tbody>\n</table>\n</div>"
     },
     "metadata": {},
     "execution_count": 48
    }
   ],
   "source": [
    "is_noun = lambda pos: pos[:2] == 'NN'\n",
    "nouns = []\n",
    "df['tokenized_words'] = df['maintext'].apply(nltk.word_tokenize)\n",
    "\n",
    "for element in df[\"tokenized_words\"]:\n",
    "    nouns.append([word for (word, pos) in nltk.pos_tag(element) if is_noun(pos)]) \n",
    "\n",
    "df[\"nouns\"] = nouns     #not optimal yet but doe the job\n",
    "\n",
    "df.head(3)\n",
    "\n"
   ]
  },
  {
   "cell_type": "code",
   "execution_count": 55,
   "metadata": {},
   "outputs": [],
   "source": [
    "from sklearn.feature_extraction.text import TfidfVectorizer\n",
    "from sklearn.feature_extraction.text import CountVectorizer\n",
    "from sklearn.feature_extraction.text import TfidfTransformer"
   ]
  },
  {
   "cell_type": "code",
   "execution_count": 66,
   "metadata": {},
   "outputs": [],
   "source": [
    "def vectorize_texts(list_of_strings):\n",
    "    vectorizer = CountVectorizer()\n",
    "    X = vectorizer.fit_transform(list_of_strings)\n",
    "    transformer = TfidfTransformer(smooth_idf=False)\n",
    "    tfidf = transformer.fit_transform(X)\n",
    "    return tfidf\n",
    "    "
   ]
  },
  {
   "cell_type": "code",
   "execution_count": 67,
   "metadata": {},
   "outputs": [],
   "source": [
    "vectorized_text = []\n",
    "for index, elements in enumerate(nouns):\n",
    "    vectorized_text.append(vectorize_texts(element))"
   ]
  },
  {
   "cell_type": "code",
   "execution_count": 70,
   "metadata": {},
   "outputs": [
    {
     "output_type": "stream",
     "name": "stdout",
     "text": [
      "[<168x91 sparse matrix of type '<class 'numpy.float64'>'\n\twith 169 stored elements in Compressed Sparse Row format>, <168x91 sparse matrix of type '<class 'numpy.float64'>'\n\twith 169 stored elements in Compressed Sparse Row format>, <168x91 sparse matrix of type '<class 'numpy.float64'>'\n\twith 169 stored elements in Compressed Sparse Row format>, <168x91 sparse matrix of type '<class 'numpy.float64'>'\n\twith 169 stored elements in Compressed Sparse Row format>, <168x91 sparse matrix of type '<class 'numpy.float64'>'\n\twith 169 stored elements in Compressed Sparse Row format>, <168x91 sparse matrix of type '<class 'numpy.float64'>'\n\twith 169 stored elements in Compressed Sparse Row format>, <168x91 sparse matrix of type '<class 'numpy.float64'>'\n\twith 169 stored elements in Compressed Sparse Row format>, <168x91 sparse matrix of type '<class 'numpy.float64'>'\n\twith 169 stored elements in Compressed Sparse Row format>, <168x91 sparse matrix of type '<class 'numpy.float64'>'\n\twith 169 stored elements in Compressed Sparse Row format>, <168x91 sparse matrix of type '<class 'numpy.float64'>'\n\twith 169 stored elements in Compressed Sparse Row format>, <168x91 sparse matrix of type '<class 'numpy.float64'>'\n\twith 169 stored elements in Compressed Sparse Row format>, <168x91 sparse matrix of type '<class 'numpy.float64'>'\n\twith 169 stored elements in Compressed Sparse Row format>, <168x91 sparse matrix of type '<class 'numpy.float64'>'\n\twith 169 stored elements in Compressed Sparse Row format>, <168x91 sparse matrix of type '<class 'numpy.float64'>'\n\twith 169 stored elements in Compressed Sparse Row format>, <168x91 sparse matrix of type '<class 'numpy.float64'>'\n\twith 169 stored elements in Compressed Sparse Row format>, <168x91 sparse matrix of type '<class 'numpy.float64'>'\n\twith 169 stored elements in Compressed Sparse Row format>, <168x91 sparse matrix of type '<class 'numpy.float64'>'\n\twith 169 stored elements in Compressed Sparse Row format>, <168x91 sparse matrix of type '<class 'numpy.float64'>'\n\twith 169 stored elements in Compressed Sparse Row format>, <168x91 sparse matrix of type '<class 'numpy.float64'>'\n\twith 169 stored elements in Compressed Sparse Row format>, <168x91 sparse matrix of type '<class 'numpy.float64'>'\n\twith 169 stored elements in Compressed Sparse Row format>, <168x91 sparse matrix of type '<class 'numpy.float64'>'\n\twith 169 stored elements in Compressed Sparse Row format>, <168x91 sparse matrix of type '<class 'numpy.float64'>'\n\twith 169 stored elements in Compressed Sparse Row format>, <168x91 sparse matrix of type '<class 'numpy.float64'>'\n\twith 169 stored elements in Compressed Sparse Row format>, <168x91 sparse matrix of type '<class 'numpy.float64'>'\n\twith 169 stored elements in Compressed Sparse Row format>, <168x91 sparse matrix of type '<class 'numpy.float64'>'\n\twith 169 stored elements in Compressed Sparse Row format>, <168x91 sparse matrix of type '<class 'numpy.float64'>'\n\twith 169 stored elements in Compressed Sparse Row format>, <168x91 sparse matrix of type '<class 'numpy.float64'>'\n\twith 169 stored elements in Compressed Sparse Row format>, <168x91 sparse matrix of type '<class 'numpy.float64'>'\n\twith 169 stored elements in Compressed Sparse Row format>]\n  (0, 14)\t1.0\n  (1, 13)\t1.0\n  (2, 36)\t1.0\n  (3, 0)\t1.0\n  (4, 17)\t1.0\n  (5, 31)\t1.0\n  (6, 82)\t1.0\n  (7, 80)\t1.0\n  (8, 55)\t1.0\n  (9, 65)\t1.0\n  (10, 80)\t1.0\n  (11, 67)\t1.0\n  (12, 19)\t1.0\n  (13, 51)\t1.0\n  (14, 80)\t1.0\n  (15, 13)\t1.0\n  (16, 90)\t1.0\n  (17, 28)\t1.0\n  (18, 59)\t1.0\n  (19, 13)\t1.0\n  (20, 56)\t1.0\n  (21, 5)\t1.0\n  (22, 80)\t1.0\n  (23, 39)\t1.0\n  (24, 18)\t1.0\n  :\t:\n  (143, 46)\t1.0\n  (144, 48)\t1.0\n  (145, 13)\t1.0\n  (146, 24)\t1.0\n  (147, 33)\t1.0\n  (148, 89)\t1.0\n  (149, 13)\t1.0\n  (150, 1)\t1.0\n  (151, 60)\t1.0\n  (152, 29)\t1.0\n  (153, 3)\t1.0\n  (154, 13)\t1.0\n  (155, 49)\t1.0\n  (156, 80)\t1.0\n  (157, 12)\t1.0\n  (158, 49)\t1.0\n  (159, 80)\t1.0\n  (160, 13)\t1.0\n  (161, 23)\t1.0\n  (162, 13)\t1.0\n  (163, 29)\t1.0\n  (164, 41)\t1.0\n  (165, 4)\t1.0\n  (166, 34)\t1.0\n  (167, 25)\t1.0\n"
     ]
    }
   ],
   "source": [
    "print(vectorized_text)\n",
    "print(vectorized_text[0])"
   ]
  },
  {
   "cell_type": "code",
   "execution_count": null,
   "metadata": {},
   "outputs": [],
   "source": []
  }
 ]
}