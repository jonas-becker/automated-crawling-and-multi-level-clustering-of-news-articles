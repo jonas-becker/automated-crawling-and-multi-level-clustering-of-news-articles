{
 "metadata": {
  "language_info": {
   "codemirror_mode": {
    "name": "ipython",
    "version": 3
   },
   "file_extension": ".py",
   "mimetype": "text/x-python",
   "name": "python",
   "nbconvert_exporter": "python",
   "pygments_lexer": "ipython3",
   "version": "3.9.4"
  },
  "orig_nbformat": 4,
  "kernelspec": {
   "name": "python3",
   "display_name": "Python 3.9.4 64-bit ('kccs': conda)"
  },
  "interpreter": {
   "hash": "d7b8994cdf06398bb1d6bc43ff8b2ebd874fbdc1b32ac998f9bfa73841ea6f5e"
  }
 },
 "nbformat": 4,
 "nbformat_minor": 2,
 "cells": [
  {
   "cell_type": "code",
   "execution_count": 1,
   "metadata": {},
   "outputs": [],
   "source": [
    "import pandas as pd\n",
    "import numpy as np"
   ]
  },
  {
   "cell_type": "code",
   "execution_count": 2,
   "metadata": {},
   "outputs": [
    {
     "output_type": "execute_result",
     "data": {
      "text/plain": [
       "          date_download           date_modify          date_publish  \\\n",
       "0  06/09/2021, 00:40:28  06/09/2021, 00:40:28  03/28/2020, 14:58:03   \n",
       "1  06/09/2021, 00:40:28  06/09/2021, 00:40:28  03/28/2020, 16:15:00   \n",
       "\n",
       "                                         description language  \\\n",
       "0  Neighbors » Forums » General Discussion » Arti...       en   \n",
       "1  Neighbors » Forums » Sports News » Denver Bron...       en   \n",
       "\n",
       "              source_domain  \\\n",
       "0  neighbors.denverpost.com   \n",
       "1  neighbors.denverpost.com   \n",
       "\n",
       "                                            maintext  \\\n",
       "0  Neighbors » Forums » General Discussion » Arti...   \n",
       "1  Neighbors » Forums » Sports News » Denver Bron...   \n",
       "\n",
       "                                               title  \\\n",
       "0  Denver Post poll: Most Coloradans support NRA,...   \n",
       "1  Elvis Dumervil agrees to contract with Baltimo...   \n",
       "\n",
       "                                                 url  \n",
       "0  http://neighbors.denverpost.com/viewtopic.php?...  \n",
       "1  http://neighbors.denverpost.com/viewtopic.php?...  "
      ],
      "text/html": "<div>\n<style scoped>\n    .dataframe tbody tr th:only-of-type {\n        vertical-align: middle;\n    }\n\n    .dataframe tbody tr th {\n        vertical-align: top;\n    }\n\n    .dataframe thead th {\n        text-align: right;\n    }\n</style>\n<table border=\"1\" class=\"dataframe\">\n  <thead>\n    <tr style=\"text-align: right;\">\n      <th></th>\n      <th>date_download</th>\n      <th>date_modify</th>\n      <th>date_publish</th>\n      <th>description</th>\n      <th>language</th>\n      <th>source_domain</th>\n      <th>maintext</th>\n      <th>title</th>\n      <th>url</th>\n    </tr>\n  </thead>\n  <tbody>\n    <tr>\n      <th>0</th>\n      <td>06/09/2021, 00:40:28</td>\n      <td>06/09/2021, 00:40:28</td>\n      <td>03/28/2020, 14:58:03</td>\n      <td>Neighbors » Forums » General Discussion » Arti...</td>\n      <td>en</td>\n      <td>neighbors.denverpost.com</td>\n      <td>Neighbors » Forums » General Discussion » Arti...</td>\n      <td>Denver Post poll: Most Coloradans support NRA,...</td>\n      <td>http://neighbors.denverpost.com/viewtopic.php?...</td>\n    </tr>\n    <tr>\n      <th>1</th>\n      <td>06/09/2021, 00:40:28</td>\n      <td>06/09/2021, 00:40:28</td>\n      <td>03/28/2020, 16:15:00</td>\n      <td>Neighbors » Forums » Sports News » Denver Bron...</td>\n      <td>en</td>\n      <td>neighbors.denverpost.com</td>\n      <td>Neighbors » Forums » Sports News » Denver Bron...</td>\n      <td>Elvis Dumervil agrees to contract with Baltimo...</td>\n      <td>http://neighbors.denverpost.com/viewtopic.php?...</td>\n    </tr>\n  </tbody>\n</table>\n</div>"
     },
     "metadata": {},
     "execution_count": 2
    }
   ],
   "source": [
    "PATH = '.\\crawl_json\\crawl_0_0.json'\n",
    "\n",
    "df = pd.read_json(PATH, orient='index')\n",
    "df.drop(['authors', 'image_url', 'localpath', 'title_page', 'title_rss'], axis = 1, inplace = True)\n",
    "df.head(2)"
   ]
  },
  {
   "cell_type": "code",
   "execution_count": 3,
   "metadata": {},
   "outputs": [
    {
     "output_type": "stream",
     "name": "stderr",
     "text": [
      "[nltk_data] Downloading package punkt to\n[nltk_data]     C:\\Users\\snake\\AppData\\Roaming\\nltk_data...\n[nltk_data]   Package punkt is already up-to-date!\n[nltk_data] Downloading package averaged_perceptron_tagger to\n[nltk_data]     C:\\Users\\snake\\AppData\\Roaming\\nltk_data...\n[nltk_data]   Package averaged_perceptron_tagger is already up-to-\n[nltk_data]       date!\n"
     ]
    },
    {
     "output_type": "execute_result",
     "data": {
      "text/plain": [
       "True"
      ]
     },
     "metadata": {},
     "execution_count": 3
    }
   ],
   "source": [
    "import nltk\n",
    "from textblob import TextBlob\n",
    "nltk.download('punkt')\n",
    "nltk.download('averaged_perceptron_tagger')"
   ]
  },
  {
   "cell_type": "code",
   "execution_count": 4,
   "metadata": {
    "tags": []
   },
   "outputs": [
    {
     "output_type": "execute_result",
     "data": {
      "text/plain": [
       "          date_download           date_modify          date_publish  \\\n",
       "0  06/09/2021, 00:40:28  06/09/2021, 00:40:28  03/28/2020, 14:58:03   \n",
       "1  06/09/2021, 00:40:28  06/09/2021, 00:40:28  03/28/2020, 16:15:00   \n",
       "2  06/09/2021, 00:40:28  06/09/2021, 00:40:28  03/28/2020, 15:43:08   \n",
       "\n",
       "                                         description language  \\\n",
       "0  Neighbors » Forums » General Discussion » Arti...       en   \n",
       "1  Neighbors » Forums » Sports News » Denver Bron...       en   \n",
       "2  Art historian Kelly Grovier looks at images th...       en   \n",
       "\n",
       "              source_domain  \\\n",
       "0  neighbors.denverpost.com   \n",
       "1  neighbors.denverpost.com   \n",
       "2               www.bbc.com   \n",
       "\n",
       "                                            maintext  \\\n",
       "0  Neighbors » Forums » General Discussion » Arti...   \n",
       "1  Neighbors » Forums » Sports News » Denver Bron...   \n",
       "2   Art historian Kelly Grovier looks at images t...   \n",
       "\n",
       "                                               title  \\\n",
       "0  Denver Post poll: Most Coloradans support NRA,...   \n",
       "1  Elvis Dumervil agrees to contract with Baltimo...   \n",
       "2   BBC - Culture - The painting that tricks the eye   \n",
       "\n",
       "                                                 url  \\\n",
       "0  http://neighbors.denverpost.com/viewtopic.php?...   \n",
       "1  http://neighbors.denverpost.com/viewtopic.php?...   \n",
       "2  http://www.bbc.com/culture/story/20160304-the-...   \n",
       "\n",
       "                                     tokenized_words  \\\n",
       "0  [Neighbors, », Forums, », General, Discussion,...   \n",
       "1  [Neighbors, », Forums, », Sports, News, », Den...   \n",
       "2  [Art, historian, Kelly, Grovier, looks, at, im...   \n",
       "\n",
       "                                               nouns  \n",
       "0  [Neighbors, Forums, », General, Discussion, »,...  \n",
       "1  [Neighbors, Forums, », Sports, News, », Denver...  \n",
       "2  [Art, historian, Kelly, Grovier, images, frame...  "
      ],
      "text/html": "<div>\n<style scoped>\n    .dataframe tbody tr th:only-of-type {\n        vertical-align: middle;\n    }\n\n    .dataframe tbody tr th {\n        vertical-align: top;\n    }\n\n    .dataframe thead th {\n        text-align: right;\n    }\n</style>\n<table border=\"1\" class=\"dataframe\">\n  <thead>\n    <tr style=\"text-align: right;\">\n      <th></th>\n      <th>date_download</th>\n      <th>date_modify</th>\n      <th>date_publish</th>\n      <th>description</th>\n      <th>language</th>\n      <th>source_domain</th>\n      <th>maintext</th>\n      <th>title</th>\n      <th>url</th>\n      <th>tokenized_words</th>\n      <th>nouns</th>\n    </tr>\n  </thead>\n  <tbody>\n    <tr>\n      <th>0</th>\n      <td>06/09/2021, 00:40:28</td>\n      <td>06/09/2021, 00:40:28</td>\n      <td>03/28/2020, 14:58:03</td>\n      <td>Neighbors » Forums » General Discussion » Arti...</td>\n      <td>en</td>\n      <td>neighbors.denverpost.com</td>\n      <td>Neighbors » Forums » General Discussion » Arti...</td>\n      <td>Denver Post poll: Most Coloradans support NRA,...</td>\n      <td>http://neighbors.denverpost.com/viewtopic.php?...</td>\n      <td>[Neighbors, », Forums, », General, Discussion,...</td>\n      <td>[Neighbors, Forums, », General, Discussion, »,...</td>\n    </tr>\n    <tr>\n      <th>1</th>\n      <td>06/09/2021, 00:40:28</td>\n      <td>06/09/2021, 00:40:28</td>\n      <td>03/28/2020, 16:15:00</td>\n      <td>Neighbors » Forums » Sports News » Denver Bron...</td>\n      <td>en</td>\n      <td>neighbors.denverpost.com</td>\n      <td>Neighbors » Forums » Sports News » Denver Bron...</td>\n      <td>Elvis Dumervil agrees to contract with Baltimo...</td>\n      <td>http://neighbors.denverpost.com/viewtopic.php?...</td>\n      <td>[Neighbors, », Forums, », Sports, News, », Den...</td>\n      <td>[Neighbors, Forums, », Sports, News, », Denver...</td>\n    </tr>\n    <tr>\n      <th>2</th>\n      <td>06/09/2021, 00:40:28</td>\n      <td>06/09/2021, 00:40:28</td>\n      <td>03/28/2020, 15:43:08</td>\n      <td>Art historian Kelly Grovier looks at images th...</td>\n      <td>en</td>\n      <td>www.bbc.com</td>\n      <td>Art historian Kelly Grovier looks at images t...</td>\n      <td>BBC - Culture - The painting that tricks the eye</td>\n      <td>http://www.bbc.com/culture/story/20160304-the-...</td>\n      <td>[Art, historian, Kelly, Grovier, looks, at, im...</td>\n      <td>[Art, historian, Kelly, Grovier, images, frame...</td>\n    </tr>\n  </tbody>\n</table>\n</div>"
     },
     "metadata": {},
     "execution_count": 4
    }
   ],
   "source": [
    "is_noun = lambda pos: pos[:2] == 'NN'\n",
    "nouns = []\n",
    "df['tokenized_words'] = df['maintext'].apply(nltk.word_tokenize)\n",
    "\n",
    "for element in df[\"tokenized_words\"]:\n",
    "    nouns.append([word for (word, pos) in nltk.pos_tag(element) if is_noun(pos)]) \n",
    "\n",
    "df[\"nouns\"] = nouns     #not optimal yet but doe the job\n",
    "\n",
    "df.head(3)\n",
    "\n"
   ]
  },
  {
   "cell_type": "code",
   "execution_count": 5,
   "metadata": {},
   "outputs": [],
   "source": [
    "from sklearn.feature_extraction.text import TfidfVectorizer\n",
    "from sklearn.feature_extraction.text import CountVectorizer\n",
    "from sklearn.feature_extraction.text import TfidfTransformer"
   ]
  },
  {
   "cell_type": "code",
   "execution_count": 6,
   "metadata": {},
   "outputs": [],
   "source": [
    "def vectorize_texts(list_of_strings):\n",
    "    vectorizer = CountVectorizer()\n",
    "    X = vectorizer.fit_transform(list_of_strings)\n",
    "    transformer = TfidfTransformer(smooth_idf=False)\n",
    "    tfidf = transformer.fit_transform(X)\n",
    "    return tfidf\n",
    "    "
   ]
  },
  {
   "cell_type": "code",
   "execution_count": 31,
   "metadata": {
    "tags": []
   },
   "outputs": [],
   "source": [
    "all_article_nouns = []\n",
    "for i, element in enumerate(nouns):\n",
    "    for j in range(len(element)):\n",
    "        all_article_nouns.append(element[j])\n",
    "\n",
    "vectorized_text = vectorize_texts(all_article_nouns)"
   ]
  },
  {
   "cell_type": "code",
   "execution_count": 8,
   "metadata": {},
   "outputs": [
    {
     "output_type": "stream",
     "name": "stdout",
     "text": [
      "[<999x310 sparse matrix of type '<class 'numpy.float64'>'\n\twith 798 stored elements in Compressed Sparse Row format>, <999x310 sparse matrix of type '<class 'numpy.float64'>'\n\twith 798 stored elements in Compressed Sparse Row format>, <999x310 sparse matrix of type '<class 'numpy.float64'>'\n\twith 798 stored elements in Compressed Sparse Row format>, <999x310 sparse matrix of type '<class 'numpy.float64'>'\n\twith 798 stored elements in Compressed Sparse Row format>, <999x310 sparse matrix of type '<class 'numpy.float64'>'\n\twith 798 stored elements in Compressed Sparse Row format>, <999x310 sparse matrix of type '<class 'numpy.float64'>'\n\twith 798 stored elements in Compressed Sparse Row format>, <999x310 sparse matrix of type '<class 'numpy.float64'>'\n\twith 798 stored elements in Compressed Sparse Row format>, <999x310 sparse matrix of type '<class 'numpy.float64'>'\n\twith 798 stored elements in Compressed Sparse Row format>, <999x310 sparse matrix of type '<class 'numpy.float64'>'\n\twith 798 stored elements in Compressed Sparse Row format>, <999x310 sparse matrix of type '<class 'numpy.float64'>'\n\twith 798 stored elements in Compressed Sparse Row format>, <999x310 sparse matrix of type '<class 'numpy.float64'>'\n\twith 798 stored elements in Compressed Sparse Row format>, <999x310 sparse matrix of type '<class 'numpy.float64'>'\n\twith 798 stored elements in Compressed Sparse Row format>, <999x310 sparse matrix of type '<class 'numpy.float64'>'\n\twith 798 stored elements in Compressed Sparse Row format>, <999x310 sparse matrix of type '<class 'numpy.float64'>'\n\twith 798 stored elements in Compressed Sparse Row format>, <999x310 sparse matrix of type '<class 'numpy.float64'>'\n\twith 798 stored elements in Compressed Sparse Row format>, <999x310 sparse matrix of type '<class 'numpy.float64'>'\n\twith 798 stored elements in Compressed Sparse Row format>, <999x310 sparse matrix of type '<class 'numpy.float64'>'\n\twith 798 stored elements in Compressed Sparse Row format>, <999x310 sparse matrix of type '<class 'numpy.float64'>'\n\twith 798 stored elements in Compressed Sparse Row format>, <999x310 sparse matrix of type '<class 'numpy.float64'>'\n\twith 798 stored elements in Compressed Sparse Row format>, <999x310 sparse matrix of type '<class 'numpy.float64'>'\n\twith 798 stored elements in Compressed Sparse Row format>, <999x310 sparse matrix of type '<class 'numpy.float64'>'\n\twith 798 stored elements in Compressed Sparse Row format>, <999x310 sparse matrix of type '<class 'numpy.float64'>'\n\twith 798 stored elements in Compressed Sparse Row format>, <999x310 sparse matrix of type '<class 'numpy.float64'>'\n\twith 798 stored elements in Compressed Sparse Row format>, <999x310 sparse matrix of type '<class 'numpy.float64'>'\n\twith 798 stored elements in Compressed Sparse Row format>, <999x310 sparse matrix of type '<class 'numpy.float64'>'\n\twith 798 stored elements in Compressed Sparse Row format>, <999x310 sparse matrix of type '<class 'numpy.float64'>'\n\twith 798 stored elements in Compressed Sparse Row format>, <999x310 sparse matrix of type '<class 'numpy.float64'>'\n\twith 798 stored elements in Compressed Sparse Row format>, <999x310 sparse matrix of type '<class 'numpy.float64'>'\n\twith 798 stored elements in Compressed Sparse Row format>]\n  (0, 124)\t1.0\n  (1, 61)\t1.0\n  (2, 0)\t1.0\n  (4, 60)\t1.0\n  (5, 152)\t1.0\n  (6, 103)\t1.0\n  (7, 14)\t1.0\n  (8, 7)\t1.0\n  (10, 230)\t1.0\n  (11, 124)\t1.0\n  (12, 74)\t1.0\n  (14, 173)\t1.0\n  (15, 135)\t1.0\n  (17, 270)\t1.0\n  (18, 267)\t1.0\n  (19, 200)\t1.0\n  (20, 224)\t1.0\n  (22, 267)\t1.0\n  (23, 234)\t1.0\n  (24, 284)\t1.0\n  (25, 287)\t1.0\n  (26, 21)\t1.0\n  (27, 223)\t1.0\n  (28, 142)\t1.0\n  (29, 25)\t1.0\n  :\t:\n  (962, 15)\t1.0\n  (963, 223)\t1.0\n  (964, 228)\t1.0\n  (965, 184)\t1.0\n  (966, 128)\t1.0\n  (969, 146)\t1.0\n  (970, 308)\t1.0\n  (972, 223)\t1.0\n  (973, 66)\t1.0\n  (975, 16)\t1.0\n  (976, 116)\t1.0\n  (978, 151)\t1.0\n  (979, 146)\t1.0\n  (980, 66)\t1.0\n  (982, 12)\t1.0\n  (983, 297)\t1.0\n  (986, 65)\t1.0\n  (988, 132)\t1.0\n  (989, 18)\t1.0\n  (991, 223)\t1.0\n  (992, 213)\t1.0\n  (994, 100)\t1.0\n  (995, 126)\t1.0\n  (996, 252)\t1.0\n  (997, 119)\t1.0\n"
     ]
    }
   ],
   "source": [
    "print(vectorized_text)\n",
    "print(vectorized_text[0])"
   ]
  },
  {
   "cell_type": "code",
   "execution_count": 32,
   "metadata": {},
   "outputs": [],
   "source": [
    "from sklearn.cluster import KMeans"
   ]
  },
  {
   "cell_type": "code",
   "execution_count": 33,
   "metadata": {},
   "outputs": [],
   "source": [
    "def cluster_texts(num_clusters, tfidf):\n",
    "    #perform kmeans clustering for range of clusters\n",
    "    print('Beginning KMeans Clustering, number of clusters = ', num_clusters, '\\n') \n",
    "    km = KMeans(n_clusters=num_clusters, max_iter = 100, verbose = 2, n_init = 1).fit(tfidf)\n",
    "    return km"
   ]
  },
  {
   "cell_type": "code",
   "execution_count": 100,
   "metadata": {
    "tags": []
   },
   "outputs": [
    {
     "output_type": "stream",
     "name": "stdout",
     "text": [
      "Beginning KMeans Clustering, number of clusters =  12 \n",
      "\n",
      "Initialization complete\n",
      "Iteration 0, inertia 40045.48899542923\n",
      "Iteration 1, inertia 39799.43958758276\n",
      "Iteration 2, inertia 39798.558972886254\n",
      "Converged at iteration 2: strict convergence.\n",
      "KMeans(max_iter=100, n_clusters=12, n_init=1, verbose=2)\n"
     ]
    }
   ],
   "source": [
    "kmeans12 = cluster_texts(12, vectorized_text)\n",
    "print(kmeans12.)"
   ]
  },
  {
   "cell_type": "code",
   "execution_count": 103,
   "metadata": {},
   "outputs": [],
   "source": [
    "df_kmeans = pd.DataFrame()\n",
    "df_kmeans[\"kmeans12\"] = kmeans12.labels_"
   ]
  },
  {
   "cell_type": "code",
   "execution_count": 108,
   "metadata": {},
   "outputs": [
    {
     "output_type": "execute_result",
     "data": {
      "text/plain": [
       "kmeans12\n",
       "5           40993\n",
       "2             252\n",
       "3             235\n",
       "9             149\n",
       "10            135\n",
       "1             107\n",
       "11            101\n",
       "7              87\n",
       "8              82\n",
       "0              55\n",
       "4              41\n",
       "6              27\n",
       "dtype: int64"
      ]
     },
     "metadata": {},
     "execution_count": 108
    }
   ],
   "source": [
    "df_kmeans.value_counts()"
   ]
  },
  {
   "cell_type": "code",
   "execution_count": 109,
   "metadata": {},
   "outputs": [],
   "source": [
    "import seaborn"
   ]
  },
  {
   "cell_type": "code",
   "execution_count": 110,
   "metadata": {},
   "outputs": [
    {
     "output_type": "execute_result",
     "data": {
      "text/plain": [
       "[Text(0, 0, '0'),\n",
       " Text(1, 0, '1'),\n",
       " Text(2, 0, '2'),\n",
       " Text(3, 0, '3'),\n",
       " Text(4, 0, '4'),\n",
       " Text(5, 0, '5'),\n",
       " Text(6, 0, '6'),\n",
       " Text(7, 0, '7'),\n",
       " Text(8, 0, '8'),\n",
       " Text(9, 0, '9'),\n",
       " Text(10, 0, '10'),\n",
       " Text(11, 0, '11')]"
      ]
     },
     "metadata": {},
     "execution_count": 110
    },
    {
     "output_type": "display_data",
     "data": {
      "text/plain": "<Figure size 432x288 with 1 Axes>",
      "image/svg+xml": "<?xml version=\"1.0\" encoding=\"utf-8\" standalone=\"no\"?>\r\n<!DOCTYPE svg PUBLIC \"-//W3C//DTD SVG 1.1//EN\"\r\n  \"http://www.w3.org/Graphics/SVG/1.1/DTD/svg11.dtd\">\r\n<!-- Created with matplotlib (https://matplotlib.org/) -->\r\n<svg height=\"262.19625pt\" version=\"1.1\" viewBox=\"0 0 401.690625 262.19625\" width=\"401.690625pt\" xmlns=\"http://www.w3.org/2000/svg\" xmlns:xlink=\"http://www.w3.org/1999/xlink\">\r\n <metadata>\r\n  <rdf:RDF xmlns:cc=\"http://creativecommons.org/ns#\" xmlns:dc=\"http://purl.org/dc/elements/1.1/\" xmlns:rdf=\"http://www.w3.org/1999/02/22-rdf-syntax-ns#\">\r\n   <cc:Work>\r\n    <dc:type rdf:resource=\"http://purl.org/dc/dcmitype/StillImage\"/>\r\n    <dc:date>2021-06-14T20:27:13.183351</dc:date>\r\n    <dc:format>image/svg+xml</dc:format>\r\n    <dc:creator>\r\n     <cc:Agent>\r\n      <dc:title>Matplotlib v3.3.4, https://matplotlib.org/</dc:title>\r\n     </cc:Agent>\r\n    </dc:creator>\r\n   </cc:Work>\r\n  </rdf:RDF>\r\n </metadata>\r\n <defs>\r\n  <style type=\"text/css\">*{stroke-linecap:butt;stroke-linejoin:round;}</style>\r\n </defs>\r\n <g id=\"figure_1\">\r\n  <g id=\"patch_1\">\r\n   <path d=\"M 0 262.19625 \r\nL 401.690625 262.19625 \r\nL 401.690625 0 \r\nL 0 0 \r\nz\r\n\" style=\"fill:none;\"/>\r\n  </g>\r\n  <g id=\"axes_1\">\r\n   <g id=\"patch_2\">\r\n    <path d=\"M 59.690625 224.64 \r\nL 394.490625 224.64 \r\nL 394.490625 7.2 \r\nL 59.690625 7.2 \r\nz\r\n\" style=\"fill:#ffffff;\"/>\r\n   </g>\r\n   <g id=\"patch_3\">\r\n    <path clip-path=\"url(#pf6772040fb)\" d=\"M 62.480625 224.64 \r\nL 84.800625 224.64 \r\nL 84.800625 224.362155 \r\nL 62.480625 224.362155 \r\nz\r\n\" style=\"fill:#ea96a3;\"/>\r\n   </g>\r\n   <g id=\"patch_4\">\r\n    <path clip-path=\"url(#pf6772040fb)\" d=\"M 90.380625 224.64 \r\nL 112.700625 224.64 \r\nL 112.700625 224.099465 \r\nL 90.380625 224.099465 \r\nz\r\n\" style=\"fill:#e19153;\"/>\r\n   </g>\r\n   <g id=\"patch_5\">\r\n    <path clip-path=\"url(#pf6772040fb)\" d=\"M 118.280625 224.64 \r\nL 140.600625 224.64 \r\nL 140.600625 223.366963 \r\nL 118.280625 223.366963 \r\nz\r\n\" style=\"fill:#b89c49;\"/>\r\n   </g>\r\n   <g id=\"patch_6\">\r\n    <path clip-path=\"url(#pf6772040fb)\" d=\"M 146.180625 224.64 \r\nL 168.500625 224.64 \r\nL 168.500625 223.452843 \r\nL 146.180625 223.452843 \r\nz\r\n\" style=\"fill:#98a246;\"/>\r\n   </g>\r\n   <g id=\"patch_7\">\r\n    <path clip-path=\"url(#pf6772040fb)\" d=\"M 174.080625 224.64 \r\nL 196.400625 224.64 \r\nL 196.400625 224.432879 \r\nL 174.080625 224.432879 \r\nz\r\n\" style=\"fill:#60ae47;\"/>\r\n   </g>\r\n   <g id=\"patch_8\">\r\n    <path clip-path=\"url(#pf6772040fb)\" d=\"M 201.980625 224.64 \r\nL 224.300625 224.64 \r\nL 224.300625 17.554286 \r\nL 201.980625 17.554286 \r\nz\r\n\" style=\"fill:#4aae8a;\"/>\r\n   </g>\r\n   <g id=\"patch_9\">\r\n    <path clip-path=\"url(#pf6772040fb)\" d=\"M 229.880625 224.64 \r\nL 252.200625 224.64 \r\nL 252.200625 224.503603 \r\nL 229.880625 224.503603 \r\nz\r\n\" style=\"fill:#4baba4;\"/>\r\n   </g>\r\n   <g id=\"patch_10\">\r\n    <path clip-path=\"url(#pf6772040fb)\" d=\"M 257.780625 224.64 \r\nL 280.100625 224.64 \r\nL 280.100625 224.200499 \r\nL 257.780625 224.200499 \r\nz\r\n\" style=\"fill:#4fabbc;\"/>\r\n   </g>\r\n   <g id=\"patch_11\">\r\n    <path clip-path=\"url(#pf6772040fb)\" d=\"M 285.680625 224.64 \r\nL 308.000625 224.64 \r\nL 308.000625 224.225758 \r\nL 285.680625 224.225758 \r\nz\r\n\" style=\"fill:#6daee2;\"/>\r\n   </g>\r\n   <g id=\"patch_12\">\r\n    <path clip-path=\"url(#pf6772040fb)\" d=\"M 313.580625 224.64 \r\nL 335.900625 224.64 \r\nL 335.900625 223.887292 \r\nL 313.580625 223.887292 \r\nz\r\n\" style=\"fill:#b6a8eb;\"/>\r\n   </g>\r\n   <g id=\"patch_13\">\r\n    <path clip-path=\"url(#pf6772040fb)\" d=\"M 341.480625 224.64 \r\nL 363.800625 224.64 \r\nL 363.800625 223.958016 \r\nL 341.480625 223.958016 \r\nz\r\n\" style=\"fill:#df8fe7;\"/>\r\n   </g>\r\n   <g id=\"patch_14\">\r\n    <path clip-path=\"url(#pf6772040fb)\" d=\"M 369.380625 224.64 \r\nL 391.700625 224.64 \r\nL 391.700625 224.129775 \r\nL 369.380625 224.129775 \r\nz\r\n\" style=\"fill:#e890c6;\"/>\r\n   </g>\r\n   <g id=\"matplotlib.axis_1\">\r\n    <g id=\"xtick_1\">\r\n     <g id=\"line2d_1\">\r\n      <defs>\r\n       <path d=\"M 0 0 \r\nL 0 3.5 \r\n\" id=\"mcfb8697cf5\" style=\"stroke:#000000;stroke-width:0.8;\"/>\r\n      </defs>\r\n      <g>\r\n       <use style=\"stroke:#000000;stroke-width:0.8;\" x=\"73.640625\" xlink:href=\"#mcfb8697cf5\" y=\"224.64\"/>\r\n      </g>\r\n     </g>\r\n     <g id=\"text_1\">\r\n      <!-- 0 -->\r\n      <g transform=\"translate(70.459375 239.238437)scale(0.1 -0.1)\">\r\n       <defs>\r\n        <path d=\"M 31.78125 66.40625 \r\nQ 24.171875 66.40625 20.328125 58.90625 \r\nQ 16.5 51.421875 16.5 36.375 \r\nQ 16.5 21.390625 20.328125 13.890625 \r\nQ 24.171875 6.390625 31.78125 6.390625 \r\nQ 39.453125 6.390625 43.28125 13.890625 \r\nQ 47.125 21.390625 47.125 36.375 \r\nQ 47.125 51.421875 43.28125 58.90625 \r\nQ 39.453125 66.40625 31.78125 66.40625 \r\nz\r\nM 31.78125 74.21875 \r\nQ 44.046875 74.21875 50.515625 64.515625 \r\nQ 56.984375 54.828125 56.984375 36.375 \r\nQ 56.984375 17.96875 50.515625 8.265625 \r\nQ 44.046875 -1.421875 31.78125 -1.421875 \r\nQ 19.53125 -1.421875 13.0625 8.265625 \r\nQ 6.59375 17.96875 6.59375 36.375 \r\nQ 6.59375 54.828125 13.0625 64.515625 \r\nQ 19.53125 74.21875 31.78125 74.21875 \r\nz\r\n\" id=\"DejaVuSans-48\"/>\r\n       </defs>\r\n       <use xlink:href=\"#DejaVuSans-48\"/>\r\n      </g>\r\n     </g>\r\n    </g>\r\n    <g id=\"xtick_2\">\r\n     <g id=\"line2d_2\">\r\n      <g>\r\n       <use style=\"stroke:#000000;stroke-width:0.8;\" x=\"101.540625\" xlink:href=\"#mcfb8697cf5\" y=\"224.64\"/>\r\n      </g>\r\n     </g>\r\n     <g id=\"text_2\">\r\n      <!-- 1 -->\r\n      <g transform=\"translate(98.359375 239.238437)scale(0.1 -0.1)\">\r\n       <defs>\r\n        <path d=\"M 12.40625 8.296875 \r\nL 28.515625 8.296875 \r\nL 28.515625 63.921875 \r\nL 10.984375 60.40625 \r\nL 10.984375 69.390625 \r\nL 28.421875 72.90625 \r\nL 38.28125 72.90625 \r\nL 38.28125 8.296875 \r\nL 54.390625 8.296875 \r\nL 54.390625 0 \r\nL 12.40625 0 \r\nz\r\n\" id=\"DejaVuSans-49\"/>\r\n       </defs>\r\n       <use xlink:href=\"#DejaVuSans-49\"/>\r\n      </g>\r\n     </g>\r\n    </g>\r\n    <g id=\"xtick_3\">\r\n     <g id=\"line2d_3\">\r\n      <g>\r\n       <use style=\"stroke:#000000;stroke-width:0.8;\" x=\"129.440625\" xlink:href=\"#mcfb8697cf5\" y=\"224.64\"/>\r\n      </g>\r\n     </g>\r\n     <g id=\"text_3\">\r\n      <!-- 2 -->\r\n      <g transform=\"translate(126.259375 239.238437)scale(0.1 -0.1)\">\r\n       <defs>\r\n        <path d=\"M 19.1875 8.296875 \r\nL 53.609375 8.296875 \r\nL 53.609375 0 \r\nL 7.328125 0 \r\nL 7.328125 8.296875 \r\nQ 12.9375 14.109375 22.625 23.890625 \r\nQ 32.328125 33.6875 34.8125 36.53125 \r\nQ 39.546875 41.84375 41.421875 45.53125 \r\nQ 43.3125 49.21875 43.3125 52.78125 \r\nQ 43.3125 58.59375 39.234375 62.25 \r\nQ 35.15625 65.921875 28.609375 65.921875 \r\nQ 23.96875 65.921875 18.8125 64.3125 \r\nQ 13.671875 62.703125 7.8125 59.421875 \r\nL 7.8125 69.390625 \r\nQ 13.765625 71.78125 18.9375 73 \r\nQ 24.125 74.21875 28.421875 74.21875 \r\nQ 39.75 74.21875 46.484375 68.546875 \r\nQ 53.21875 62.890625 53.21875 53.421875 \r\nQ 53.21875 48.921875 51.53125 44.890625 \r\nQ 49.859375 40.875 45.40625 35.40625 \r\nQ 44.1875 33.984375 37.640625 27.21875 \r\nQ 31.109375 20.453125 19.1875 8.296875 \r\nz\r\n\" id=\"DejaVuSans-50\"/>\r\n       </defs>\r\n       <use xlink:href=\"#DejaVuSans-50\"/>\r\n      </g>\r\n     </g>\r\n    </g>\r\n    <g id=\"xtick_4\">\r\n     <g id=\"line2d_4\">\r\n      <g>\r\n       <use style=\"stroke:#000000;stroke-width:0.8;\" x=\"157.340625\" xlink:href=\"#mcfb8697cf5\" y=\"224.64\"/>\r\n      </g>\r\n     </g>\r\n     <g id=\"text_4\">\r\n      <!-- 3 -->\r\n      <g transform=\"translate(154.159375 239.238437)scale(0.1 -0.1)\">\r\n       <defs>\r\n        <path d=\"M 40.578125 39.3125 \r\nQ 47.65625 37.796875 51.625 33 \r\nQ 55.609375 28.21875 55.609375 21.1875 \r\nQ 55.609375 10.40625 48.1875 4.484375 \r\nQ 40.765625 -1.421875 27.09375 -1.421875 \r\nQ 22.515625 -1.421875 17.65625 -0.515625 \r\nQ 12.796875 0.390625 7.625 2.203125 \r\nL 7.625 11.71875 \r\nQ 11.71875 9.328125 16.59375 8.109375 \r\nQ 21.484375 6.890625 26.8125 6.890625 \r\nQ 36.078125 6.890625 40.9375 10.546875 \r\nQ 45.796875 14.203125 45.796875 21.1875 \r\nQ 45.796875 27.640625 41.28125 31.265625 \r\nQ 36.765625 34.90625 28.71875 34.90625 \r\nL 20.21875 34.90625 \r\nL 20.21875 43.015625 \r\nL 29.109375 43.015625 \r\nQ 36.375 43.015625 40.234375 45.921875 \r\nQ 44.09375 48.828125 44.09375 54.296875 \r\nQ 44.09375 59.90625 40.109375 62.90625 \r\nQ 36.140625 65.921875 28.71875 65.921875 \r\nQ 24.65625 65.921875 20.015625 65.03125 \r\nQ 15.375 64.15625 9.8125 62.3125 \r\nL 9.8125 71.09375 \r\nQ 15.4375 72.65625 20.34375 73.4375 \r\nQ 25.25 74.21875 29.59375 74.21875 \r\nQ 40.828125 74.21875 47.359375 69.109375 \r\nQ 53.90625 64.015625 53.90625 55.328125 \r\nQ 53.90625 49.265625 50.4375 45.09375 \r\nQ 46.96875 40.921875 40.578125 39.3125 \r\nz\r\n\" id=\"DejaVuSans-51\"/>\r\n       </defs>\r\n       <use xlink:href=\"#DejaVuSans-51\"/>\r\n      </g>\r\n     </g>\r\n    </g>\r\n    <g id=\"xtick_5\">\r\n     <g id=\"line2d_5\">\r\n      <g>\r\n       <use style=\"stroke:#000000;stroke-width:0.8;\" x=\"185.240625\" xlink:href=\"#mcfb8697cf5\" y=\"224.64\"/>\r\n      </g>\r\n     </g>\r\n     <g id=\"text_5\">\r\n      <!-- 4 -->\r\n      <g transform=\"translate(182.059375 239.238437)scale(0.1 -0.1)\">\r\n       <defs>\r\n        <path d=\"M 37.796875 64.3125 \r\nL 12.890625 25.390625 \r\nL 37.796875 25.390625 \r\nz\r\nM 35.203125 72.90625 \r\nL 47.609375 72.90625 \r\nL 47.609375 25.390625 \r\nL 58.015625 25.390625 \r\nL 58.015625 17.1875 \r\nL 47.609375 17.1875 \r\nL 47.609375 0 \r\nL 37.796875 0 \r\nL 37.796875 17.1875 \r\nL 4.890625 17.1875 \r\nL 4.890625 26.703125 \r\nz\r\n\" id=\"DejaVuSans-52\"/>\r\n       </defs>\r\n       <use xlink:href=\"#DejaVuSans-52\"/>\r\n      </g>\r\n     </g>\r\n    </g>\r\n    <g id=\"xtick_6\">\r\n     <g id=\"line2d_6\">\r\n      <g>\r\n       <use style=\"stroke:#000000;stroke-width:0.8;\" x=\"213.140625\" xlink:href=\"#mcfb8697cf5\" y=\"224.64\"/>\r\n      </g>\r\n     </g>\r\n     <g id=\"text_6\">\r\n      <!-- 5 -->\r\n      <g transform=\"translate(209.959375 239.238437)scale(0.1 -0.1)\">\r\n       <defs>\r\n        <path d=\"M 10.796875 72.90625 \r\nL 49.515625 72.90625 \r\nL 49.515625 64.59375 \r\nL 19.828125 64.59375 \r\nL 19.828125 46.734375 \r\nQ 21.96875 47.46875 24.109375 47.828125 \r\nQ 26.265625 48.1875 28.421875 48.1875 \r\nQ 40.625 48.1875 47.75 41.5 \r\nQ 54.890625 34.8125 54.890625 23.390625 \r\nQ 54.890625 11.625 47.5625 5.09375 \r\nQ 40.234375 -1.421875 26.90625 -1.421875 \r\nQ 22.3125 -1.421875 17.546875 -0.640625 \r\nQ 12.796875 0.140625 7.71875 1.703125 \r\nL 7.71875 11.625 \r\nQ 12.109375 9.234375 16.796875 8.0625 \r\nQ 21.484375 6.890625 26.703125 6.890625 \r\nQ 35.15625 6.890625 40.078125 11.328125 \r\nQ 45.015625 15.765625 45.015625 23.390625 \r\nQ 45.015625 31 40.078125 35.4375 \r\nQ 35.15625 39.890625 26.703125 39.890625 \r\nQ 22.75 39.890625 18.8125 39.015625 \r\nQ 14.890625 38.140625 10.796875 36.28125 \r\nz\r\n\" id=\"DejaVuSans-53\"/>\r\n       </defs>\r\n       <use xlink:href=\"#DejaVuSans-53\"/>\r\n      </g>\r\n     </g>\r\n    </g>\r\n    <g id=\"xtick_7\">\r\n     <g id=\"line2d_7\">\r\n      <g>\r\n       <use style=\"stroke:#000000;stroke-width:0.8;\" x=\"241.040625\" xlink:href=\"#mcfb8697cf5\" y=\"224.64\"/>\r\n      </g>\r\n     </g>\r\n     <g id=\"text_7\">\r\n      <!-- 6 -->\r\n      <g transform=\"translate(237.859375 239.238437)scale(0.1 -0.1)\">\r\n       <defs>\r\n        <path d=\"M 33.015625 40.375 \r\nQ 26.375 40.375 22.484375 35.828125 \r\nQ 18.609375 31.296875 18.609375 23.390625 \r\nQ 18.609375 15.53125 22.484375 10.953125 \r\nQ 26.375 6.390625 33.015625 6.390625 \r\nQ 39.65625 6.390625 43.53125 10.953125 \r\nQ 47.40625 15.53125 47.40625 23.390625 \r\nQ 47.40625 31.296875 43.53125 35.828125 \r\nQ 39.65625 40.375 33.015625 40.375 \r\nz\r\nM 52.59375 71.296875 \r\nL 52.59375 62.3125 \r\nQ 48.875 64.0625 45.09375 64.984375 \r\nQ 41.3125 65.921875 37.59375 65.921875 \r\nQ 27.828125 65.921875 22.671875 59.328125 \r\nQ 17.53125 52.734375 16.796875 39.40625 \r\nQ 19.671875 43.65625 24.015625 45.921875 \r\nQ 28.375 48.1875 33.59375 48.1875 \r\nQ 44.578125 48.1875 50.953125 41.515625 \r\nQ 57.328125 34.859375 57.328125 23.390625 \r\nQ 57.328125 12.15625 50.6875 5.359375 \r\nQ 44.046875 -1.421875 33.015625 -1.421875 \r\nQ 20.359375 -1.421875 13.671875 8.265625 \r\nQ 6.984375 17.96875 6.984375 36.375 \r\nQ 6.984375 53.65625 15.1875 63.9375 \r\nQ 23.390625 74.21875 37.203125 74.21875 \r\nQ 40.921875 74.21875 44.703125 73.484375 \r\nQ 48.484375 72.75 52.59375 71.296875 \r\nz\r\n\" id=\"DejaVuSans-54\"/>\r\n       </defs>\r\n       <use xlink:href=\"#DejaVuSans-54\"/>\r\n      </g>\r\n     </g>\r\n    </g>\r\n    <g id=\"xtick_8\">\r\n     <g id=\"line2d_8\">\r\n      <g>\r\n       <use style=\"stroke:#000000;stroke-width:0.8;\" x=\"268.940625\" xlink:href=\"#mcfb8697cf5\" y=\"224.64\"/>\r\n      </g>\r\n     </g>\r\n     <g id=\"text_8\">\r\n      <!-- 7 -->\r\n      <g transform=\"translate(265.759375 239.238437)scale(0.1 -0.1)\">\r\n       <defs>\r\n        <path d=\"M 8.203125 72.90625 \r\nL 55.078125 72.90625 \r\nL 55.078125 68.703125 \r\nL 28.609375 0 \r\nL 18.3125 0 \r\nL 43.21875 64.59375 \r\nL 8.203125 64.59375 \r\nz\r\n\" id=\"DejaVuSans-55\"/>\r\n       </defs>\r\n       <use xlink:href=\"#DejaVuSans-55\"/>\r\n      </g>\r\n     </g>\r\n    </g>\r\n    <g id=\"xtick_9\">\r\n     <g id=\"line2d_9\">\r\n      <g>\r\n       <use style=\"stroke:#000000;stroke-width:0.8;\" x=\"296.840625\" xlink:href=\"#mcfb8697cf5\" y=\"224.64\"/>\r\n      </g>\r\n     </g>\r\n     <g id=\"text_9\">\r\n      <!-- 8 -->\r\n      <g transform=\"translate(293.659375 239.238437)scale(0.1 -0.1)\">\r\n       <defs>\r\n        <path d=\"M 31.78125 34.625 \r\nQ 24.75 34.625 20.71875 30.859375 \r\nQ 16.703125 27.09375 16.703125 20.515625 \r\nQ 16.703125 13.921875 20.71875 10.15625 \r\nQ 24.75 6.390625 31.78125 6.390625 \r\nQ 38.8125 6.390625 42.859375 10.171875 \r\nQ 46.921875 13.96875 46.921875 20.515625 \r\nQ 46.921875 27.09375 42.890625 30.859375 \r\nQ 38.875 34.625 31.78125 34.625 \r\nz\r\nM 21.921875 38.8125 \r\nQ 15.578125 40.375 12.03125 44.71875 \r\nQ 8.5 49.078125 8.5 55.328125 \r\nQ 8.5 64.0625 14.71875 69.140625 \r\nQ 20.953125 74.21875 31.78125 74.21875 \r\nQ 42.671875 74.21875 48.875 69.140625 \r\nQ 55.078125 64.0625 55.078125 55.328125 \r\nQ 55.078125 49.078125 51.53125 44.71875 \r\nQ 48 40.375 41.703125 38.8125 \r\nQ 48.828125 37.15625 52.796875 32.3125 \r\nQ 56.78125 27.484375 56.78125 20.515625 \r\nQ 56.78125 9.90625 50.3125 4.234375 \r\nQ 43.84375 -1.421875 31.78125 -1.421875 \r\nQ 19.734375 -1.421875 13.25 4.234375 \r\nQ 6.78125 9.90625 6.78125 20.515625 \r\nQ 6.78125 27.484375 10.78125 32.3125 \r\nQ 14.796875 37.15625 21.921875 38.8125 \r\nz\r\nM 18.3125 54.390625 \r\nQ 18.3125 48.734375 21.84375 45.5625 \r\nQ 25.390625 42.390625 31.78125 42.390625 \r\nQ 38.140625 42.390625 41.71875 45.5625 \r\nQ 45.3125 48.734375 45.3125 54.390625 \r\nQ 45.3125 60.0625 41.71875 63.234375 \r\nQ 38.140625 66.40625 31.78125 66.40625 \r\nQ 25.390625 66.40625 21.84375 63.234375 \r\nQ 18.3125 60.0625 18.3125 54.390625 \r\nz\r\n\" id=\"DejaVuSans-56\"/>\r\n       </defs>\r\n       <use xlink:href=\"#DejaVuSans-56\"/>\r\n      </g>\r\n     </g>\r\n    </g>\r\n    <g id=\"xtick_10\">\r\n     <g id=\"line2d_10\">\r\n      <g>\r\n       <use style=\"stroke:#000000;stroke-width:0.8;\" x=\"324.740625\" xlink:href=\"#mcfb8697cf5\" y=\"224.64\"/>\r\n      </g>\r\n     </g>\r\n     <g id=\"text_10\">\r\n      <!-- 9 -->\r\n      <g transform=\"translate(321.559375 239.238437)scale(0.1 -0.1)\">\r\n       <defs>\r\n        <path d=\"M 10.984375 1.515625 \r\nL 10.984375 10.5 \r\nQ 14.703125 8.734375 18.5 7.8125 \r\nQ 22.3125 6.890625 25.984375 6.890625 \r\nQ 35.75 6.890625 40.890625 13.453125 \r\nQ 46.046875 20.015625 46.78125 33.40625 \r\nQ 43.953125 29.203125 39.59375 26.953125 \r\nQ 35.25 24.703125 29.984375 24.703125 \r\nQ 19.046875 24.703125 12.671875 31.3125 \r\nQ 6.296875 37.9375 6.296875 49.421875 \r\nQ 6.296875 60.640625 12.9375 67.421875 \r\nQ 19.578125 74.21875 30.609375 74.21875 \r\nQ 43.265625 74.21875 49.921875 64.515625 \r\nQ 56.59375 54.828125 56.59375 36.375 \r\nQ 56.59375 19.140625 48.40625 8.859375 \r\nQ 40.234375 -1.421875 26.421875 -1.421875 \r\nQ 22.703125 -1.421875 18.890625 -0.6875 \r\nQ 15.09375 0.046875 10.984375 1.515625 \r\nz\r\nM 30.609375 32.421875 \r\nQ 37.25 32.421875 41.125 36.953125 \r\nQ 45.015625 41.5 45.015625 49.421875 \r\nQ 45.015625 57.28125 41.125 61.84375 \r\nQ 37.25 66.40625 30.609375 66.40625 \r\nQ 23.96875 66.40625 20.09375 61.84375 \r\nQ 16.21875 57.28125 16.21875 49.421875 \r\nQ 16.21875 41.5 20.09375 36.953125 \r\nQ 23.96875 32.421875 30.609375 32.421875 \r\nz\r\n\" id=\"DejaVuSans-57\"/>\r\n       </defs>\r\n       <use xlink:href=\"#DejaVuSans-57\"/>\r\n      </g>\r\n     </g>\r\n    </g>\r\n    <g id=\"xtick_11\">\r\n     <g id=\"line2d_11\">\r\n      <g>\r\n       <use style=\"stroke:#000000;stroke-width:0.8;\" x=\"352.640625\" xlink:href=\"#mcfb8697cf5\" y=\"224.64\"/>\r\n      </g>\r\n     </g>\r\n     <g id=\"text_11\">\r\n      <!-- 10 -->\r\n      <g transform=\"translate(346.278125 239.238437)scale(0.1 -0.1)\">\r\n       <use xlink:href=\"#DejaVuSans-49\"/>\r\n       <use x=\"63.623047\" xlink:href=\"#DejaVuSans-48\"/>\r\n      </g>\r\n     </g>\r\n    </g>\r\n    <g id=\"xtick_12\">\r\n     <g id=\"line2d_12\">\r\n      <g>\r\n       <use style=\"stroke:#000000;stroke-width:0.8;\" x=\"380.540625\" xlink:href=\"#mcfb8697cf5\" y=\"224.64\"/>\r\n      </g>\r\n     </g>\r\n     <g id=\"text_12\">\r\n      <!-- 11 -->\r\n      <g transform=\"translate(374.178125 239.238437)scale(0.1 -0.1)\">\r\n       <use xlink:href=\"#DejaVuSans-49\"/>\r\n       <use x=\"63.623047\" xlink:href=\"#DejaVuSans-49\"/>\r\n      </g>\r\n     </g>\r\n    </g>\r\n    <g id=\"text_13\">\r\n     <!-- kmeans12 -->\r\n     <g transform=\"translate(201.048438 252.916562)scale(0.1 -0.1)\">\r\n      <defs>\r\n       <path d=\"M 9.078125 75.984375 \r\nL 18.109375 75.984375 \r\nL 18.109375 31.109375 \r\nL 44.921875 54.6875 \r\nL 56.390625 54.6875 \r\nL 27.390625 29.109375 \r\nL 57.625 0 \r\nL 45.90625 0 \r\nL 18.109375 26.703125 \r\nL 18.109375 0 \r\nL 9.078125 0 \r\nz\r\n\" id=\"DejaVuSans-107\"/>\r\n       <path d=\"M 52 44.1875 \r\nQ 55.375 50.25 60.0625 53.125 \r\nQ 64.75 56 71.09375 56 \r\nQ 79.640625 56 84.28125 50.015625 \r\nQ 88.921875 44.046875 88.921875 33.015625 \r\nL 88.921875 0 \r\nL 79.890625 0 \r\nL 79.890625 32.71875 \r\nQ 79.890625 40.578125 77.09375 44.375 \r\nQ 74.3125 48.1875 68.609375 48.1875 \r\nQ 61.625 48.1875 57.5625 43.546875 \r\nQ 53.515625 38.921875 53.515625 30.90625 \r\nL 53.515625 0 \r\nL 44.484375 0 \r\nL 44.484375 32.71875 \r\nQ 44.484375 40.625 41.703125 44.40625 \r\nQ 38.921875 48.1875 33.109375 48.1875 \r\nQ 26.21875 48.1875 22.15625 43.53125 \r\nQ 18.109375 38.875 18.109375 30.90625 \r\nL 18.109375 0 \r\nL 9.078125 0 \r\nL 9.078125 54.6875 \r\nL 18.109375 54.6875 \r\nL 18.109375 46.1875 \r\nQ 21.1875 51.21875 25.484375 53.609375 \r\nQ 29.78125 56 35.6875 56 \r\nQ 41.65625 56 45.828125 52.96875 \r\nQ 50 49.953125 52 44.1875 \r\nz\r\n\" id=\"DejaVuSans-109\"/>\r\n       <path d=\"M 56.203125 29.59375 \r\nL 56.203125 25.203125 \r\nL 14.890625 25.203125 \r\nQ 15.484375 15.921875 20.484375 11.0625 \r\nQ 25.484375 6.203125 34.421875 6.203125 \r\nQ 39.59375 6.203125 44.453125 7.46875 \r\nQ 49.3125 8.734375 54.109375 11.28125 \r\nL 54.109375 2.78125 \r\nQ 49.265625 0.734375 44.1875 -0.34375 \r\nQ 39.109375 -1.421875 33.890625 -1.421875 \r\nQ 20.796875 -1.421875 13.15625 6.1875 \r\nQ 5.515625 13.8125 5.515625 26.8125 \r\nQ 5.515625 40.234375 12.765625 48.109375 \r\nQ 20.015625 56 32.328125 56 \r\nQ 43.359375 56 49.78125 48.890625 \r\nQ 56.203125 41.796875 56.203125 29.59375 \r\nz\r\nM 47.21875 32.234375 \r\nQ 47.125 39.59375 43.09375 43.984375 \r\nQ 39.0625 48.390625 32.421875 48.390625 \r\nQ 24.90625 48.390625 20.390625 44.140625 \r\nQ 15.875 39.890625 15.1875 32.171875 \r\nz\r\n\" id=\"DejaVuSans-101\"/>\r\n       <path d=\"M 34.28125 27.484375 \r\nQ 23.390625 27.484375 19.1875 25 \r\nQ 14.984375 22.515625 14.984375 16.5 \r\nQ 14.984375 11.71875 18.140625 8.90625 \r\nQ 21.296875 6.109375 26.703125 6.109375 \r\nQ 34.1875 6.109375 38.703125 11.40625 \r\nQ 43.21875 16.703125 43.21875 25.484375 \r\nL 43.21875 27.484375 \r\nz\r\nM 52.203125 31.203125 \r\nL 52.203125 0 \r\nL 43.21875 0 \r\nL 43.21875 8.296875 \r\nQ 40.140625 3.328125 35.546875 0.953125 \r\nQ 30.953125 -1.421875 24.3125 -1.421875 \r\nQ 15.921875 -1.421875 10.953125 3.296875 \r\nQ 6 8.015625 6 15.921875 \r\nQ 6 25.140625 12.171875 29.828125 \r\nQ 18.359375 34.515625 30.609375 34.515625 \r\nL 43.21875 34.515625 \r\nL 43.21875 35.40625 \r\nQ 43.21875 41.609375 39.140625 45 \r\nQ 35.0625 48.390625 27.6875 48.390625 \r\nQ 23 48.390625 18.546875 47.265625 \r\nQ 14.109375 46.140625 10.015625 43.890625 \r\nL 10.015625 52.203125 \r\nQ 14.9375 54.109375 19.578125 55.046875 \r\nQ 24.21875 56 28.609375 56 \r\nQ 40.484375 56 46.34375 49.84375 \r\nQ 52.203125 43.703125 52.203125 31.203125 \r\nz\r\n\" id=\"DejaVuSans-97\"/>\r\n       <path d=\"M 54.890625 33.015625 \r\nL 54.890625 0 \r\nL 45.90625 0 \r\nL 45.90625 32.71875 \r\nQ 45.90625 40.484375 42.875 44.328125 \r\nQ 39.84375 48.1875 33.796875 48.1875 \r\nQ 26.515625 48.1875 22.3125 43.546875 \r\nQ 18.109375 38.921875 18.109375 30.90625 \r\nL 18.109375 0 \r\nL 9.078125 0 \r\nL 9.078125 54.6875 \r\nL 18.109375 54.6875 \r\nL 18.109375 46.1875 \r\nQ 21.34375 51.125 25.703125 53.5625 \r\nQ 30.078125 56 35.796875 56 \r\nQ 45.21875 56 50.046875 50.171875 \r\nQ 54.890625 44.34375 54.890625 33.015625 \r\nz\r\n\" id=\"DejaVuSans-110\"/>\r\n       <path d=\"M 44.28125 53.078125 \r\nL 44.28125 44.578125 \r\nQ 40.484375 46.53125 36.375 47.5 \r\nQ 32.28125 48.484375 27.875 48.484375 \r\nQ 21.1875 48.484375 17.84375 46.4375 \r\nQ 14.5 44.390625 14.5 40.28125 \r\nQ 14.5 37.15625 16.890625 35.375 \r\nQ 19.28125 33.59375 26.515625 31.984375 \r\nL 29.59375 31.296875 \r\nQ 39.15625 29.25 43.1875 25.515625 \r\nQ 47.21875 21.78125 47.21875 15.09375 \r\nQ 47.21875 7.46875 41.1875 3.015625 \r\nQ 35.15625 -1.421875 24.609375 -1.421875 \r\nQ 20.21875 -1.421875 15.453125 -0.5625 \r\nQ 10.6875 0.296875 5.421875 2 \r\nL 5.421875 11.28125 \r\nQ 10.40625 8.6875 15.234375 7.390625 \r\nQ 20.0625 6.109375 24.8125 6.109375 \r\nQ 31.15625 6.109375 34.5625 8.28125 \r\nQ 37.984375 10.453125 37.984375 14.40625 \r\nQ 37.984375 18.0625 35.515625 20.015625 \r\nQ 33.0625 21.96875 24.703125 23.78125 \r\nL 21.578125 24.515625 \r\nQ 13.234375 26.265625 9.515625 29.90625 \r\nQ 5.8125 33.546875 5.8125 39.890625 \r\nQ 5.8125 47.609375 11.28125 51.796875 \r\nQ 16.75 56 26.8125 56 \r\nQ 31.78125 56 36.171875 55.265625 \r\nQ 40.578125 54.546875 44.28125 53.078125 \r\nz\r\n\" id=\"DejaVuSans-115\"/>\r\n      </defs>\r\n      <use xlink:href=\"#DejaVuSans-107\"/>\r\n      <use x=\"57.910156\" xlink:href=\"#DejaVuSans-109\"/>\r\n      <use x=\"155.322266\" xlink:href=\"#DejaVuSans-101\"/>\r\n      <use x=\"216.845703\" xlink:href=\"#DejaVuSans-97\"/>\r\n      <use x=\"278.125\" xlink:href=\"#DejaVuSans-110\"/>\r\n      <use x=\"341.503906\" xlink:href=\"#DejaVuSans-115\"/>\r\n      <use x=\"393.603516\" xlink:href=\"#DejaVuSans-49\"/>\r\n      <use x=\"457.226562\" xlink:href=\"#DejaVuSans-50\"/>\r\n     </g>\r\n    </g>\r\n   </g>\r\n   <g id=\"matplotlib.axis_2\">\r\n    <g id=\"ytick_1\">\r\n     <g id=\"line2d_13\">\r\n      <defs>\r\n       <path d=\"M 0 0 \r\nL -3.5 0 \r\n\" id=\"m7386ee055b\" style=\"stroke:#000000;stroke-width:0.8;\"/>\r\n      </defs>\r\n      <g>\r\n       <use style=\"stroke:#000000;stroke-width:0.8;\" x=\"59.690625\" xlink:href=\"#m7386ee055b\" y=\"224.64\"/>\r\n      </g>\r\n     </g>\r\n     <g id=\"text_14\">\r\n      <!-- 0 -->\r\n      <g transform=\"translate(46.328125 228.439219)scale(0.1 -0.1)\">\r\n       <use xlink:href=\"#DejaVuSans-48\"/>\r\n      </g>\r\n     </g>\r\n    </g>\r\n    <g id=\"ytick_2\">\r\n     <g id=\"line2d_14\">\r\n      <g>\r\n       <use style=\"stroke:#000000;stroke-width:0.8;\" x=\"59.690625\" xlink:href=\"#m7386ee055b\" y=\"199.381332\"/>\r\n      </g>\r\n     </g>\r\n     <g id=\"text_15\">\r\n      <!-- 5000 -->\r\n      <g transform=\"translate(27.240625 203.180551)scale(0.1 -0.1)\">\r\n       <use xlink:href=\"#DejaVuSans-53\"/>\r\n       <use x=\"63.623047\" xlink:href=\"#DejaVuSans-48\"/>\r\n       <use x=\"127.246094\" xlink:href=\"#DejaVuSans-48\"/>\r\n       <use x=\"190.869141\" xlink:href=\"#DejaVuSans-48\"/>\r\n      </g>\r\n     </g>\r\n    </g>\r\n    <g id=\"ytick_3\">\r\n     <g id=\"line2d_15\">\r\n      <g>\r\n       <use style=\"stroke:#000000;stroke-width:0.8;\" x=\"59.690625\" xlink:href=\"#m7386ee055b\" y=\"174.122664\"/>\r\n      </g>\r\n     </g>\r\n     <g id=\"text_16\">\r\n      <!-- 10000 -->\r\n      <g transform=\"translate(20.878125 177.921883)scale(0.1 -0.1)\">\r\n       <use xlink:href=\"#DejaVuSans-49\"/>\r\n       <use x=\"63.623047\" xlink:href=\"#DejaVuSans-48\"/>\r\n       <use x=\"127.246094\" xlink:href=\"#DejaVuSans-48\"/>\r\n       <use x=\"190.869141\" xlink:href=\"#DejaVuSans-48\"/>\r\n       <use x=\"254.492188\" xlink:href=\"#DejaVuSans-48\"/>\r\n      </g>\r\n     </g>\r\n    </g>\r\n    <g id=\"ytick_4\">\r\n     <g id=\"line2d_16\">\r\n      <g>\r\n       <use style=\"stroke:#000000;stroke-width:0.8;\" x=\"59.690625\" xlink:href=\"#m7386ee055b\" y=\"148.863996\"/>\r\n      </g>\r\n     </g>\r\n     <g id=\"text_17\">\r\n      <!-- 15000 -->\r\n      <g transform=\"translate(20.878125 152.663215)scale(0.1 -0.1)\">\r\n       <use xlink:href=\"#DejaVuSans-49\"/>\r\n       <use x=\"63.623047\" xlink:href=\"#DejaVuSans-53\"/>\r\n       <use x=\"127.246094\" xlink:href=\"#DejaVuSans-48\"/>\r\n       <use x=\"190.869141\" xlink:href=\"#DejaVuSans-48\"/>\r\n       <use x=\"254.492188\" xlink:href=\"#DejaVuSans-48\"/>\r\n      </g>\r\n     </g>\r\n    </g>\r\n    <g id=\"ytick_5\">\r\n     <g id=\"line2d_17\">\r\n      <g>\r\n       <use style=\"stroke:#000000;stroke-width:0.8;\" x=\"59.690625\" xlink:href=\"#m7386ee055b\" y=\"123.605329\"/>\r\n      </g>\r\n     </g>\r\n     <g id=\"text_18\">\r\n      <!-- 20000 -->\r\n      <g transform=\"translate(20.878125 127.404547)scale(0.1 -0.1)\">\r\n       <use xlink:href=\"#DejaVuSans-50\"/>\r\n       <use x=\"63.623047\" xlink:href=\"#DejaVuSans-48\"/>\r\n       <use x=\"127.246094\" xlink:href=\"#DejaVuSans-48\"/>\r\n       <use x=\"190.869141\" xlink:href=\"#DejaVuSans-48\"/>\r\n       <use x=\"254.492188\" xlink:href=\"#DejaVuSans-48\"/>\r\n      </g>\r\n     </g>\r\n    </g>\r\n    <g id=\"ytick_6\">\r\n     <g id=\"line2d_18\">\r\n      <g>\r\n       <use style=\"stroke:#000000;stroke-width:0.8;\" x=\"59.690625\" xlink:href=\"#m7386ee055b\" y=\"98.346661\"/>\r\n      </g>\r\n     </g>\r\n     <g id=\"text_19\">\r\n      <!-- 25000 -->\r\n      <g transform=\"translate(20.878125 102.145879)scale(0.1 -0.1)\">\r\n       <use xlink:href=\"#DejaVuSans-50\"/>\r\n       <use x=\"63.623047\" xlink:href=\"#DejaVuSans-53\"/>\r\n       <use x=\"127.246094\" xlink:href=\"#DejaVuSans-48\"/>\r\n       <use x=\"190.869141\" xlink:href=\"#DejaVuSans-48\"/>\r\n       <use x=\"254.492188\" xlink:href=\"#DejaVuSans-48\"/>\r\n      </g>\r\n     </g>\r\n    </g>\r\n    <g id=\"ytick_7\">\r\n     <g id=\"line2d_19\">\r\n      <g>\r\n       <use style=\"stroke:#000000;stroke-width:0.8;\" x=\"59.690625\" xlink:href=\"#m7386ee055b\" y=\"73.087993\"/>\r\n      </g>\r\n     </g>\r\n     <g id=\"text_20\">\r\n      <!-- 30000 -->\r\n      <g transform=\"translate(20.878125 76.887212)scale(0.1 -0.1)\">\r\n       <use xlink:href=\"#DejaVuSans-51\"/>\r\n       <use x=\"63.623047\" xlink:href=\"#DejaVuSans-48\"/>\r\n       <use x=\"127.246094\" xlink:href=\"#DejaVuSans-48\"/>\r\n       <use x=\"190.869141\" xlink:href=\"#DejaVuSans-48\"/>\r\n       <use x=\"254.492188\" xlink:href=\"#DejaVuSans-48\"/>\r\n      </g>\r\n     </g>\r\n    </g>\r\n    <g id=\"ytick_8\">\r\n     <g id=\"line2d_20\">\r\n      <g>\r\n       <use style=\"stroke:#000000;stroke-width:0.8;\" x=\"59.690625\" xlink:href=\"#m7386ee055b\" y=\"47.829325\"/>\r\n      </g>\r\n     </g>\r\n     <g id=\"text_21\">\r\n      <!-- 35000 -->\r\n      <g transform=\"translate(20.878125 51.628544)scale(0.1 -0.1)\">\r\n       <use xlink:href=\"#DejaVuSans-51\"/>\r\n       <use x=\"63.623047\" xlink:href=\"#DejaVuSans-53\"/>\r\n       <use x=\"127.246094\" xlink:href=\"#DejaVuSans-48\"/>\r\n       <use x=\"190.869141\" xlink:href=\"#DejaVuSans-48\"/>\r\n       <use x=\"254.492188\" xlink:href=\"#DejaVuSans-48\"/>\r\n      </g>\r\n     </g>\r\n    </g>\r\n    <g id=\"ytick_9\">\r\n     <g id=\"line2d_21\">\r\n      <g>\r\n       <use style=\"stroke:#000000;stroke-width:0.8;\" x=\"59.690625\" xlink:href=\"#m7386ee055b\" y=\"22.570657\"/>\r\n      </g>\r\n     </g>\r\n     <g id=\"text_22\">\r\n      <!-- 40000 -->\r\n      <g transform=\"translate(20.878125 26.369876)scale(0.1 -0.1)\">\r\n       <use xlink:href=\"#DejaVuSans-52\"/>\r\n       <use x=\"63.623047\" xlink:href=\"#DejaVuSans-48\"/>\r\n       <use x=\"127.246094\" xlink:href=\"#DejaVuSans-48\"/>\r\n       <use x=\"190.869141\" xlink:href=\"#DejaVuSans-48\"/>\r\n       <use x=\"254.492188\" xlink:href=\"#DejaVuSans-48\"/>\r\n      </g>\r\n     </g>\r\n    </g>\r\n    <g id=\"text_23\">\r\n     <!-- count -->\r\n     <g transform=\"translate(14.798438 130.02625)rotate(-90)scale(0.1 -0.1)\">\r\n      <defs>\r\n       <path d=\"M 48.78125 52.59375 \r\nL 48.78125 44.1875 \r\nQ 44.96875 46.296875 41.140625 47.34375 \r\nQ 37.3125 48.390625 33.40625 48.390625 \r\nQ 24.65625 48.390625 19.8125 42.84375 \r\nQ 14.984375 37.3125 14.984375 27.296875 \r\nQ 14.984375 17.28125 19.8125 11.734375 \r\nQ 24.65625 6.203125 33.40625 6.203125 \r\nQ 37.3125 6.203125 41.140625 7.25 \r\nQ 44.96875 8.296875 48.78125 10.40625 \r\nL 48.78125 2.09375 \r\nQ 45.015625 0.34375 40.984375 -0.53125 \r\nQ 36.96875 -1.421875 32.421875 -1.421875 \r\nQ 20.0625 -1.421875 12.78125 6.34375 \r\nQ 5.515625 14.109375 5.515625 27.296875 \r\nQ 5.515625 40.671875 12.859375 48.328125 \r\nQ 20.21875 56 33.015625 56 \r\nQ 37.15625 56 41.109375 55.140625 \r\nQ 45.0625 54.296875 48.78125 52.59375 \r\nz\r\n\" id=\"DejaVuSans-99\"/>\r\n       <path d=\"M 30.609375 48.390625 \r\nQ 23.390625 48.390625 19.1875 42.75 \r\nQ 14.984375 37.109375 14.984375 27.296875 \r\nQ 14.984375 17.484375 19.15625 11.84375 \r\nQ 23.34375 6.203125 30.609375 6.203125 \r\nQ 37.796875 6.203125 41.984375 11.859375 \r\nQ 46.1875 17.53125 46.1875 27.296875 \r\nQ 46.1875 37.015625 41.984375 42.703125 \r\nQ 37.796875 48.390625 30.609375 48.390625 \r\nz\r\nM 30.609375 56 \r\nQ 42.328125 56 49.015625 48.375 \r\nQ 55.71875 40.765625 55.71875 27.296875 \r\nQ 55.71875 13.875 49.015625 6.21875 \r\nQ 42.328125 -1.421875 30.609375 -1.421875 \r\nQ 18.84375 -1.421875 12.171875 6.21875 \r\nQ 5.515625 13.875 5.515625 27.296875 \r\nQ 5.515625 40.765625 12.171875 48.375 \r\nQ 18.84375 56 30.609375 56 \r\nz\r\n\" id=\"DejaVuSans-111\"/>\r\n       <path d=\"M 8.5 21.578125 \r\nL 8.5 54.6875 \r\nL 17.484375 54.6875 \r\nL 17.484375 21.921875 \r\nQ 17.484375 14.15625 20.5 10.265625 \r\nQ 23.53125 6.390625 29.59375 6.390625 \r\nQ 36.859375 6.390625 41.078125 11.03125 \r\nQ 45.3125 15.671875 45.3125 23.6875 \r\nL 45.3125 54.6875 \r\nL 54.296875 54.6875 \r\nL 54.296875 0 \r\nL 45.3125 0 \r\nL 45.3125 8.40625 \r\nQ 42.046875 3.421875 37.71875 1 \r\nQ 33.40625 -1.421875 27.6875 -1.421875 \r\nQ 18.265625 -1.421875 13.375 4.4375 \r\nQ 8.5 10.296875 8.5 21.578125 \r\nz\r\nM 31.109375 56 \r\nz\r\n\" id=\"DejaVuSans-117\"/>\r\n       <path d=\"M 18.3125 70.21875 \r\nL 18.3125 54.6875 \r\nL 36.8125 54.6875 \r\nL 36.8125 47.703125 \r\nL 18.3125 47.703125 \r\nL 18.3125 18.015625 \r\nQ 18.3125 11.328125 20.140625 9.421875 \r\nQ 21.96875 7.515625 27.59375 7.515625 \r\nL 36.8125 7.515625 \r\nL 36.8125 0 \r\nL 27.59375 0 \r\nQ 17.1875 0 13.234375 3.875 \r\nQ 9.28125 7.765625 9.28125 18.015625 \r\nL 9.28125 47.703125 \r\nL 2.6875 47.703125 \r\nL 2.6875 54.6875 \r\nL 9.28125 54.6875 \r\nL 9.28125 70.21875 \r\nz\r\n\" id=\"DejaVuSans-116\"/>\r\n      </defs>\r\n      <use xlink:href=\"#DejaVuSans-99\"/>\r\n      <use x=\"54.980469\" xlink:href=\"#DejaVuSans-111\"/>\r\n      <use x=\"116.162109\" xlink:href=\"#DejaVuSans-117\"/>\r\n      <use x=\"179.541016\" xlink:href=\"#DejaVuSans-110\"/>\r\n      <use x=\"242.919922\" xlink:href=\"#DejaVuSans-116\"/>\r\n     </g>\r\n    </g>\r\n   </g>\r\n   <g id=\"patch_15\">\r\n    <path d=\"M 59.690625 224.64 \r\nL 59.690625 7.2 \r\n\" style=\"fill:none;stroke:#000000;stroke-linecap:square;stroke-linejoin:miter;stroke-width:0.8;\"/>\r\n   </g>\r\n   <g id=\"patch_16\">\r\n    <path d=\"M 394.490625 224.64 \r\nL 394.490625 7.2 \r\n\" style=\"fill:none;stroke:#000000;stroke-linecap:square;stroke-linejoin:miter;stroke-width:0.8;\"/>\r\n   </g>\r\n   <g id=\"patch_17\">\r\n    <path d=\"M 59.690625 224.64 \r\nL 394.490625 224.64 \r\n\" style=\"fill:none;stroke:#000000;stroke-linecap:square;stroke-linejoin:miter;stroke-width:0.8;\"/>\r\n   </g>\r\n   <g id=\"patch_18\">\r\n    <path d=\"M 59.690625 7.2 \r\nL 394.490625 7.2 \r\n\" style=\"fill:none;stroke:#000000;stroke-linecap:square;stroke-linejoin:miter;stroke-width:0.8;\"/>\r\n   </g>\r\n  </g>\r\n </g>\r\n <defs>\r\n  <clipPath id=\"pf6772040fb\">\r\n   <rect height=\"217.44\" width=\"334.8\" x=\"59.690625\" y=\"7.2\"/>\r\n  </clipPath>\r\n </defs>\r\n</svg>\r\n",
      "image/png": "[encoded data removed]"
     },
     "metadata": {
      "needs_background": "light"
     }
    }
   ],
   "source": [
    "axis = seaborn.countplot(x= 'kmeans12', data=df_kmeans)\n",
    "axis.set_xticklabels(axis.get_xticklabels(), rotation=0)"
   ]
  },
  {
   "cell_type": "code",
   "execution_count": 124,
   "metadata": {},
   "outputs": [],
   "source": [
    "from collections import Counter"
   ]
  },
  {
   "cell_type": "code",
   "execution_count": 131,
   "metadata": {},
   "outputs": [],
   "source": [
    "def get_most_common_words(df, df_column, num_words):\n",
    "    common_words = []\n",
    "    for i in range(0,12):\n",
    "        common = Counter(\" \".join(df.loc[df_column == i]['tokenized_words']).split()).most_common(num_words)\n",
    "        for j in common:\n",
    "            dict_ = {}\n",
    "            dict_['cluster'] = i\n",
    "            dict_['word'] = j[0]\n",
    "            common_words.append(dict_)\n",
    "            \n",
    "    return common_words"
   ]
  },
  {
   "cell_type": "code",
   "execution_count": 134,
   "metadata": {},
   "outputs": [
    {
     "output_type": "stream",
     "name": "stdout",
     "text": [
      "[{'cluster': 0, 'word': '[By,'}, {'cluster': 0, 'word': '(,'}, {'cluster': 0, 'word': '),'}, {'cluster': 0, 'word': 'the,'}, {'cluster': 0, 'word': '»,'}, {'cluster': 0, 'word': \"'s,\"}, {'cluster': 0, 'word': ',,'}, {'cluster': 0, 'word': 'The,'}, {'cluster': 0, 'word': 'of,'}, {'cluster': 0, 'word': 'Min,'}, {'cluster': 0, 'word': 'Read,'}, {'cluster': 0, 'word': 'Reuters,'}, {'cluster': 0, 'word': '-,'}, {'cluster': 0, 'word': '...'}, {'cluster': 0, 'word': 'Barbara,'}, {'cluster': 0, 'word': 'Starr,'}, {'cluster': 0, 'word': '[Neighbors,'}, {'cluster': 0, 'word': 'Forums,'}, {'cluster': 0, 'word': 'Den...'}, {'cluster': 0, 'word': 'we,'}, {'cluster': 0, 'word': '[3,'}, {'cluster': 0, 'word': 'YORK,'}, {'cluster': 0, 'word': 'credit,'}, {'cluster': 0, 'word': ':,'}, {'cluster': 0, 'word': 'and,'}, {'cluster': 1, 'word': '[By,'}, {'cluster': 1, 'word': '(,'}, {'cluster': 1, 'word': '),'}, {'cluster': 1, 'word': 'the,'}, {'cluster': 1, 'word': '»,'}, {'cluster': 1, 'word': \"'s,\"}, {'cluster': 1, 'word': ',,'}, {'cluster': 1, 'word': 'The,'}, {'cluster': 1, 'word': 'of,'}, {'cluster': 1, 'word': 'Min,'}, {'cluster': 1, 'word': 'Read,'}, {'cluster': 1, 'word': 'Reuters,'}, {'cluster': 1, 'word': '-,'}, {'cluster': 1, 'word': '...'}, {'cluster': 1, 'word': 'Barbara,'}, {'cluster': 1, 'word': 'Starr,'}, {'cluster': 1, 'word': '[Neighbors,'}, {'cluster': 1, 'word': 'Forums,'}, {'cluster': 1, 'word': 'Den...'}, {'cluster': 1, 'word': 'we,'}, {'cluster': 1, 'word': '[3,'}, {'cluster': 1, 'word': 'YORK,'}, {'cluster': 1, 'word': 'credit,'}, {'cluster': 1, 'word': ':,'}, {'cluster': 1, 'word': 'and,'}, {'cluster': 2, 'word': '[By,'}, {'cluster': 2, 'word': '(,'}, {'cluster': 2, 'word': '),'}, {'cluster': 2, 'word': 'the,'}, {'cluster': 2, 'word': '»,'}, {'cluster': 2, 'word': \"'s,\"}, {'cluster': 2, 'word': ',,'}, {'cluster': 2, 'word': 'The,'}, {'cluster': 2, 'word': 'of,'}, {'cluster': 2, 'word': 'Min,'}, {'cluster': 2, 'word': 'Read,'}, {'cluster': 2, 'word': 'Reuters,'}, {'cluster': 2, 'word': '-,'}, {'cluster': 2, 'word': '...'}, {'cluster': 2, 'word': 'Barbara,'}, {'cluster': 2, 'word': 'Starr,'}, {'cluster': 2, 'word': '[Neighbors,'}, {'cluster': 2, 'word': 'Forums,'}, {'cluster': 2, 'word': 'Den...'}, {'cluster': 2, 'word': 'we,'}, {'cluster': 2, 'word': '[3,'}, {'cluster': 2, 'word': 'YORK,'}, {'cluster': 2, 'word': 'credit,'}, {'cluster': 2, 'word': ':,'}, {'cluster': 2, 'word': 'and,'}, {'cluster': 3, 'word': '[By,'}, {'cluster': 3, 'word': '(,'}, {'cluster': 3, 'word': '),'}, {'cluster': 3, 'word': 'the,'}, {'cluster': 3, 'word': '»,'}, {'cluster': 3, 'word': \"'s,\"}, {'cluster': 3, 'word': ',,'}, {'cluster': 3, 'word': 'The,'}, {'cluster': 3, 'word': 'of,'}, {'cluster': 3, 'word': 'Min,'}, {'cluster': 3, 'word': 'Read,'}, {'cluster': 3, 'word': 'Reuters,'}, {'cluster': 3, 'word': '-,'}, {'cluster': 3, 'word': '...'}, {'cluster': 3, 'word': 'Barbara,'}, {'cluster': 3, 'word': 'Starr,'}, {'cluster': 3, 'word': '[Neighbors,'}, {'cluster': 3, 'word': 'Forums,'}, {'cluster': 3, 'word': 'Den...'}, {'cluster': 3, 'word': 'we,'}, {'cluster': 3, 'word': '[3,'}, {'cluster': 3, 'word': 'YORK,'}, {'cluster': 3, 'word': 'credit,'}, {'cluster': 3, 'word': ':,'}, {'cluster': 3, 'word': 'and,'}, {'cluster': 4, 'word': '[By,'}, {'cluster': 4, 'word': '(,'}, {'cluster': 4, 'word': '),'}, {'cluster': 4, 'word': 'the,'}, {'cluster': 4, 'word': '»,'}, {'cluster': 4, 'word': \"'s,\"}, {'cluster': 4, 'word': ',,'}, {'cluster': 4, 'word': 'The,'}, {'cluster': 4, 'word': 'of,'}, {'cluster': 4, 'word': 'Min,'}, {'cluster': 4, 'word': 'Read,'}, {'cluster': 4, 'word': 'Reuters,'}, {'cluster': 4, 'word': '-,'}, {'cluster': 4, 'word': '...'}, {'cluster': 4, 'word': 'Barbara,'}, {'cluster': 4, 'word': 'Starr,'}, {'cluster': 4, 'word': '[Neighbors,'}, {'cluster': 4, 'word': 'Forums,'}, {'cluster': 4, 'word': 'Den...'}, {'cluster': 4, 'word': 'we,'}, {'cluster': 4, 'word': '[3,'}, {'cluster': 4, 'word': 'YORK,'}, {'cluster': 4, 'word': 'credit,'}, {'cluster': 4, 'word': ':,'}, {'cluster': 4, 'word': 'and,'}, {'cluster': 5, 'word': '[By,'}, {'cluster': 5, 'word': '(,'}, {'cluster': 5, 'word': '),'}, {'cluster': 5, 'word': 'the,'}, {'cluster': 5, 'word': '»,'}, {'cluster': 5, 'word': \"'s,\"}, {'cluster': 5, 'word': ',,'}, {'cluster': 5, 'word': 'The,'}, {'cluster': 5, 'word': 'of,'}, {'cluster': 5, 'word': 'Min,'}, {'cluster': 5, 'word': 'Read,'}, {'cluster': 5, 'word': 'Reuters,'}, {'cluster': 5, 'word': '-,'}, {'cluster': 5, 'word': '...'}, {'cluster': 5, 'word': 'Barbara,'}, {'cluster': 5, 'word': 'Starr,'}, {'cluster': 5, 'word': '[Neighbors,'}, {'cluster': 5, 'word': 'Forums,'}, {'cluster': 5, 'word': 'Den...'}, {'cluster': 5, 'word': 'we,'}, {'cluster': 5, 'word': '[3,'}, {'cluster': 5, 'word': 'YORK,'}, {'cluster': 5, 'word': 'credit,'}, {'cluster': 5, 'word': ':,'}, {'cluster': 5, 'word': 'and,'}, {'cluster': 6, 'word': '[By,'}, {'cluster': 6, 'word': '(,'}, {'cluster': 6, 'word': '),'}, {'cluster': 6, 'word': 'the,'}, {'cluster': 6, 'word': '»,'}, {'cluster': 6, 'word': \"'s,\"}, {'cluster': 6, 'word': ',,'}, {'cluster': 6, 'word': 'The,'}, {'cluster': 6, 'word': 'of,'}, {'cluster': 6, 'word': 'Min,'}, {'cluster': 6, 'word': 'Read,'}, {'cluster': 6, 'word': 'Reuters,'}, {'cluster': 6, 'word': '-,'}, {'cluster': 6, 'word': '...'}, {'cluster': 6, 'word': 'Barbara,'}, {'cluster': 6, 'word': 'Starr,'}, {'cluster': 6, 'word': '[Neighbors,'}, {'cluster': 6, 'word': 'Forums,'}, {'cluster': 6, 'word': 'Den...'}, {'cluster': 6, 'word': 'we,'}, {'cluster': 6, 'word': '[3,'}, {'cluster': 6, 'word': 'YORK,'}, {'cluster': 6, 'word': 'credit,'}, {'cluster': 6, 'word': ':,'}, {'cluster': 6, 'word': 'and,'}, {'cluster': 7, 'word': '[By,'}, {'cluster': 7, 'word': '(,'}, {'cluster': 7, 'word': '),'}, {'cluster': 7, 'word': 'the,'}, {'cluster': 7, 'word': '»,'}, {'cluster': 7, 'word': \"'s,\"}, {'cluster': 7, 'word': ',,'}, {'cluster': 7, 'word': 'The,'}, {'cluster': 7, 'word': 'of,'}, {'cluster': 7, 'word': 'Min,'}, {'cluster': 7, 'word': 'Read,'}, {'cluster': 7, 'word': 'Reuters,'}, {'cluster': 7, 'word': '-,'}, {'cluster': 7, 'word': '...'}, {'cluster': 7, 'word': 'Barbara,'}, {'cluster': 7, 'word': 'Starr,'}, {'cluster': 7, 'word': '[Neighbors,'}, {'cluster': 7, 'word': 'Forums,'}, {'cluster': 7, 'word': 'Den...'}, {'cluster': 7, 'word': 'we,'}, {'cluster': 7, 'word': '[3,'}, {'cluster': 7, 'word': 'YORK,'}, {'cluster': 7, 'word': 'credit,'}, {'cluster': 7, 'word': ':,'}, {'cluster': 7, 'word': 'and,'}, {'cluster': 8, 'word': '[By,'}, {'cluster': 8, 'word': '(,'}, {'cluster': 8, 'word': '),'}, {'cluster': 8, 'word': 'the,'}, {'cluster': 8, 'word': '»,'}, {'cluster': 8, 'word': \"'s,\"}, {'cluster': 8, 'word': ',,'}, {'cluster': 8, 'word': 'The,'}, {'cluster': 8, 'word': 'of,'}, {'cluster': 8, 'word': 'Min,'}, {'cluster': 8, 'word': 'Read,'}, {'cluster': 8, 'word': 'Reuters,'}, {'cluster': 8, 'word': '-,'}, {'cluster': 8, 'word': '...'}, {'cluster': 8, 'word': 'Barbara,'}, {'cluster': 8, 'word': 'Starr,'}, {'cluster': 8, 'word': '[Neighbors,'}, {'cluster': 8, 'word': 'Forums,'}, {'cluster': 8, 'word': 'Den...'}, {'cluster': 8, 'word': 'we,'}, {'cluster': 8, 'word': '[3,'}, {'cluster': 8, 'word': 'YORK,'}, {'cluster': 8, 'word': 'credit,'}, {'cluster': 8, 'word': ':,'}, {'cluster': 8, 'word': 'and,'}, {'cluster': 9, 'word': '[By,'}, {'cluster': 9, 'word': '(,'}, {'cluster': 9, 'word': '),'}, {'cluster': 9, 'word': 'the,'}, {'cluster': 9, 'word': '»,'}, {'cluster': 9, 'word': \"'s,\"}, {'cluster': 9, 'word': ',,'}, {'cluster': 9, 'word': 'The,'}, {'cluster': 9, 'word': 'of,'}, {'cluster': 9, 'word': 'Min,'}, {'cluster': 9, 'word': 'Read,'}, {'cluster': 9, 'word': 'Reuters,'}, {'cluster': 9, 'word': '-,'}, {'cluster': 9, 'word': '...'}, {'cluster': 9, 'word': 'Barbara,'}, {'cluster': 9, 'word': 'Starr,'}, {'cluster': 9, 'word': '[Neighbors,'}, {'cluster': 9, 'word': 'Forums,'}, {'cluster': 9, 'word': 'Den...'}, {'cluster': 9, 'word': 'we,'}, {'cluster': 9, 'word': '[3,'}, {'cluster': 9, 'word': 'YORK,'}, {'cluster': 9, 'word': 'credit,'}, {'cluster': 9, 'word': ':,'}, {'cluster': 9, 'word': 'and,'}, {'cluster': 10, 'word': '[By,'}, {'cluster': 10, 'word': '(,'}, {'cluster': 10, 'word': '),'}, {'cluster': 10, 'word': 'the,'}, {'cluster': 10, 'word': '»,'}, {'cluster': 10, 'word': \"'s,\"}, {'cluster': 10, 'word': ',,'}, {'cluster': 10, 'word': 'The,'}, {'cluster': 10, 'word': 'of,'}, {'cluster': 10, 'word': 'Min,'}, {'cluster': 10, 'word': 'Read,'}, {'cluster': 10, 'word': 'Reuters,'}, {'cluster': 10, 'word': '-,'}, {'cluster': 10, 'word': '...'}, {'cluster': 10, 'word': 'Barbara,'}, {'cluster': 10, 'word': 'Starr,'}, {'cluster': 10, 'word': '[Neighbors,'}, {'cluster': 10, 'word': 'Forums,'}, {'cluster': 10, 'word': 'Den...'}, {'cluster': 10, 'word': 'we,'}, {'cluster': 10, 'word': '[3,'}, {'cluster': 10, 'word': 'YORK,'}, {'cluster': 10, 'word': 'credit,'}, {'cluster': 10, 'word': ':,'}, {'cluster': 10, 'word': 'and,'}, {'cluster': 11, 'word': '[By,'}, {'cluster': 11, 'word': '(,'}, {'cluster': 11, 'word': '),'}, {'cluster': 11, 'word': 'the,'}, {'cluster': 11, 'word': '»,'}, {'cluster': 11, 'word': \"'s,\"}, {'cluster': 11, 'word': ',,'}, {'cluster': 11, 'word': 'The,'}, {'cluster': 11, 'word': 'of,'}, {'cluster': 11, 'word': 'Min,'}, {'cluster': 11, 'word': 'Read,'}, {'cluster': 11, 'word': 'Reuters,'}, {'cluster': 11, 'word': '-,'}, {'cluster': 11, 'word': '...'}, {'cluster': 11, 'word': 'Barbara,'}, {'cluster': 11, 'word': 'Starr,'}, {'cluster': 11, 'word': '[Neighbors,'}, {'cluster': 11, 'word': 'Forums,'}, {'cluster': 11, 'word': 'Den...'}, {'cluster': 11, 'word': 'we,'}, {'cluster': 11, 'word': '[3,'}, {'cluster': 11, 'word': 'YORK,'}, {'cluster': 11, 'word': 'credit,'}, {'cluster': 11, 'word': ':,'}, {'cluster': 11, 'word': 'and,'}]\n"
     ]
    }
   ],
   "source": [
    "df_kmeans[\"tokenized_words\"] = df[\"tokenized_words\"].to_string()\n",
    "print(get_most_common_words(df_kmeans, df_kmeans[\"kmeans12\"], 25))"
   ]
  },
  {
   "cell_type": "code",
   "execution_count": null,
   "metadata": {},
   "outputs": [],
   "source": []
  }
 ]
}