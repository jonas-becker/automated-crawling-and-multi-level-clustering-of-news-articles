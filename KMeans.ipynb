{
    "cells": [
        {
            "cell_type": "code",
            "execution_count": 1,
            "source": [
                "import pandas as pd"
            ],
            "outputs": [],
            "metadata": {}
        },
        {
            "cell_type": "markdown",
            "source": [
                "# Load JSON Files into Pandas Dataframe"
            ],
            "metadata": {}
        },
        {
            "cell_type": "code",
            "execution_count": 2,
            "source": [
                "filename = 'cluster_20-trump_ president_ king.json'\r\n",
                "path = './lda_clustered_json/'+filename\r\n",
                " \r\n",
                "with open(path, encoding='utf-8', mode='r') as currentFile:\r\n",
                "    df = pd.read_json(currentFile, orient='index')\r\n",
                "\r\n",
                "df.head(3)"
            ],
            "outputs": [
                {
                    "output_type": "execute_result",
                    "data": {
                        "text/html": [
                            "<div>\n",
                            "<style scoped>\n",
                            "    .dataframe tbody tr th:only-of-type {\n",
                            "        vertical-align: middle;\n",
                            "    }\n",
                            "\n",
                            "    .dataframe tbody tr th {\n",
                            "        vertical-align: top;\n",
                            "    }\n",
                            "\n",
                            "    .dataframe thead th {\n",
                            "        text-align: right;\n",
                            "    }\n",
                            "</style>\n",
                            "<table border=\"1\" class=\"dataframe\">\n",
                            "  <thead>\n",
                            "    <tr style=\"text-align: right;\">\n",
                            "      <th></th>\n",
                            "      <th>date_download</th>\n",
                            "      <th>date_modify</th>\n",
                            "      <th>date_publish</th>\n",
                            "      <th>description</th>\n",
                            "      <th>language</th>\n",
                            "      <th>source_domain</th>\n",
                            "      <th>maintext</th>\n",
                            "      <th>title</th>\n",
                            "      <th>url</th>\n",
                            "      <th>clusterID</th>\n",
                            "      <th>topic_percentage</th>\n",
                            "      <th>topic_keywords</th>\n",
                            "      <th>filtered_maintext</th>\n",
                            "    </tr>\n",
                            "  </thead>\n",
                            "  <tbody>\n",
                            "    <tr>\n",
                            "      <th>35</th>\n",
                            "      <td>07/14/2021, 01:04:12</td>\n",
                            "      <td>07/14/2021, 01:04:12</td>\n",
                            "      <td>06/12/2021, 15:53:42</td>\n",
                            "      <td>By Pam Benson The intelligence community - not...</td>\n",
                            "      <td>en</td>\n",
                            "      <td>security.blogs.cnn.com</td>\n",
                            "      <td>By Pam Benson The intelligence community - not...</td>\n",
                            "      <td>Official: Changes to Benghazi talking points m...</td>\n",
                            "      <td>https://security.blogs.cnn.com/2012/11/19/offi...</td>\n",
                            "      <td>20</td>\n",
                            "      <td>0.53227</td>\n",
                            "      <td>trump, president, king, obama, house, stone, h...</td>\n",
                            "      <td>pam benson intelligence community white house ...</td>\n",
                            "    </tr>\n",
                            "    <tr>\n",
                            "      <th>37</th>\n",
                            "      <td>07/14/2021, 01:04:12</td>\n",
                            "      <td>07/14/2021, 01:04:12</td>\n",
                            "      <td>06/12/2021, 15:22:34</td>\n",
                            "      <td>To complete your CNN profile and ensure you ar...</td>\n",
                            "      <td>en</td>\n",
                            "      <td>www.cnn.com</td>\n",
                            "      <td>To complete your CNN profile and ensure you ar...</td>\n",
                            "      <td>Evan McMullin runs for White House to take on ...</td>\n",
                            "      <td>https://www.cnn.com/2016/08/08/politics/evan-m...</td>\n",
                            "      <td>20</td>\n",
                            "      <td>0.98567</td>\n",
                            "      <td>trump, president, king, obama, house, stone, h...</td>\n",
                            "      <td>profile account button conditions privacy poli...</td>\n",
                            "    </tr>\n",
                            "    <tr>\n",
                            "      <th>60</th>\n",
                            "      <td>07/14/2021, 01:08:34</td>\n",
                            "      <td>07/14/2021, 01:08:34</td>\n",
                            "      <td>06/13/2021, 06:29:30</td>\n",
                            "      <td>To complete your CNN profile and ensure you ar...</td>\n",
                            "      <td>en</td>\n",
                            "      <td>www.cnn.com</td>\n",
                            "      <td>To complete your CNN profile and ensure you ar...</td>\n",
                            "      <td>Deputy AG defends AP subpoenas | CNN</td>\n",
                            "      <td>https://www.cnn.com/2013/05/14/us/justice-ap-p...</td>\n",
                            "      <td>20</td>\n",
                            "      <td>0.65164</td>\n",
                            "      <td>trump, president, king, obama, house, stone, h...</td>\n",
                            "      <td>profile account button conditions privacy poli...</td>\n",
                            "    </tr>\n",
                            "  </tbody>\n",
                            "</table>\n",
                            "</div>"
                        ],
                        "text/plain": [
                            "           date_download           date_modify          date_publish  \\\n",
                            "35  07/14/2021, 01:04:12  07/14/2021, 01:04:12  06/12/2021, 15:53:42   \n",
                            "37  07/14/2021, 01:04:12  07/14/2021, 01:04:12  06/12/2021, 15:22:34   \n",
                            "60  07/14/2021, 01:08:34  07/14/2021, 01:08:34  06/13/2021, 06:29:30   \n",
                            "\n",
                            "                                          description language  \\\n",
                            "35  By Pam Benson The intelligence community - not...       en   \n",
                            "37  To complete your CNN profile and ensure you ar...       en   \n",
                            "60  To complete your CNN profile and ensure you ar...       en   \n",
                            "\n",
                            "             source_domain                                           maintext  \\\n",
                            "35  security.blogs.cnn.com  By Pam Benson The intelligence community - not...   \n",
                            "37             www.cnn.com  To complete your CNN profile and ensure you ar...   \n",
                            "60             www.cnn.com  To complete your CNN profile and ensure you ar...   \n",
                            "\n",
                            "                                                title  \\\n",
                            "35  Official: Changes to Benghazi talking points m...   \n",
                            "37  Evan McMullin runs for White House to take on ...   \n",
                            "60               Deputy AG defends AP subpoenas | CNN   \n",
                            "\n",
                            "                                                  url  clusterID  \\\n",
                            "35  https://security.blogs.cnn.com/2012/11/19/offi...         20   \n",
                            "37  https://www.cnn.com/2016/08/08/politics/evan-m...         20   \n",
                            "60  https://www.cnn.com/2013/05/14/us/justice-ap-p...         20   \n",
                            "\n",
                            "    topic_percentage                                     topic_keywords  \\\n",
                            "35           0.53227  trump, president, king, obama, house, stone, h...   \n",
                            "37           0.98567  trump, president, king, obama, house, stone, h...   \n",
                            "60           0.65164  trump, president, king, obama, house, stone, h...   \n",
                            "\n",
                            "                                    filtered_maintext  \n",
                            "35  pam benson intelligence community white house ...  \n",
                            "37  profile account button conditions privacy poli...  \n",
                            "60  profile account button conditions privacy poli...  "
                        ]
                    },
                    "metadata": {},
                    "execution_count": 2
                }
            ],
            "metadata": {}
        },
        {
            "cell_type": "code",
            "execution_count": 3,
            "source": [
                "amount_of_articles = len(df[\"filtered_maintext\"])\r\n",
                "print(f\"Amount of articles: {amount_of_articles}\")\r\n",
                "processed_articles = df['filtered_maintext']"
            ],
            "outputs": [
                {
                    "output_type": "stream",
                    "name": "stdout",
                    "text": [
                        "Amount of articles: 9899\n"
                    ]
                }
            ],
            "metadata": {}
        },
        {
            "cell_type": "code",
            "execution_count": 4,
            "source": [
                "from sklearn.feature_extraction.text import TfidfVectorizer\r\n",
                "\r\n",
                "tfidfconverter = TfidfVectorizer(lowercase=True, stop_words='english', min_df=0.05 , max_df=0.6)  \r\n",
                "tfidf = tfidfconverter.fit_transform(processed_articles)\r\n",
                "words = tfidfconverter.get_feature_names()\r\n",
                "print(tfidf)"
            ],
            "outputs": [
                {
                    "output_type": "stream",
                    "name": "stdout",
                    "text": [
                        "  (0, 358)\t0.04187934448214907\n",
                        "  (0, 726)\t0.019535736185985763\n",
                        "  (0, 662)\t0.02982178096413444\n",
                        "  (0, 238)\t0.039497745371298486\n",
                        "  (0, 668)\t0.04240645378786761\n",
                        "  (0, 606)\t0.0753536205897937\n",
                        "  (0, 516)\t0.028552183299019634\n",
                        "  (0, 488)\t0.04076590384798725\n",
                        "  (0, 147)\t0.0457561397560888\n",
                        "  (0, 613)\t0.06129741037374882\n",
                        "  (0, 457)\t0.035819630827409486\n",
                        "  (0, 389)\t0.03440039864649566\n",
                        "  (0, 288)\t0.03493602113688847\n",
                        "  (0, 387)\t0.03287563052201695\n",
                        "  (0, 83)\t0.044864642892631104\n",
                        "  (0, 297)\t0.14162945196115412\n",
                        "  (0, 489)\t0.04045267783562697\n",
                        "  (0, 739)\t0.05904934502875641\n",
                        "  (0, 412)\t0.07115375791607371\n",
                        "  (0, 276)\t0.04258214499770199\n",
                        "  (0, 649)\t0.0435194269450302\n",
                        "  (0, 222)\t0.07000730491902885\n",
                        "  (0, 57)\t0.035819630827409486\n",
                        "  (0, 202)\t0.02978355005242834\n",
                        "  (0, 258)\t0.03705362373152568\n",
                        "  :\t:\n",
                        "  (9898, 408)\t0.12465263263213797\n",
                        "  (9898, 441)\t0.1689030508791322\n",
                        "  (9898, 254)\t0.09217886095145895\n",
                        "  (9898, 566)\t0.08585685380891703\n",
                        "  (9898, 241)\t0.10962709335047421\n",
                        "  (9898, 378)\t0.08836659920042579\n",
                        "  (9898, 430)\t0.1401176228366809\n",
                        "  (9898, 4)\t0.18751158588075303\n",
                        "  (9898, 726)\t0.15674862803776474\n",
                        "  (9898, 606)\t0.13435863307324308\n",
                        "  (9898, 516)\t0.15272918365249297\n",
                        "  (9898, 554)\t0.3852980009995704\n",
                        "  (9898, 496)\t0.10563744865470891\n",
                        "  (9898, 12)\t0.059072843867986995\n",
                        "  (9898, 161)\t0.06364860927058513\n",
                        "  (9898, 571)\t0.22281276190645516\n",
                        "  (9898, 560)\t0.10031158851580937\n",
                        "  (9898, 35)\t0.0717391747993302\n",
                        "  (9898, 31)\t0.10844582991842902\n",
                        "  (9898, 203)\t0.09907526824929626\n",
                        "  (9898, 553)\t0.08054531117392127\n",
                        "  (9898, 55)\t0.15378935208298833\n",
                        "  (9898, 453)\t0.06565377645480369\n",
                        "  (9898, 300)\t0.06173817003113315\n",
                        "  (9898, 215)\t0.3653629487803236\n"
                    ]
                }
            ],
            "metadata": {}
        },
        {
            "cell_type": "code",
            "execution_count": 5,
            "source": [
                "from sklearn.metrics.pairwise import cosine_distances\r\n",
                "\r\n",
                "cosine_similarity = cosine_distances(tfidf)\r\n",
                "cosine_similarity"
            ],
            "outputs": [
                {
                    "output_type": "execute_result",
                    "data": {
                        "text/plain": [
                            "array([[0.        , 0.92062385, 0.75031194, ..., 0.91756832, 0.78152125,\n",
                            "        0.82355272],\n",
                            "       [0.92062385, 0.        , 0.85941121, ..., 0.95150893, 0.94356035,\n",
                            "        0.8900695 ],\n",
                            "       [0.75031194, 0.85941121, 0.        , ..., 0.90483841, 0.63555379,\n",
                            "        0.7678456 ],\n",
                            "       ...,\n",
                            "       [0.91756832, 0.95150893, 0.90483841, ..., 0.        , 0.92324768,\n",
                            "        0.92177877],\n",
                            "       [0.78152125, 0.94356035, 0.63555379, ..., 0.92324768, 0.        ,\n",
                            "        0.7985514 ],\n",
                            "       [0.82355272, 0.8900695 , 0.7678456 , ..., 0.92177877, 0.7985514 ,\n",
                            "        0.        ]])"
                        ]
                    },
                    "metadata": {},
                    "execution_count": 5
                }
            ],
            "metadata": {}
        },
        {
            "cell_type": "code",
            "execution_count": 6,
            "source": [
                "from sklearn.cluster import AffinityPropagation"
            ],
            "outputs": [],
            "metadata": {}
        },
        {
            "cell_type": "code",
            "execution_count": 7,
            "source": [
                "'''\r\n",
                "clustering = AffinityPropagation(convergence_iter=5, affinity='precomputed', random_state=10)\r\n",
                "clustering.fit(cosine_similarity)\r\n",
                "labels = clustering.labels_\r\n",
                "print(labels.dtype)\r\n",
                "#cluster_centers = clustering.cluster_centers_\r\n",
                "cluster_centers_indices = clustering.cluster_centers_indices_\r\n",
                "n_clusters_ = len(cluster_centers_indices)\r\n",
                "print(n_clusters_)'''"
            ],
            "outputs": [
                {
                    "output_type": "execute_result",
                    "data": {
                        "text/plain": [
                            "\"\\nclustering = AffinityPropagation(convergence_iter=5, affinity='precomputed', random_state=10)\\nclustering.fit(cosine_similarity)\\nlabels = clustering.labels_\\nprint(labels.dtype)\\n#cluster_centers = clustering.cluster_centers_\\ncluster_centers_indices = clustering.cluster_centers_indices_\\nn_clusters_ = len(cluster_centers_indices)\\nprint(n_clusters_)\""
                        ]
                    },
                    "metadata": {},
                    "execution_count": 7
                }
            ],
            "metadata": {}
        },
        {
            "cell_type": "code",
            "execution_count": 8,
            "source": [
                "'''\r\n",
                "import matplotlib.pyplot as plt\r\n",
                "from itertools import cycle\r\n",
                "\r\n",
                "plt.close('all')\r\n",
                "plt.figure(1)\r\n",
                "plt.clf()\r\n",
                "\r\n",
                "colors = cycle('bgrcmykbgrcmykbgrcmykbgrcmyk')\r\n",
                "for k, col in zip(range(n_clusters_), colors):\r\n",
                "    class_members = labels == k\r\n",
                "    cluster_center = cosine_similarity[cluster_centers_indices[k]]\r\n",
                "    plt.plot(cosine_similarity[class_members, 0], cosine_similarity[class_members, 1], col + '.')\r\n",
                "    plt.plot(cluster_center[0], cluster_center[1], 'o', markerfacecolor=col,\r\n",
                "             markeredgecolor='k', markersize=14)\r\n",
                "    for x in cosine_similarity[class_members]:\r\n",
                "        plt.plot([cluster_center[0], x[0]], [cluster_center[1], x[1]], col)\r\n",
                "\r\n",
                "plt.title('Estimated number of clusters: %d' % n_clusters_)\r\n",
                "plt.show()'''"
            ],
            "outputs": [
                {
                    "output_type": "execute_result",
                    "data": {
                        "text/plain": [
                            "\"\\nimport matplotlib.pyplot as plt\\nfrom itertools import cycle\\n\\nplt.close('all')\\nplt.figure(1)\\nplt.clf()\\n\\ncolors = cycle('bgrcmykbgrcmykbgrcmykbgrcmyk')\\nfor k, col in zip(range(n_clusters_), colors):\\n    class_members = labels == k\\n    cluster_center = cosine_similarity[cluster_centers_indices[k]]\\n    plt.plot(cosine_similarity[class_members, 0], cosine_similarity[class_members, 1], col + '.')\\n    plt.plot(cluster_center[0], cluster_center[1], 'o', markerfacecolor=col,\\n             markeredgecolor='k', markersize=14)\\n    for x in cosine_similarity[class_members]:\\n        plt.plot([cluster_center[0], x[0]], [cluster_center[1], x[1]], col)\\n\\nplt.title('Estimated number of clusters: %d' % n_clusters_)\\nplt.show()\""
                        ]
                    },
                    "metadata": {},
                    "execution_count": 8
                }
            ],
            "metadata": {}
        },
        {
            "cell_type": "code",
            "execution_count": 9,
            "source": [
                "'''\r\n",
                "df['processed_articles'] = processed_articles\r\n",
                "df['affpropID'] = clustering.labels_'''\r\n"
            ],
            "outputs": [
                {
                    "output_type": "execute_result",
                    "data": {
                        "text/plain": [
                            "\"\\ndf['processed_articles'] = processed_articles\\ndf['affpropID'] = clustering.labels_\""
                        ]
                    },
                    "metadata": {},
                    "execution_count": 9
                }
            ],
            "metadata": {}
        },
        {
            "cell_type": "code",
            "execution_count": 10,
            "source": [
                "df.head()"
            ],
            "outputs": [
                {
                    "output_type": "execute_result",
                    "data": {
                        "text/html": [
                            "<div>\n",
                            "<style scoped>\n",
                            "    .dataframe tbody tr th:only-of-type {\n",
                            "        vertical-align: middle;\n",
                            "    }\n",
                            "\n",
                            "    .dataframe tbody tr th {\n",
                            "        vertical-align: top;\n",
                            "    }\n",
                            "\n",
                            "    .dataframe thead th {\n",
                            "        text-align: right;\n",
                            "    }\n",
                            "</style>\n",
                            "<table border=\"1\" class=\"dataframe\">\n",
                            "  <thead>\n",
                            "    <tr style=\"text-align: right;\">\n",
                            "      <th></th>\n",
                            "      <th>date_download</th>\n",
                            "      <th>date_modify</th>\n",
                            "      <th>date_publish</th>\n",
                            "      <th>description</th>\n",
                            "      <th>language</th>\n",
                            "      <th>source_domain</th>\n",
                            "      <th>maintext</th>\n",
                            "      <th>title</th>\n",
                            "      <th>url</th>\n",
                            "      <th>clusterID</th>\n",
                            "      <th>topic_percentage</th>\n",
                            "      <th>topic_keywords</th>\n",
                            "      <th>filtered_maintext</th>\n",
                            "    </tr>\n",
                            "  </thead>\n",
                            "  <tbody>\n",
                            "    <tr>\n",
                            "      <th>35</th>\n",
                            "      <td>07/14/2021, 01:04:12</td>\n",
                            "      <td>07/14/2021, 01:04:12</td>\n",
                            "      <td>06/12/2021, 15:53:42</td>\n",
                            "      <td>By Pam Benson The intelligence community - not...</td>\n",
                            "      <td>en</td>\n",
                            "      <td>security.blogs.cnn.com</td>\n",
                            "      <td>By Pam Benson The intelligence community - not...</td>\n",
                            "      <td>Official: Changes to Benghazi talking points m...</td>\n",
                            "      <td>https://security.blogs.cnn.com/2012/11/19/offi...</td>\n",
                            "      <td>20</td>\n",
                            "      <td>0.53227</td>\n",
                            "      <td>trump, president, king, obama, house, stone, h...</td>\n",
                            "      <td>pam benson intelligence community white house ...</td>\n",
                            "    </tr>\n",
                            "    <tr>\n",
                            "      <th>37</th>\n",
                            "      <td>07/14/2021, 01:04:12</td>\n",
                            "      <td>07/14/2021, 01:04:12</td>\n",
                            "      <td>06/12/2021, 15:22:34</td>\n",
                            "      <td>To complete your CNN profile and ensure you ar...</td>\n",
                            "      <td>en</td>\n",
                            "      <td>www.cnn.com</td>\n",
                            "      <td>To complete your CNN profile and ensure you ar...</td>\n",
                            "      <td>Evan McMullin runs for White House to take on ...</td>\n",
                            "      <td>https://www.cnn.com/2016/08/08/politics/evan-m...</td>\n",
                            "      <td>20</td>\n",
                            "      <td>0.98567</td>\n",
                            "      <td>trump, president, king, obama, house, stone, h...</td>\n",
                            "      <td>profile account button conditions privacy poli...</td>\n",
                            "    </tr>\n",
                            "    <tr>\n",
                            "      <th>60</th>\n",
                            "      <td>07/14/2021, 01:08:34</td>\n",
                            "      <td>07/14/2021, 01:08:34</td>\n",
                            "      <td>06/13/2021, 06:29:30</td>\n",
                            "      <td>To complete your CNN profile and ensure you ar...</td>\n",
                            "      <td>en</td>\n",
                            "      <td>www.cnn.com</td>\n",
                            "      <td>To complete your CNN profile and ensure you ar...</td>\n",
                            "      <td>Deputy AG defends AP subpoenas | CNN</td>\n",
                            "      <td>https://www.cnn.com/2013/05/14/us/justice-ap-p...</td>\n",
                            "      <td>20</td>\n",
                            "      <td>0.65164</td>\n",
                            "      <td>trump, president, king, obama, house, stone, h...</td>\n",
                            "      <td>profile account button conditions privacy poli...</td>\n",
                            "    </tr>\n",
                            "    <tr>\n",
                            "      <th>68</th>\n",
                            "      <td>07/14/2021, 01:13:12</td>\n",
                            "      <td>07/14/2021, 01:13:12</td>\n",
                            "      <td>06/13/2021, 14:42:24</td>\n",
                            "      <td>Representative Joe L. Barton on Thursday quick...</td>\n",
                            "      <td>en</td>\n",
                            "      <td>thecaucus.blogs.nytimes.com</td>\n",
                            "      <td>Representative Joe L. Barton on Thursday quick...</td>\n",
                            "      <td>Barton: What I Really Meant to Say - The New Y...</td>\n",
                            "      <td>https://thecaucus.blogs.nytimes.com/2010/06/17...</td>\n",
                            "      <td>20</td>\n",
                            "      <td>0.74849</td>\n",
                            "      <td>trump, president, king, obama, house, stone, h...</td>\n",
                            "      <td>joe barton remark liability fund uproar democr...</td>\n",
                            "    </tr>\n",
                            "    <tr>\n",
                            "      <th>104</th>\n",
                            "      <td>07/14/2021, 01:17:07</td>\n",
                            "      <td>07/14/2021, 01:17:07</td>\n",
                            "      <td>06/13/2021, 21:41:10</td>\n",
                            "      <td>It doesn't matter. That's what some in the med...</td>\n",
                            "      <td>en</td>\n",
                            "      <td>www.breitbart.com</td>\n",
                            "      <td>It doesn't matter. That's what some in the med...</td>\n",
                            "      <td>Hillary Clinton's Long History of Hiding Docum...</td>\n",
                            "      <td>https://www.breitbart.com/politics/2015/03/04/...</td>\n",
                            "      <td>20</td>\n",
                            "      <td>0.68846</td>\n",
                            "      <td>trump, president, king, obama, house, stone, h...</td>\n",
                            "      <td>secretary hillary clinton decision server scru...</td>\n",
                            "    </tr>\n",
                            "  </tbody>\n",
                            "</table>\n",
                            "</div>"
                        ],
                        "text/plain": [
                            "            date_download           date_modify          date_publish  \\\n",
                            "35   07/14/2021, 01:04:12  07/14/2021, 01:04:12  06/12/2021, 15:53:42   \n",
                            "37   07/14/2021, 01:04:12  07/14/2021, 01:04:12  06/12/2021, 15:22:34   \n",
                            "60   07/14/2021, 01:08:34  07/14/2021, 01:08:34  06/13/2021, 06:29:30   \n",
                            "68   07/14/2021, 01:13:12  07/14/2021, 01:13:12  06/13/2021, 14:42:24   \n",
                            "104  07/14/2021, 01:17:07  07/14/2021, 01:17:07  06/13/2021, 21:41:10   \n",
                            "\n",
                            "                                           description language  \\\n",
                            "35   By Pam Benson The intelligence community - not...       en   \n",
                            "37   To complete your CNN profile and ensure you ar...       en   \n",
                            "60   To complete your CNN profile and ensure you ar...       en   \n",
                            "68   Representative Joe L. Barton on Thursday quick...       en   \n",
                            "104  It doesn't matter. That's what some in the med...       en   \n",
                            "\n",
                            "                   source_domain  \\\n",
                            "35        security.blogs.cnn.com   \n",
                            "37                   www.cnn.com   \n",
                            "60                   www.cnn.com   \n",
                            "68   thecaucus.blogs.nytimes.com   \n",
                            "104            www.breitbart.com   \n",
                            "\n",
                            "                                              maintext  \\\n",
                            "35   By Pam Benson The intelligence community - not...   \n",
                            "37   To complete your CNN profile and ensure you ar...   \n",
                            "60   To complete your CNN profile and ensure you ar...   \n",
                            "68   Representative Joe L. Barton on Thursday quick...   \n",
                            "104  It doesn't matter. That's what some in the med...   \n",
                            "\n",
                            "                                                 title  \\\n",
                            "35   Official: Changes to Benghazi talking points m...   \n",
                            "37   Evan McMullin runs for White House to take on ...   \n",
                            "60                Deputy AG defends AP subpoenas | CNN   \n",
                            "68   Barton: What I Really Meant to Say - The New Y...   \n",
                            "104  Hillary Clinton's Long History of Hiding Docum...   \n",
                            "\n",
                            "                                                   url  clusterID  \\\n",
                            "35   https://security.blogs.cnn.com/2012/11/19/offi...         20   \n",
                            "37   https://www.cnn.com/2016/08/08/politics/evan-m...         20   \n",
                            "60   https://www.cnn.com/2013/05/14/us/justice-ap-p...         20   \n",
                            "68   https://thecaucus.blogs.nytimes.com/2010/06/17...         20   \n",
                            "104  https://www.breitbart.com/politics/2015/03/04/...         20   \n",
                            "\n",
                            "     topic_percentage                                     topic_keywords  \\\n",
                            "35            0.53227  trump, president, king, obama, house, stone, h...   \n",
                            "37            0.98567  trump, president, king, obama, house, stone, h...   \n",
                            "60            0.65164  trump, president, king, obama, house, stone, h...   \n",
                            "68            0.74849  trump, president, king, obama, house, stone, h...   \n",
                            "104           0.68846  trump, president, king, obama, house, stone, h...   \n",
                            "\n",
                            "                                     filtered_maintext  \n",
                            "35   pam benson intelligence community white house ...  \n",
                            "37   profile account button conditions privacy poli...  \n",
                            "60   profile account button conditions privacy poli...  \n",
                            "68   joe barton remark liability fund uproar democr...  \n",
                            "104  secretary hillary clinton decision server scru...  "
                        ]
                    },
                    "metadata": {},
                    "execution_count": 10
                }
            ],
            "metadata": {}
        },
        {
            "cell_type": "code",
            "execution_count": 11,
            "source": [
                "from sklearn.cluster import KMeans\r\n",
                "from scipy.spatial.distance import cdist\r\n",
                "from sklearn import metrics\r\n",
                "from tqdm import tqdm\r\n",
                "from scipy.spatial.distance import cdist\r\n",
                "import numpy as np\r\n"
            ],
            "outputs": [],
            "metadata": {}
        },
        {
            "cell_type": "code",
            "execution_count": 12,
            "source": [
                "max_clusters = 10"
            ],
            "outputs": [],
            "metadata": {}
        },
        {
            "cell_type": "code",
            "execution_count": 13,
            "source": [
                "distortions = []\r\n",
                "inertias = []\r\n",
                "mapping1 = {}\r\n",
                "mapping2 = {}\r\n",
                "\r\n",
                "last_distortion = 0\r\n",
                "\r\n",
                "all_kmeans_models = []\r\n",
                "\r\n",
                "K = range(2,max_clusters)\r\n",
                "X = np.matrix(tfidf.toarray())\r\n",
                "for i in tqdm(K):\r\n",
                "    print(\"Iteration: \" + str(i))\r\n",
                "    kMeans = KMeans(n_clusters=i, max_iter=400).fit(tfidf)\r\n",
                "    kMeans.predict(tfidf)\r\n",
                "    labels = kMeans.labels_\r\n",
                "    cluster_centers = kMeans.cluster_centers_\r\n",
                "    inertias.append(kMeans.inertia_)\r\n",
                "    distortions.append(sum(np.min(cdist(X, cluster_centers, 'euclidean'), axis=1)) / X.shape[0])\r\n",
                "\r\n",
                "    this_silhouette = metrics.silhouette_score(tfidf.toarray(), labels, metric='sqeuclidean')\r\n",
                "\r\n",
                "    print(\"Silhouette Score: \" + str(this_silhouette))\r\n",
                "\r\n",
                "    mapping1[i] =  sum(np.min(cdist(X, cluster_centers, 'euclidean'), axis=1)) / X.shape[0]\r\n",
                "    mapping2[i] = kMeans.inertia_\r\n",
                "\r\n",
                "    all_kmeans_models.append(kMeans)\r\n",
                "\r\n",
                "    common_words = kMeans.cluster_centers_.argsort()[:,-1:-11:-1]\r\n",
                "    for num, centroid in enumerate(common_words):\r\n",
                "        print(str(num) + ' : ' + ', '.join(words[word] for word in centroid))"
            ],
            "outputs": [
                {
                    "output_type": "stream",
                    "name": "stderr",
                    "text": [
                        "  0%|          | 0/8 [00:00<?, ?it/s]"
                    ]
                },
                {
                    "output_type": "stream",
                    "name": "stdout",
                    "text": [
                        "Iteration: 2\n"
                    ]
                },
                {
                    "output_type": "stream",
                    "name": "stderr",
                    "text": [
                        " 12%|█▎        | 1/8 [01:01<07:07, 61.08s/it]"
                    ]
                },
                {
                    "output_type": "stream",
                    "name": "stdout",
                    "text": [
                        "Silhouette Score: 0.02703291760079723\n",
                        "0 : obama, white, administration, security, official, russia, investigation, donald, intelligence, mueller\n",
                        "1 : clinton, biden, party, democrats, obama, campaign, republicans, senate, republican, election\n",
                        "Iteration: 3\n"
                    ]
                },
                {
                    "output_type": "stream",
                    "name": "stderr",
                    "text": [
                        " 25%|██▌       | 2/8 [02:06<06:22, 63.72s/it]"
                    ]
                },
                {
                    "output_type": "stream",
                    "name": "stdout",
                    "text": [
                        "Silhouette Score: 0.022884827548854465\n",
                        "0 : obama, biden, senate, democrats, party, republicans, white, donald, campaign, policy\n",
                        "1 : mueller, investigation, intelligence, russia, fbi, official, committee, counsel, department, comey\n",
                        "2 : clinton, hillary, sanders, campaign, obama, candidate, voter, donald, bernie, election\n",
                        "Iteration: 4\n"
                    ]
                },
                {
                    "output_type": "stream",
                    "name": "stderr",
                    "text": [
                        " 38%|███▊      | 3/8 [03:20<05:41, 68.27s/it]"
                    ]
                },
                {
                    "output_type": "stream",
                    "name": "stdout",
                    "text": [
                        "Silhouette Score: 0.032114846955939635\n",
                        "0 : biden, newsletters, manage, joe, election, impeachment, democrats, sanders, policy, privacy\n",
                        "1 : clinton, hillary, sanders, campaign, obama, candidate, donald, voter, election, secretary\n",
                        "2 : obama, white, administration, official, security, russia, donald, campaign, investigation, mueller\n",
                        "3 : senate, republicans, party, democrats, republican, obama, gop, vote, election, campaign\n",
                        "Iteration: 5\n"
                    ]
                },
                {
                    "output_type": "stream",
                    "name": "stderr",
                    "text": [
                        " 50%|█████     | 4/8 [04:41<04:53, 73.27s/it]"
                    ]
                },
                {
                    "output_type": "stream",
                    "name": "stdout",
                    "text": [
                        "Silhouette Score: 0.03636013104128971\n",
                        "0 : mueller, investigation, fbi, russia, counsel, comey, attorney, intelligence, campaign, justice\n",
                        "1 : clinton, hillary, sanders, campaign, obama, candidate, donald, voter, election, bernie\n",
                        "2 : senate, republicans, party, democrats, republican, gop, vote, obama, election, sen\n",
                        "3 : biden, newsletters, manage, joe, election, impeachment, democrats, policy, privacy, sign\n",
                        "4 : obama, white, administration, security, donald, united, policy, official, bush, states\n",
                        "Iteration: 6\n"
                    ]
                },
                {
                    "output_type": "stream",
                    "name": "stderr",
                    "text": [
                        " 62%|██████▎   | 5/8 [06:00<03:46, 75.50s/it]"
                    ]
                },
                {
                    "output_type": "stream",
                    "name": "stdout",
                    "text": [
                        "Silhouette Score: 0.03494687506519712\n",
                        "0 : senate, republicans, party, democrats, republican, gop, vote, election, campaign, sen\n",
                        "1 : clinton, hillary, sanders, campaign, obama, candidate, donald, voter, election, bernie\n",
                        "2 : white, donald, administration, security, united, policy, official, bush, states, government\n",
                        "3 : biden, newsletters, manage, joe, election, impeachment, democrats, policy, privacy, sign\n",
                        "4 : obama, white, barack, administration, republicans, campaign, bush, speech, washington, policy\n",
                        "5 : mueller, investigation, fbi, russia, counsel, comey, intelligence, attorney, justice, committee\n",
                        "Iteration: 7\n"
                    ]
                },
                {
                    "output_type": "stream",
                    "name": "stderr",
                    "text": [
                        " 75%|███████▌  | 6/8 [07:24<02:36, 78.20s/it]"
                    ]
                },
                {
                    "output_type": "stream",
                    "name": "stdout",
                    "text": [
                        "Silhouette Score: 0.03636280084661042\n",
                        "0 : clinton, hillary, campaign, sanders, obama, candidate, donald, voter, election, secretary\n",
                        "1 : security, official, intelligence, administration, iran, united, russia, states, syria, white\n",
                        "2 : obama, white, barack, administration, campaign, republicans, bush, speech, clinton, washington\n",
                        "3 : senate, republicans, democrats, party, republican, gop, vote, committee, election, congress\n",
                        "4 : mueller, investigation, fbi, comey, counsel, russia, attorney, justice, campaign, committee\n",
                        "5 : donald, campaign, white, breitbart, policy, woman, right, twitter, bush, candidate\n",
                        "6 : biden, joe, newsletters, manage, election, democrats, impeachment, sanders, policy, privacy\n",
                        "Iteration: 8\n"
                    ]
                },
                {
                    "output_type": "stream",
                    "name": "stderr",
                    "text": [
                        " 88%|████████▊ | 7/8 [08:49<01:20, 80.61s/it]"
                    ]
                },
                {
                    "output_type": "stream",
                    "name": "stdout",
                    "text": [
                        "Silhouette Score: 0.03758785202603142\n",
                        "0 : biden, newsletters, joe, manage, election, democrats, policy, privacy, impeachment, sign\n",
                        "1 : security, intelligence, official, iran, administration, united, russia, states, syria, obama\n",
                        "2 : mueller, investigation, fbi, comey, counsel, attorney, russia, justice, campaign, department\n",
                        "3 : senate, democrats, republicans, vote, committee, mcconnell, pelosi, congress, impeachment, leader\n",
                        "4 : donald, white, breitbart, policy, campaign, twitter, border, woman, right, america\n",
                        "5 : party, candidate, campaign, republican, cruz, voter, election, gop, republicans, percent\n",
                        "6 : clinton, hillary, campaign, sanders, obama, candidate, donald, voter, secretary, election\n",
                        "7 : obama, white, barack, administration, campaign, republicans, speech, bush, washington, clinton\n",
                        "Iteration: 9\n"
                    ]
                },
                {
                    "output_type": "stream",
                    "name": "stderr",
                    "text": [
                        "100%|██████████| 8/8 [10:18<00:00, 77.29s/it]"
                    ]
                },
                {
                    "output_type": "stream",
                    "name": "stdout",
                    "text": [
                        "Silhouette Score: 0.04238651739560365\n",
                        "0 : intelligence, security, official, iran, administration, russia, united, syria, states, iraq\n",
                        "1 : border, immigration, immigrant, wall, mexico, security, democrats, child, administration, law\n",
                        "2 : donald, white, campaign, policy, bush, woman, right, america, york, washington\n",
                        "3 : biden, newsletters, joe, manage, election, impeachment, democrats, sanders, policy, privacy\n",
                        "4 : mueller, investigation, fbi, comey, counsel, attorney, russia, justice, campaign, department\n",
                        "5 : breitbart, facebook, newsletter, copyright, sign, twitter, comment, clinton, follow, obama\n",
                        "6 : obama, white, barack, administration, campaign, bush, republicans, speech, clinton, washington\n",
                        "7 : clinton, hillary, campaign, sanders, obama, candidate, donald, voter, election, secretary\n",
                        "8 : senate, republicans, party, democrats, republican, gop, vote, election, committee, sen\n"
                    ]
                },
                {
                    "output_type": "stream",
                    "name": "stderr",
                    "text": [
                        "\n"
                    ]
                }
            ],
            "metadata": {}
        },
        {
            "cell_type": "code",
            "execution_count": 14,
            "source": [
                "from kneed import KneeLocator\r\n",
                "print(\"The elbow point of the curve is: \")\r\n",
                "kneedle = KneeLocator(K, distortions, S=1.0, curve=\"convex\", direction=\"decreasing\")\r\n",
                "print(kneedle.knee_y)\r\n",
                "knee = kneedle.knee"
            ],
            "outputs": [
                {
                    "output_type": "error",
                    "ename": "ModuleNotFoundError",
                    "evalue": "No module named 'kneed'",
                    "traceback": [
                        "\u001b[1;31m---------------------------------------------------------------------------\u001b[0m",
                        "\u001b[1;31mModuleNotFoundError\u001b[0m                       Traceback (most recent call last)",
                        "\u001b[1;32m<ipython-input-14-14a925670f85>\u001b[0m in \u001b[0;36m<module>\u001b[1;34m\u001b[0m\n\u001b[1;32m----> 1\u001b[1;33m \u001b[1;32mfrom\u001b[0m \u001b[0mkneed\u001b[0m \u001b[1;32mimport\u001b[0m \u001b[0mKneeLocator\u001b[0m\u001b[1;33m\u001b[0m\u001b[1;33m\u001b[0m\u001b[0m\n\u001b[0m\u001b[0;32m      2\u001b[0m \u001b[0mprint\u001b[0m\u001b[1;33m(\u001b[0m\u001b[1;34m\"The elbow point of the curve is: \"\u001b[0m\u001b[1;33m)\u001b[0m\u001b[1;33m\u001b[0m\u001b[1;33m\u001b[0m\u001b[0m\n\u001b[0;32m      3\u001b[0m \u001b[0mkneedle\u001b[0m \u001b[1;33m=\u001b[0m \u001b[0mKneeLocator\u001b[0m\u001b[1;33m(\u001b[0m\u001b[0mK\u001b[0m\u001b[1;33m,\u001b[0m \u001b[0mdistortions\u001b[0m\u001b[1;33m,\u001b[0m \u001b[0mS\u001b[0m\u001b[1;33m=\u001b[0m\u001b[1;36m1.0\u001b[0m\u001b[1;33m,\u001b[0m \u001b[0mcurve\u001b[0m\u001b[1;33m=\u001b[0m\u001b[1;34m\"convex\"\u001b[0m\u001b[1;33m,\u001b[0m \u001b[0mdirection\u001b[0m\u001b[1;33m=\u001b[0m\u001b[1;34m\"decreasing\"\u001b[0m\u001b[1;33m)\u001b[0m\u001b[1;33m\u001b[0m\u001b[1;33m\u001b[0m\u001b[0m\n\u001b[0;32m      4\u001b[0m \u001b[0mprint\u001b[0m\u001b[1;33m(\u001b[0m\u001b[0mkneedle\u001b[0m\u001b[1;33m.\u001b[0m\u001b[0mknee_y\u001b[0m\u001b[1;33m)\u001b[0m\u001b[1;33m\u001b[0m\u001b[1;33m\u001b[0m\u001b[0m\n\u001b[0;32m      5\u001b[0m \u001b[0mknee\u001b[0m \u001b[1;33m=\u001b[0m \u001b[0mkneedle\u001b[0m\u001b[1;33m.\u001b[0m\u001b[0mknee\u001b[0m\u001b[1;33m\u001b[0m\u001b[1;33m\u001b[0m\u001b[0m\n",
                        "\u001b[1;31mModuleNotFoundError\u001b[0m: No module named 'kneed'"
                    ]
                }
            ],
            "metadata": {}
        },
        {
            "cell_type": "code",
            "execution_count": null,
            "source": [
                "kneedle.plot_knee()"
            ],
            "outputs": [
                {
                    "output_type": "error",
                    "ename": "TypeError",
                    "evalue": "ufunc 'isfinite' not supported for the input types, and the inputs could not be safely coerced to any supported types according to the casting rule ''safe''",
                    "traceback": [
                        "\u001b[1;31m---------------------------------------------------------------------------\u001b[0m",
                        "\u001b[1;31mTypeError\u001b[0m                                 Traceback (most recent call last)",
                        "\u001b[1;32m<ipython-input-64-8110822703b8>\u001b[0m in \u001b[0;36m<module>\u001b[1;34m\u001b[0m\n\u001b[1;32m----> 1\u001b[1;33m \u001b[0mkneedle\u001b[0m\u001b[1;33m.\u001b[0m\u001b[0mplot_knee\u001b[0m\u001b[1;33m(\u001b[0m\u001b[1;33m)\u001b[0m\u001b[1;33m\u001b[0m\u001b[1;33m\u001b[0m\u001b[0m\n\u001b[0m",
                        "\u001b[1;32m~\\anaconda3\\lib\\site-packages\\kneed\\knee_locator.py\u001b[0m in \u001b[0;36mplot_knee\u001b[1;34m(self, figsize)\u001b[0m\n\u001b[0;32m    355\u001b[0m         \u001b[0mplt\u001b[0m\u001b[1;33m.\u001b[0m\u001b[0mtitle\u001b[0m\u001b[1;33m(\u001b[0m\u001b[1;34m\"Knee Point\"\u001b[0m\u001b[1;33m)\u001b[0m\u001b[1;33m\u001b[0m\u001b[1;33m\u001b[0m\u001b[0m\n\u001b[0;32m    356\u001b[0m         \u001b[0mplt\u001b[0m\u001b[1;33m.\u001b[0m\u001b[0mplot\u001b[0m\u001b[1;33m(\u001b[0m\u001b[0mself\u001b[0m\u001b[1;33m.\u001b[0m\u001b[0mx\u001b[0m\u001b[1;33m,\u001b[0m \u001b[0mself\u001b[0m\u001b[1;33m.\u001b[0m\u001b[0my\u001b[0m\u001b[1;33m,\u001b[0m \u001b[1;34m\"b\"\u001b[0m\u001b[1;33m,\u001b[0m \u001b[0mlabel\u001b[0m\u001b[1;33m=\u001b[0m\u001b[1;34m\"data\"\u001b[0m\u001b[1;33m)\u001b[0m\u001b[1;33m\u001b[0m\u001b[1;33m\u001b[0m\u001b[0m\n\u001b[1;32m--> 357\u001b[1;33m         plt.vlines(\n\u001b[0m\u001b[0;32m    358\u001b[0m             \u001b[0mself\u001b[0m\u001b[1;33m.\u001b[0m\u001b[0mknee\u001b[0m\u001b[1;33m,\u001b[0m \u001b[0mplt\u001b[0m\u001b[1;33m.\u001b[0m\u001b[0mylim\u001b[0m\u001b[1;33m(\u001b[0m\u001b[1;33m)\u001b[0m\u001b[1;33m[\u001b[0m\u001b[1;36m0\u001b[0m\u001b[1;33m]\u001b[0m\u001b[1;33m,\u001b[0m \u001b[0mplt\u001b[0m\u001b[1;33m.\u001b[0m\u001b[0mylim\u001b[0m\u001b[1;33m(\u001b[0m\u001b[1;33m)\u001b[0m\u001b[1;33m[\u001b[0m\u001b[1;36m1\u001b[0m\u001b[1;33m]\u001b[0m\u001b[1;33m,\u001b[0m \u001b[0mlinestyles\u001b[0m\u001b[1;33m=\u001b[0m\u001b[1;34m\"--\"\u001b[0m\u001b[1;33m,\u001b[0m \u001b[0mlabel\u001b[0m\u001b[1;33m=\u001b[0m\u001b[1;34m\"knee/elbow\"\u001b[0m\u001b[1;33m\u001b[0m\u001b[1;33m\u001b[0m\u001b[0m\n\u001b[0;32m    359\u001b[0m         )\n",
                        "\u001b[1;32m~\\anaconda3\\lib\\site-packages\\matplotlib\\pyplot.py\u001b[0m in \u001b[0;36mvlines\u001b[1;34m(x, ymin, ymax, colors, linestyles, label, data, **kwargs)\u001b[0m\n\u001b[0;32m   3259\u001b[0m         \u001b[0mx\u001b[0m\u001b[1;33m,\u001b[0m \u001b[0mymin\u001b[0m\u001b[1;33m,\u001b[0m \u001b[0mymax\u001b[0m\u001b[1;33m,\u001b[0m \u001b[0mcolors\u001b[0m\u001b[1;33m=\u001b[0m\u001b[1;32mNone\u001b[0m\u001b[1;33m,\u001b[0m \u001b[0mlinestyles\u001b[0m\u001b[1;33m=\u001b[0m\u001b[1;34m'solid'\u001b[0m\u001b[1;33m,\u001b[0m \u001b[0mlabel\u001b[0m\u001b[1;33m=\u001b[0m\u001b[1;34m''\u001b[0m\u001b[1;33m,\u001b[0m \u001b[1;33m*\u001b[0m\u001b[1;33m,\u001b[0m\u001b[1;33m\u001b[0m\u001b[1;33m\u001b[0m\u001b[0m\n\u001b[0;32m   3260\u001b[0m         data=None, **kwargs):\n\u001b[1;32m-> 3261\u001b[1;33m     return gca().vlines(\n\u001b[0m\u001b[0;32m   3262\u001b[0m         \u001b[0mx\u001b[0m\u001b[1;33m,\u001b[0m \u001b[0mymin\u001b[0m\u001b[1;33m,\u001b[0m \u001b[0mymax\u001b[0m\u001b[1;33m,\u001b[0m \u001b[0mcolors\u001b[0m\u001b[1;33m=\u001b[0m\u001b[0mcolors\u001b[0m\u001b[1;33m,\u001b[0m \u001b[0mlinestyles\u001b[0m\u001b[1;33m=\u001b[0m\u001b[0mlinestyles\u001b[0m\u001b[1;33m,\u001b[0m\u001b[1;33m\u001b[0m\u001b[1;33m\u001b[0m\u001b[0m\n\u001b[0;32m   3263\u001b[0m         \u001b[0mlabel\u001b[0m\u001b[1;33m=\u001b[0m\u001b[0mlabel\u001b[0m\u001b[1;33m,\u001b[0m \u001b[1;33m**\u001b[0m\u001b[1;33m(\u001b[0m\u001b[1;33m{\u001b[0m\u001b[1;34m\"data\"\u001b[0m\u001b[1;33m:\u001b[0m \u001b[0mdata\u001b[0m\u001b[1;33m}\u001b[0m \u001b[1;32mif\u001b[0m \u001b[0mdata\u001b[0m \u001b[1;32mis\u001b[0m \u001b[1;32mnot\u001b[0m \u001b[1;32mNone\u001b[0m \u001b[1;32melse\u001b[0m \u001b[1;33m{\u001b[0m\u001b[1;33m}\u001b[0m\u001b[1;33m)\u001b[0m\u001b[1;33m,\u001b[0m\u001b[1;33m\u001b[0m\u001b[1;33m\u001b[0m\u001b[0m\n",
                        "\u001b[1;32m~\\anaconda3\\lib\\site-packages\\matplotlib\\__init__.py\u001b[0m in \u001b[0;36minner\u001b[1;34m(ax, data, *args, **kwargs)\u001b[0m\n\u001b[0;32m   1359\u001b[0m     \u001b[1;32mdef\u001b[0m \u001b[0minner\u001b[0m\u001b[1;33m(\u001b[0m\u001b[0max\u001b[0m\u001b[1;33m,\u001b[0m \u001b[1;33m*\u001b[0m\u001b[0margs\u001b[0m\u001b[1;33m,\u001b[0m \u001b[0mdata\u001b[0m\u001b[1;33m=\u001b[0m\u001b[1;32mNone\u001b[0m\u001b[1;33m,\u001b[0m \u001b[1;33m**\u001b[0m\u001b[0mkwargs\u001b[0m\u001b[1;33m)\u001b[0m\u001b[1;33m:\u001b[0m\u001b[1;33m\u001b[0m\u001b[1;33m\u001b[0m\u001b[0m\n\u001b[0;32m   1360\u001b[0m         \u001b[1;32mif\u001b[0m \u001b[0mdata\u001b[0m \u001b[1;32mis\u001b[0m \u001b[1;32mNone\u001b[0m\u001b[1;33m:\u001b[0m\u001b[1;33m\u001b[0m\u001b[1;33m\u001b[0m\u001b[0m\n\u001b[1;32m-> 1361\u001b[1;33m             \u001b[1;32mreturn\u001b[0m \u001b[0mfunc\u001b[0m\u001b[1;33m(\u001b[0m\u001b[0max\u001b[0m\u001b[1;33m,\u001b[0m \u001b[1;33m*\u001b[0m\u001b[0mmap\u001b[0m\u001b[1;33m(\u001b[0m\u001b[0msanitize_sequence\u001b[0m\u001b[1;33m,\u001b[0m \u001b[0margs\u001b[0m\u001b[1;33m)\u001b[0m\u001b[1;33m,\u001b[0m \u001b[1;33m**\u001b[0m\u001b[0mkwargs\u001b[0m\u001b[1;33m)\u001b[0m\u001b[1;33m\u001b[0m\u001b[1;33m\u001b[0m\u001b[0m\n\u001b[0m\u001b[0;32m   1362\u001b[0m \u001b[1;33m\u001b[0m\u001b[0m\n\u001b[0;32m   1363\u001b[0m         \u001b[0mbound\u001b[0m \u001b[1;33m=\u001b[0m \u001b[0mnew_sig\u001b[0m\u001b[1;33m.\u001b[0m\u001b[0mbind\u001b[0m\u001b[1;33m(\u001b[0m\u001b[0max\u001b[0m\u001b[1;33m,\u001b[0m \u001b[1;33m*\u001b[0m\u001b[0margs\u001b[0m\u001b[1;33m,\u001b[0m \u001b[1;33m**\u001b[0m\u001b[0mkwargs\u001b[0m\u001b[1;33m)\u001b[0m\u001b[1;33m\u001b[0m\u001b[1;33m\u001b[0m\u001b[0m\n",
                        "\u001b[1;32m~\\anaconda3\\lib\\site-packages\\matplotlib\\axes\\_axes.py\u001b[0m in \u001b[0;36mvlines\u001b[1;34m(self, x, ymin, ymax, colors, linestyles, label, **kwargs)\u001b[0m\n\u001b[0;32m   1127\u001b[0m \u001b[1;33m\u001b[0m\u001b[0m\n\u001b[0;32m   1128\u001b[0m             \u001b[0mcorners\u001b[0m \u001b[1;33m=\u001b[0m \u001b[1;33m(\u001b[0m\u001b[0mminx\u001b[0m\u001b[1;33m,\u001b[0m \u001b[0mminy\u001b[0m\u001b[1;33m)\u001b[0m\u001b[1;33m,\u001b[0m \u001b[1;33m(\u001b[0m\u001b[0mmaxx\u001b[0m\u001b[1;33m,\u001b[0m \u001b[0mmaxy\u001b[0m\u001b[1;33m)\u001b[0m\u001b[1;33m\u001b[0m\u001b[1;33m\u001b[0m\u001b[0m\n\u001b[1;32m-> 1129\u001b[1;33m             \u001b[0mself\u001b[0m\u001b[1;33m.\u001b[0m\u001b[0mupdate_datalim\u001b[0m\u001b[1;33m(\u001b[0m\u001b[0mcorners\u001b[0m\u001b[1;33m)\u001b[0m\u001b[1;33m\u001b[0m\u001b[1;33m\u001b[0m\u001b[0m\n\u001b[0m\u001b[0;32m   1130\u001b[0m             \u001b[0mself\u001b[0m\u001b[1;33m.\u001b[0m\u001b[0m_request_autoscale_view\u001b[0m\u001b[1;33m(\u001b[0m\u001b[1;33m)\u001b[0m\u001b[1;33m\u001b[0m\u001b[1;33m\u001b[0m\u001b[0m\n\u001b[0;32m   1131\u001b[0m \u001b[1;33m\u001b[0m\u001b[0m\n",
                        "\u001b[1;32m~\\anaconda3\\lib\\site-packages\\matplotlib\\axes\\_base.py\u001b[0m in \u001b[0;36mupdate_datalim\u001b[1;34m(self, xys, updatex, updatey)\u001b[0m\n\u001b[0;32m   2282\u001b[0m         \"\"\"\n\u001b[0;32m   2283\u001b[0m         \u001b[0mxys\u001b[0m \u001b[1;33m=\u001b[0m \u001b[0mnp\u001b[0m\u001b[1;33m.\u001b[0m\u001b[0masarray\u001b[0m\u001b[1;33m(\u001b[0m\u001b[0mxys\u001b[0m\u001b[1;33m)\u001b[0m\u001b[1;33m\u001b[0m\u001b[1;33m\u001b[0m\u001b[0m\n\u001b[1;32m-> 2284\u001b[1;33m         \u001b[1;32mif\u001b[0m \u001b[1;32mnot\u001b[0m \u001b[0mnp\u001b[0m\u001b[1;33m.\u001b[0m\u001b[0many\u001b[0m\u001b[1;33m(\u001b[0m\u001b[0mnp\u001b[0m\u001b[1;33m.\u001b[0m\u001b[0misfinite\u001b[0m\u001b[1;33m(\u001b[0m\u001b[0mxys\u001b[0m\u001b[1;33m)\u001b[0m\u001b[1;33m)\u001b[0m\u001b[1;33m:\u001b[0m\u001b[1;33m\u001b[0m\u001b[1;33m\u001b[0m\u001b[0m\n\u001b[0m\u001b[0;32m   2285\u001b[0m             \u001b[1;32mreturn\u001b[0m\u001b[1;33m\u001b[0m\u001b[1;33m\u001b[0m\u001b[0m\n\u001b[0;32m   2286\u001b[0m         self.dataLim.update_from_data_xy(xys, self.ignore_existing_data_limits,\n",
                        "\u001b[1;31mTypeError\u001b[0m: ufunc 'isfinite' not supported for the input types, and the inputs could not be safely coerced to any supported types according to the casting rule ''safe''"
                    ]
                },
                {
                    "output_type": "display_data",
                    "data": {
                        "image/png": "[encoded data removed]",
                        "text/plain": [
                            "<Figure size 432x432 with 1 Axes>"
                        ]
                    },
                    "metadata": {
                        "needs_background": "light"
                    }
                }
            ],
            "metadata": {}
        },
        {
            "cell_type": "code",
            "execution_count": null,
            "source": [
                "import matplotlib.pyplot as plt\r\n",
                "\r\n",
                "plt.plot(K, inertias, 'bx-')\r\n",
                "plt.xlabel('Values of K')\r\n",
                "plt.ylabel('Inertia')\r\n",
                "plt.title('The Elbow Method using Inertia')\r\n",
                "plt.show()"
            ],
            "outputs": [
                {
                    "output_type": "display_data",
                    "data": {
                        "image/png": "[encoded data removed]",
                        "text/plain": [
                            "<Figure size 432x288 with 1 Axes>"
                        ]
                    },
                    "metadata": {
                        "needs_background": "light"
                    }
                }
            ],
            "metadata": {}
        },
        {
            "cell_type": "code",
            "execution_count": null,
            "source": [
                "plt.plot(K, distortions, 'bx-')\r\n",
                "plt.xlabel('Values of K')\r\n",
                "plt.ylabel('Distortion')\r\n",
                "plt.title('The Elbow Method using Distortion')\r\n",
                "plt.show()"
            ],
            "outputs": [
                {
                    "output_type": "display_data",
                    "data": {
                        "image/png": "[encoded data removed]",
                        "text/plain": [
                            "<Figure size 432x288 with 1 Axes>"
                        ]
                    },
                    "metadata": {
                        "needs_background": "light"
                    }
                }
            ],
            "metadata": {}
        },
        {
            "cell_type": "code",
            "execution_count": null,
            "source": [
                "# save the clusterIDs to the dataframe\r\n",
                "# minus 2 because we start checking with 2 clusters\r\n",
                "df[\"kMeans_ID\"] = all_kmeans_models[knee-2].labels_\r\n",
                "\r\n",
                "df.head(3)"
            ],
            "outputs": [
                {
                    "output_type": "execute_result",
                    "data": {
                        "text/html": [
                            "<div>\n",
                            "<style scoped>\n",
                            "    .dataframe tbody tr th:only-of-type {\n",
                            "        vertical-align: middle;\n",
                            "    }\n",
                            "\n",
                            "    .dataframe tbody tr th {\n",
                            "        vertical-align: top;\n",
                            "    }\n",
                            "\n",
                            "    .dataframe thead th {\n",
                            "        text-align: right;\n",
                            "    }\n",
                            "</style>\n",
                            "<table border=\"1\" class=\"dataframe\">\n",
                            "  <thead>\n",
                            "    <tr style=\"text-align: right;\">\n",
                            "      <th></th>\n",
                            "      <th>date_download</th>\n",
                            "      <th>date_modify</th>\n",
                            "      <th>date_publish</th>\n",
                            "      <th>description</th>\n",
                            "      <th>language</th>\n",
                            "      <th>source_domain</th>\n",
                            "      <th>maintext</th>\n",
                            "      <th>title</th>\n",
                            "      <th>url</th>\n",
                            "      <th>clusterID</th>\n",
                            "      <th>topic_percentage</th>\n",
                            "      <th>topic_keywords</th>\n",
                            "      <th>filtered_maintext</th>\n",
                            "      <th>kMeans_ID</th>\n",
                            "    </tr>\n",
                            "  </thead>\n",
                            "  <tbody>\n",
                            "    <tr>\n",
                            "      <th>35</th>\n",
                            "      <td>07/14/2021, 01:04:12</td>\n",
                            "      <td>07/14/2021, 01:04:12</td>\n",
                            "      <td>06/12/2021, 15:53:42</td>\n",
                            "      <td>By Pam Benson The intelligence community - not...</td>\n",
                            "      <td>en</td>\n",
                            "      <td>security.blogs.cnn.com</td>\n",
                            "      <td>By Pam Benson The intelligence community - not...</td>\n",
                            "      <td>Official: Changes to Benghazi talking points m...</td>\n",
                            "      <td>https://security.blogs.cnn.com/2012/11/19/offi...</td>\n",
                            "      <td>20</td>\n",
                            "      <td>0.53227</td>\n",
                            "      <td>trump, president, king, obama, house, stone, h...</td>\n",
                            "      <td>pam benson intelligence community white house ...</td>\n",
                            "      <td>3</td>\n",
                            "    </tr>\n",
                            "    <tr>\n",
                            "      <th>37</th>\n",
                            "      <td>07/14/2021, 01:04:12</td>\n",
                            "      <td>07/14/2021, 01:04:12</td>\n",
                            "      <td>06/12/2021, 15:22:34</td>\n",
                            "      <td>To complete your CNN profile and ensure you ar...</td>\n",
                            "      <td>en</td>\n",
                            "      <td>www.cnn.com</td>\n",
                            "      <td>To complete your CNN profile and ensure you ar...</td>\n",
                            "      <td>Evan McMullin runs for White House to take on ...</td>\n",
                            "      <td>https://www.cnn.com/2016/08/08/politics/evan-m...</td>\n",
                            "      <td>20</td>\n",
                            "      <td>0.98567</td>\n",
                            "      <td>trump, president, king, obama, house, stone, h...</td>\n",
                            "      <td>profile account button conditions privacy poli...</td>\n",
                            "      <td>2</td>\n",
                            "    </tr>\n",
                            "    <tr>\n",
                            "      <th>60</th>\n",
                            "      <td>07/14/2021, 01:08:34</td>\n",
                            "      <td>07/14/2021, 01:08:34</td>\n",
                            "      <td>06/13/2021, 06:29:30</td>\n",
                            "      <td>To complete your CNN profile and ensure you ar...</td>\n",
                            "      <td>en</td>\n",
                            "      <td>www.cnn.com</td>\n",
                            "      <td>To complete your CNN profile and ensure you ar...</td>\n",
                            "      <td>Deputy AG defends AP subpoenas | CNN</td>\n",
                            "      <td>https://www.cnn.com/2013/05/14/us/justice-ap-p...</td>\n",
                            "      <td>20</td>\n",
                            "      <td>0.65164</td>\n",
                            "      <td>trump, president, king, obama, house, stone, h...</td>\n",
                            "      <td>profile account button conditions privacy poli...</td>\n",
                            "      <td>4</td>\n",
                            "    </tr>\n",
                            "  </tbody>\n",
                            "</table>\n",
                            "</div>"
                        ],
                        "text/plain": [
                            "           date_download           date_modify          date_publish  \\\n",
                            "35  07/14/2021, 01:04:12  07/14/2021, 01:04:12  06/12/2021, 15:53:42   \n",
                            "37  07/14/2021, 01:04:12  07/14/2021, 01:04:12  06/12/2021, 15:22:34   \n",
                            "60  07/14/2021, 01:08:34  07/14/2021, 01:08:34  06/13/2021, 06:29:30   \n",
                            "\n",
                            "                                          description language  \\\n",
                            "35  By Pam Benson The intelligence community - not...       en   \n",
                            "37  To complete your CNN profile and ensure you ar...       en   \n",
                            "60  To complete your CNN profile and ensure you ar...       en   \n",
                            "\n",
                            "             source_domain                                           maintext  \\\n",
                            "35  security.blogs.cnn.com  By Pam Benson The intelligence community - not...   \n",
                            "37             www.cnn.com  To complete your CNN profile and ensure you ar...   \n",
                            "60             www.cnn.com  To complete your CNN profile and ensure you ar...   \n",
                            "\n",
                            "                                                title  \\\n",
                            "35  Official: Changes to Benghazi talking points m...   \n",
                            "37  Evan McMullin runs for White House to take on ...   \n",
                            "60               Deputy AG defends AP subpoenas | CNN   \n",
                            "\n",
                            "                                                  url  clusterID  \\\n",
                            "35  https://security.blogs.cnn.com/2012/11/19/offi...         20   \n",
                            "37  https://www.cnn.com/2016/08/08/politics/evan-m...         20   \n",
                            "60  https://www.cnn.com/2013/05/14/us/justice-ap-p...         20   \n",
                            "\n",
                            "    topic_percentage                                     topic_keywords  \\\n",
                            "35           0.53227  trump, president, king, obama, house, stone, h...   \n",
                            "37           0.98567  trump, president, king, obama, house, stone, h...   \n",
                            "60           0.65164  trump, president, king, obama, house, stone, h...   \n",
                            "\n",
                            "                                    filtered_maintext  kMeans_ID  \n",
                            "35  pam benson intelligence community white house ...          3  \n",
                            "37  profile account button conditions privacy poli...          2  \n",
                            "60  profile account button conditions privacy poli...          4  "
                        ]
                    },
                    "metadata": {},
                    "execution_count": 41
                }
            ],
            "metadata": {}
        },
        {
            "cell_type": "code",
            "execution_count": null,
            "source": [
                "common_words = all_kmeans_models[knee-2].cluster_centers_.argsort()[:,-1:-11:-1]\r\n",
                "words = []\r\n",
                "for num, centroid in enumerate(common_words):\r\n",
                "    cluster_words = []\r\n",
                "    for word in centroid:\r\n",
                "        cluster_words.append(words[word])\r\n",
                "    words.append(cluster_words)\r\n",
                "df[\"Words\"] = words\r\n",
                "    \r\n",
                "\r\n"
            ],
            "outputs": [],
            "metadata": {}
        },
        {
            "cell_type": "markdown",
            "source": [
                "# Subcluster by release date\r\n",
                "\r\n",
                "We will determine each articles release date and sort them into individual json files."
            ],
            "metadata": {}
        },
        {
            "cell_type": "code",
            "execution_count": null,
            "source": [
                "def getMonthYear(s):\r\n",
                "     return s.split('-')[0]+\"-\"+s.split('-')[1]"
            ],
            "outputs": [],
            "metadata": {}
        },
        {
            "cell_type": "markdown",
            "source": [
                "import datetime as dt\r\n",
                "\r\n",
                "df['date_publish'] = pd.to_datetime(df['date_publish'])\r\n",
                "df['date_modify'] = pd.to_datetime(df['date_modify'])\r\n",
                "df['date_modify'] = df['date_modify'].dt.strftime('%m/%d/%Y, %H:%M:%S')\r\n",
                "df['date_download'] = pd.to_datetime(df['date_download'])\r\n",
                "df['date_download'] = df['date_download'].dt.strftime('%m/%d/%Y, %H:%M:%S')\r\n",
                "df['month_year'] = df['date_publish'].apply(lambda x: getMonthYear(str(x)))\r\n",
                "df['date_publish'] = df['date_publish'].dt.strftime('%m/%d/%Y, %H:%M:%S')\r\n",
                "df.head(3)"
            ],
            "metadata": {}
        },
        {
            "cell_type": "markdown",
            "source": [
                "df = df.drop(columns=[\"maintext_prepro\", \"maintext_nouns\", \"maintext_ready\", \"corpus\", \"id\"], errors='ignore')   #drop unwanted attributes that should not be output into the json files.\r\n",
                "df.head()"
            ],
            "metadata": {}
        },
        {
            "cell_type": "markdown",
            "source": [
                "# Generating folder structure\r\n",
                "\r\n",
                "The following code creates the desired folder hierarchy and names each cluster after the top 3 dominant words in each one. Within each cluster/folder we are subclustering all articles by their release date.\r\n",
                "The output json file has the format *year-month.json*. "
            ],
            "metadata": {}
        },
        {
            "cell_type": "code",
            "execution_count": null,
            "source": [
                "import datetime as dt\r\n",
                "df['date_publish'] = pd.to_datetime(df['date_publish'])\r\n",
                "df['month_year'] = df['date_publish'].apply(lambda x: getMonthYear(str(x)))\r\n",
                "df.head(3)"
            ],
            "outputs": [
                {
                    "output_type": "execute_result",
                    "data": {
                        "text/html": [
                            "<div>\n",
                            "<style scoped>\n",
                            "    .dataframe tbody tr th:only-of-type {\n",
                            "        vertical-align: middle;\n",
                            "    }\n",
                            "\n",
                            "    .dataframe tbody tr th {\n",
                            "        vertical-align: top;\n",
                            "    }\n",
                            "\n",
                            "    .dataframe thead th {\n",
                            "        text-align: right;\n",
                            "    }\n",
                            "</style>\n",
                            "<table border=\"1\" class=\"dataframe\">\n",
                            "  <thead>\n",
                            "    <tr style=\"text-align: right;\">\n",
                            "      <th></th>\n",
                            "      <th>date_download</th>\n",
                            "      <th>date_modify</th>\n",
                            "      <th>date_publish</th>\n",
                            "      <th>description</th>\n",
                            "      <th>language</th>\n",
                            "      <th>source_domain</th>\n",
                            "      <th>maintext</th>\n",
                            "      <th>title</th>\n",
                            "      <th>url</th>\n",
                            "      <th>clusterID</th>\n",
                            "      <th>topic_percentage</th>\n",
                            "      <th>topic_keywords</th>\n",
                            "      <th>filtered_maintext</th>\n",
                            "      <th>kMeans_ID</th>\n",
                            "      <th>month_year</th>\n",
                            "    </tr>\n",
                            "  </thead>\n",
                            "  <tbody>\n",
                            "    <tr>\n",
                            "      <th>35</th>\n",
                            "      <td>07/14/2021, 01:04:12</td>\n",
                            "      <td>07/14/2021, 01:04:12</td>\n",
                            "      <td>2021-06-12 15:53:42</td>\n",
                            "      <td>By Pam Benson The intelligence community - not...</td>\n",
                            "      <td>en</td>\n",
                            "      <td>security.blogs.cnn.com</td>\n",
                            "      <td>By Pam Benson The intelligence community - not...</td>\n",
                            "      <td>Official: Changes to Benghazi talking points m...</td>\n",
                            "      <td>https://security.blogs.cnn.com/2012/11/19/offi...</td>\n",
                            "      <td>20</td>\n",
                            "      <td>0.53227</td>\n",
                            "      <td>trump, president, king, obama, house, stone, h...</td>\n",
                            "      <td>pam benson intelligence community white house ...</td>\n",
                            "      <td>3</td>\n",
                            "      <td>2021-06</td>\n",
                            "    </tr>\n",
                            "    <tr>\n",
                            "      <th>37</th>\n",
                            "      <td>07/14/2021, 01:04:12</td>\n",
                            "      <td>07/14/2021, 01:04:12</td>\n",
                            "      <td>2021-06-12 15:22:34</td>\n",
                            "      <td>To complete your CNN profile and ensure you ar...</td>\n",
                            "      <td>en</td>\n",
                            "      <td>www.cnn.com</td>\n",
                            "      <td>To complete your CNN profile and ensure you ar...</td>\n",
                            "      <td>Evan McMullin runs for White House to take on ...</td>\n",
                            "      <td>https://www.cnn.com/2016/08/08/politics/evan-m...</td>\n",
                            "      <td>20</td>\n",
                            "      <td>0.98567</td>\n",
                            "      <td>trump, president, king, obama, house, stone, h...</td>\n",
                            "      <td>profile account button conditions privacy poli...</td>\n",
                            "      <td>2</td>\n",
                            "      <td>2021-06</td>\n",
                            "    </tr>\n",
                            "    <tr>\n",
                            "      <th>60</th>\n",
                            "      <td>07/14/2021, 01:08:34</td>\n",
                            "      <td>07/14/2021, 01:08:34</td>\n",
                            "      <td>2021-06-13 06:29:30</td>\n",
                            "      <td>To complete your CNN profile and ensure you ar...</td>\n",
                            "      <td>en</td>\n",
                            "      <td>www.cnn.com</td>\n",
                            "      <td>To complete your CNN profile and ensure you ar...</td>\n",
                            "      <td>Deputy AG defends AP subpoenas | CNN</td>\n",
                            "      <td>https://www.cnn.com/2013/05/14/us/justice-ap-p...</td>\n",
                            "      <td>20</td>\n",
                            "      <td>0.65164</td>\n",
                            "      <td>trump, president, king, obama, house, stone, h...</td>\n",
                            "      <td>profile account button conditions privacy poli...</td>\n",
                            "      <td>4</td>\n",
                            "      <td>2021-06</td>\n",
                            "    </tr>\n",
                            "  </tbody>\n",
                            "</table>\n",
                            "</div>"
                        ],
                        "text/plain": [
                            "           date_download           date_modify        date_publish  \\\n",
                            "35  07/14/2021, 01:04:12  07/14/2021, 01:04:12 2021-06-12 15:53:42   \n",
                            "37  07/14/2021, 01:04:12  07/14/2021, 01:04:12 2021-06-12 15:22:34   \n",
                            "60  07/14/2021, 01:08:34  07/14/2021, 01:08:34 2021-06-13 06:29:30   \n",
                            "\n",
                            "                                          description language  \\\n",
                            "35  By Pam Benson The intelligence community - not...       en   \n",
                            "37  To complete your CNN profile and ensure you ar...       en   \n",
                            "60  To complete your CNN profile and ensure you ar...       en   \n",
                            "\n",
                            "             source_domain                                           maintext  \\\n",
                            "35  security.blogs.cnn.com  By Pam Benson The intelligence community - not...   \n",
                            "37             www.cnn.com  To complete your CNN profile and ensure you ar...   \n",
                            "60             www.cnn.com  To complete your CNN profile and ensure you ar...   \n",
                            "\n",
                            "                                                title  \\\n",
                            "35  Official: Changes to Benghazi talking points m...   \n",
                            "37  Evan McMullin runs for White House to take on ...   \n",
                            "60               Deputy AG defends AP subpoenas | CNN   \n",
                            "\n",
                            "                                                  url  clusterID  \\\n",
                            "35  https://security.blogs.cnn.com/2012/11/19/offi...         20   \n",
                            "37  https://www.cnn.com/2016/08/08/politics/evan-m...         20   \n",
                            "60  https://www.cnn.com/2013/05/14/us/justice-ap-p...         20   \n",
                            "\n",
                            "    topic_percentage                                     topic_keywords  \\\n",
                            "35           0.53227  trump, president, king, obama, house, stone, h...   \n",
                            "37           0.98567  trump, president, king, obama, house, stone, h...   \n",
                            "60           0.65164  trump, president, king, obama, house, stone, h...   \n",
                            "\n",
                            "                                    filtered_maintext  kMeans_ID month_year  \n",
                            "35  pam benson intelligence community white house ...          3    2021-06  \n",
                            "37  profile account button conditions privacy poli...          2    2021-06  \n",
                            "60  profile account button conditions privacy poli...          4    2021-06  "
                        ]
                    },
                    "metadata": {},
                    "execution_count": 44
                }
            ],
            "metadata": {}
        },
        {
            "cell_type": "code",
            "execution_count": null,
            "source": [
                "import os\r\n",
                "import json\r\n",
                "\r\n",
                "for cluster_id, data in df.groupby(df.kMeans_ID):\r\n",
                "    item = data.topic_keywords.iloc[0].split(\",\")\r\n",
                "    #Benennung ist noch nicht richtig\r\n",
                "    os.makedirs(f'./event_clustered_json/cluster_{kMeans_ID}-{item[0]}_{item[1]}_{item[2]}')\r\n",
                "    for date, date_data in data.groupby(data.month_year):\r\n",
                "                json_data = date_data.to_json(orient='records', force_ascii=False, date_format='iso', date_unit='s')\r\n",
                "                parsed = json.loads(json_data)\r\n",
                "                with open(f'./event_clustered_json/cluster_{kMeans_ID}-{item[0]}_{item[1]}_{item[2]}/{date}.json', 'w', encoding='utf-8') as f:\r\n",
                "                    f.write(json.dumps({\"data\": parsed}, indent=4, ensure_ascii=False))"
            ],
            "outputs": [],
            "metadata": {}
        }
    ],
    "metadata": {
        "orig_nbformat": 4,
        "language_info": {
            "name": "python",
            "version": "3.9.5",
            "mimetype": "text/x-python",
            "codemirror_mode": {
                "name": "ipython",
                "version": 3
            },
            "pygments_lexer": "ipython3",
            "nbconvert_exporter": "python",
            "file_extension": ".py"
        },
        "kernelspec": {
            "name": "python3",
            "display_name": "Python 3.9.5 64-bit ('kcc': conda)"
        },
        "interpreter": {
            "hash": "21ab713a94b9dff8ceab4d966c04cbd434fb99e8b3685c982045bb942eef746a"
        }
    },
    "nbformat": 4,
    "nbformat_minor": 2
}