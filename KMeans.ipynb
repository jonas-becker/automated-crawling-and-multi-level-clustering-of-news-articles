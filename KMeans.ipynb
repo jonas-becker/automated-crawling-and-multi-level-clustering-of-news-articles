{
    "cells": [
        {
            "cell_type": "code",
            "execution_count": 26,
            "source": [
                "import pandas as pd"
            ],
            "outputs": [],
            "metadata": {}
        },
        {
            "cell_type": "markdown",
            "source": [
                "# Load JSON Files into Pandas Dataframe"
            ],
            "metadata": {}
        },
        {
            "cell_type": "code",
            "execution_count": 27,
            "source": [
                "filename = 'cluster_0-gun_ right_ cialis.json'\r\n",
                "path = './lda_clustered_json/'+filename\r\n",
                " \r\n",
                "with open(path, encoding='utf-8', mode='r') as currentFile:\r\n",
                "    df = pd.read_json(currentFile, orient='index')\r\n",
                "\r\n",
                "df.head(3)"
            ],
            "outputs": [
                {
                    "output_type": "execute_result",
                    "data": {
                        "text/html": [
                            "<div>\n",
                            "<style scoped>\n",
                            "    .dataframe tbody tr th:only-of-type {\n",
                            "        vertical-align: middle;\n",
                            "    }\n",
                            "\n",
                            "    .dataframe tbody tr th {\n",
                            "        vertical-align: top;\n",
                            "    }\n",
                            "\n",
                            "    .dataframe thead th {\n",
                            "        text-align: right;\n",
                            "    }\n",
                            "</style>\n",
                            "<table border=\"1\" class=\"dataframe\">\n",
                            "  <thead>\n",
                            "    <tr style=\"text-align: right;\">\n",
                            "      <th></th>\n",
                            "      <th>date_download</th>\n",
                            "      <th>date_modify</th>\n",
                            "      <th>date_publish</th>\n",
                            "      <th>description</th>\n",
                            "      <th>language</th>\n",
                            "      <th>source_domain</th>\n",
                            "      <th>maintext</th>\n",
                            "      <th>title</th>\n",
                            "      <th>url</th>\n",
                            "      <th>LDA_ID</th>\n",
                            "      <th>LDA_topic_percentage</th>\n",
                            "      <th>LDA_topic_keywords</th>\n",
                            "      <th>filtered_maintext</th>\n",
                            "    </tr>\n",
                            "  </thead>\n",
                            "  <tbody>\n",
                            "    <tr>\n",
                            "      <th>18</th>\n",
                            "      <td>07/14/2021, 01:00:35</td>\n",
                            "      <td>07/14/2021, 01:00:35</td>\n",
                            "      <td>06/12/2021, 12:38:22</td>\n",
                            "      <td>This material may not be published, broadcast,...</td>\n",
                            "      <td>en</td>\n",
                            "      <td>www.foxnews.com</td>\n",
                            "      <td>This material may not be published, broadcast...</td>\n",
                            "      <td>Johnson's 17 points leads No. 18 Arizona to 73...</td>\n",
                            "      <td>https://www.foxnews.com/sports/johnsons-17-poi...</td>\n",
                            "      <td>0</td>\n",
                            "      <td>0.61873</td>\n",
                            "      <td>gun, right, cialis, viagra, child, school, mod...</td>\n",
                            "      <td>material broadcast network llc right real mark...</td>\n",
                            "    </tr>\n",
                            "    <tr>\n",
                            "      <th>38</th>\n",
                            "      <td>07/14/2021, 01:04:12</td>\n",
                            "      <td>07/14/2021, 01:04:12</td>\n",
                            "      <td>06/12/2021, 15:33:07</td>\n",
                            "      <td>This material may not be published, broadcast,...</td>\n",
                            "      <td>en</td>\n",
                            "      <td>www.foxnews.com</td>\n",
                            "      <td>This material may not be published, broadcast...</td>\n",
                            "      <td>Microsoft Surface Torn Down: A Mixed Bag of Re...</td>\n",
                            "      <td>https://www.foxnews.com/tech/microsoft-surface...</td>\n",
                            "      <td>0</td>\n",
                            "      <td>0.63235</td>\n",
                            "      <td>gun, right, cialis, viagra, child, school, mod...</td>\n",
                            "      <td>material broadcast network llc right real mark...</td>\n",
                            "    </tr>\n",
                            "    <tr>\n",
                            "      <th>69</th>\n",
                            "      <td>07/14/2021, 01:13:12</td>\n",
                            "      <td>07/14/2021, 01:13:12</td>\n",
                            "      <td>06/13/2021, 15:34:01</td>\n",
                            "      <td>A specific dose of Alzheimer's drug should be ...</td>\n",
                            "      <td>en</td>\n",
                            "      <td>thechart.blogs.cnn.com</td>\n",
                            "      <td>A specific dose of Alzheimer's drug should be ...</td>\n",
                            "      <td>Stop selling higher dose Alzheimer's drug, gro...</td>\n",
                            "      <td>https://thechart.blogs.cnn.com/2011/05/18/stop...</td>\n",
                            "      <td>0</td>\n",
                            "      <td>0.75157</td>\n",
                            "      <td>gun, right, cialis, viagra, child, school, mod...</td>\n",
                            "      <td>dose alzheimer drug market risk patient consum...</td>\n",
                            "    </tr>\n",
                            "  </tbody>\n",
                            "</table>\n",
                            "</div>"
                        ],
                        "text/plain": [
                            "           date_download           date_modify          date_publish  \\\n",
                            "18  07/14/2021, 01:00:35  07/14/2021, 01:00:35  06/12/2021, 12:38:22   \n",
                            "38  07/14/2021, 01:04:12  07/14/2021, 01:04:12  06/12/2021, 15:33:07   \n",
                            "69  07/14/2021, 01:13:12  07/14/2021, 01:13:12  06/13/2021, 15:34:01   \n",
                            "\n",
                            "                                          description language  \\\n",
                            "18  This material may not be published, broadcast,...       en   \n",
                            "38  This material may not be published, broadcast,...       en   \n",
                            "69  A specific dose of Alzheimer's drug should be ...       en   \n",
                            "\n",
                            "             source_domain                                           maintext  \\\n",
                            "18         www.foxnews.com   This material may not be published, broadcast...   \n",
                            "38         www.foxnews.com   This material may not be published, broadcast...   \n",
                            "69  thechart.blogs.cnn.com  A specific dose of Alzheimer's drug should be ...   \n",
                            "\n",
                            "                                                title  \\\n",
                            "18  Johnson's 17 points leads No. 18 Arizona to 73...   \n",
                            "38  Microsoft Surface Torn Down: A Mixed Bag of Re...   \n",
                            "69  Stop selling higher dose Alzheimer's drug, gro...   \n",
                            "\n",
                            "                                                  url  LDA_ID  \\\n",
                            "18  https://www.foxnews.com/sports/johnsons-17-poi...       0   \n",
                            "38  https://www.foxnews.com/tech/microsoft-surface...       0   \n",
                            "69  https://thechart.blogs.cnn.com/2011/05/18/stop...       0   \n",
                            "\n",
                            "    LDA_topic_percentage                                 LDA_topic_keywords  \\\n",
                            "18               0.61873  gun, right, cialis, viagra, child, school, mod...   \n",
                            "38               0.63235  gun, right, cialis, viagra, child, school, mod...   \n",
                            "69               0.75157  gun, right, cialis, viagra, child, school, mod...   \n",
                            "\n",
                            "                                    filtered_maintext  \n",
                            "18  material broadcast network llc right real mark...  \n",
                            "38  material broadcast network llc right real mark...  \n",
                            "69  dose alzheimer drug market risk patient consum...  "
                        ]
                    },
                    "metadata": {},
                    "execution_count": 27
                }
            ],
            "metadata": {}
        },
        {
            "cell_type": "code",
            "execution_count": 28,
            "source": [
                "amount_of_articles = len(df[\"filtered_maintext\"])\r\n",
                "print(f\"Amount of articles: {amount_of_articles}\")\r\n",
                "processed_articles = df['filtered_maintext']"
            ],
            "outputs": [
                {
                    "output_type": "stream",
                    "name": "stdout",
                    "text": [
                        "Amount of articles: 804\n"
                    ]
                }
            ],
            "metadata": {}
        },
        {
            "cell_type": "code",
            "execution_count": 29,
            "source": [
                "from sklearn.feature_extraction.text import TfidfVectorizer\r\n",
                "\r\n",
                "tfidfconverter = TfidfVectorizer(lowercase=True, stop_words='english', min_df=0.05 , max_df=0.6)  \r\n",
                "tfidf = tfidfconverter.fit_transform(processed_articles)\r\n",
                "words = tfidfconverter.get_feature_names()\r\n",
                "print(tfidf)"
            ],
            "outputs": [
                {
                    "output_type": "stream",
                    "name": "stdout",
                    "text": [
                        "  (0, 76)\t0.20872475803812365\n",
                        "  (0, 228)\t0.7341244999321962\n",
                        "  (0, 72)\t0.17937718610742043\n",
                        "  (0, 236)\t0.17588567131216526\n",
                        "  (0, 213)\t0.5953009740563866\n",
                        "  (1, 338)\t0.08700867416594625\n",
                        "  (1, 487)\t0.0894056716119397\n",
                        "  (1, 499)\t0.15890398679320933\n",
                        "  (1, 441)\t0.1650527085186992\n",
                        "  (1, 294)\t0.1199533154963824\n",
                        "  (1, 328)\t0.11940027703212909\n",
                        "  (1, 221)\t0.13807406594866548\n",
                        "  (1, 104)\t0.16086502437647585\n",
                        "  (1, 306)\t0.14327177388440132\n",
                        "  (1, 420)\t0.11777937911744944\n",
                        "  (1, 226)\t0.36302480244013763\n",
                        "  (1, 498)\t0.11647029618382229\n",
                        "  (1, 1)\t0.5354893151097394\n",
                        "  (1, 356)\t0.17386580110249958\n",
                        "  (1, 361)\t0.1804853004284414\n",
                        "  (1, 494)\t0.4960778479051375\n",
                        "  (1, 335)\t0.15580807318818585\n",
                        "  (1, 140)\t0.17129279137753411\n",
                        "  (1, 228)\t0.17129279137753411\n",
                        "  (2, 254)\t0.02954310887893197\n",
                        "  :\t:\n",
                        "  (802, 225)\t0.08695070434398101\n",
                        "  (802, 110)\t0.024914350960125054\n",
                        "  (802, 362)\t0.11353648654141045\n",
                        "  (802, 428)\t0.02202907277854361\n",
                        "  (802, 159)\t0.08424713657542483\n",
                        "  (802, 20)\t0.1913119188269865\n",
                        "  (802, 157)\t0.17006626332691765\n",
                        "  (802, 294)\t0.018265832990154024\n",
                        "  (802, 328)\t0.0181816193260016\n",
                        "  (802, 356)\t0.026475330610877295\n",
                        "  (802, 494)\t0.11331002085003074\n",
                        "  (802, 72)\t0.019119875342275675\n",
                        "  (802, 236)\t0.468692839786101\n",
                        "  (803, 26)\t0.14388727907680765\n",
                        "  (803, 262)\t0.1457181927313539\n",
                        "  (803, 268)\t0.11643443383100145\n",
                        "  (803, 415)\t0.8937603793973673\n",
                        "  (803, 24)\t0.14213321001725115\n",
                        "  (803, 277)\t0.16329487218919725\n",
                        "  (803, 408)\t0.16523937063852265\n",
                        "  (803, 79)\t0.13990339183375555\n",
                        "  (803, 348)\t0.09564341349561538\n",
                        "  (803, 519)\t0.11039105720294444\n",
                        "  (803, 175)\t0.13577171712234293\n",
                        "  (803, 400)\t0.11039105720294444\n"
                    ]
                }
            ],
            "metadata": {}
        },
        {
            "cell_type": "code",
            "execution_count": 30,
            "source": [
                "from sklearn.metrics.pairwise import cosine_distances\r\n",
                "\r\n",
                "cosine_similarity = cosine_distances(tfidf)\r\n",
                "cosine_similarity"
            ],
            "outputs": [
                {
                    "output_type": "execute_result",
                    "data": {
                        "text/plain": [
                            "array([[0.        , 0.87424977, 0.96602483, ..., 0.99602891, 0.91413398,\n",
                            "        1.        ],\n",
                            "       [0.87424977, 0.        , 0.90790371, ..., 0.95238206, 0.93482432,\n",
                            "        1.        ],\n",
                            "       [0.96602483, 0.90790371, 0.        , ..., 0.69282881, 0.56974113,\n",
                            "        0.97699253],\n",
                            "       ...,\n",
                            "       [0.99602891, 0.95238206, 0.69282881, ..., 0.        , 0.88470779,\n",
                            "        0.98300588],\n",
                            "       [0.91413398, 0.93482432, 0.56974113, ..., 0.88470779, 0.        ,\n",
                            "        0.97826315],\n",
                            "       [1.        , 1.        , 0.97699253, ..., 0.98300588, 0.97826315,\n",
                            "        0.        ]])"
                        ]
                    },
                    "metadata": {},
                    "execution_count": 30
                }
            ],
            "metadata": {}
        },
        {
            "cell_type": "code",
            "execution_count": 31,
            "source": [
                "from sklearn.cluster import AffinityPropagation"
            ],
            "outputs": [],
            "metadata": {}
        },
        {
            "cell_type": "code",
            "execution_count": 32,
            "source": [
                "'''\r\n",
                "clustering = AffinityPropagation(convergence_iter=5, affinity='precomputed', random_state=10)\r\n",
                "clustering.fit(cosine_similarity)\r\n",
                "labels = clustering.labels_\r\n",
                "print(labels.dtype)\r\n",
                "#cluster_centers = clustering.cluster_centers_\r\n",
                "cluster_centers_indices = clustering.cluster_centers_indices_\r\n",
                "n_clusters_ = len(cluster_centers_indices)\r\n",
                "print(n_clusters_)'''"
            ],
            "outputs": [
                {
                    "output_type": "execute_result",
                    "data": {
                        "text/plain": [
                            "\"\\nclustering = AffinityPropagation(convergence_iter=5, affinity='precomputed', random_state=10)\\nclustering.fit(cosine_similarity)\\nlabels = clustering.labels_\\nprint(labels.dtype)\\n#cluster_centers = clustering.cluster_centers_\\ncluster_centers_indices = clustering.cluster_centers_indices_\\nn_clusters_ = len(cluster_centers_indices)\\nprint(n_clusters_)\""
                        ]
                    },
                    "metadata": {},
                    "execution_count": 32
                }
            ],
            "metadata": {}
        },
        {
            "cell_type": "code",
            "execution_count": 33,
            "source": [
                "'''\r\n",
                "import matplotlib.pyplot as plt\r\n",
                "from itertools import cycle\r\n",
                "\r\n",
                "plt.close('all')\r\n",
                "plt.figure(1)\r\n",
                "plt.clf()\r\n",
                "\r\n",
                "colors = cycle('bgrcmykbgrcmykbgrcmykbgrcmyk')\r\n",
                "for k, col in zip(range(n_clusters_), colors):\r\n",
                "    class_members = labels == k\r\n",
                "    cluster_center = cosine_similarity[cluster_centers_indices[k]]\r\n",
                "    plt.plot(cosine_similarity[class_members, 0], cosine_similarity[class_members, 1], col + '.')\r\n",
                "    plt.plot(cluster_center[0], cluster_center[1], 'o', markerfacecolor=col,\r\n",
                "             markeredgecolor='k', markersize=14)\r\n",
                "    for x in cosine_similarity[class_members]:\r\n",
                "        plt.plot([cluster_center[0], x[0]], [cluster_center[1], x[1]], col)\r\n",
                "\r\n",
                "plt.title('Estimated number of clusters: %d' % n_clusters_)\r\n",
                "plt.show()'''"
            ],
            "outputs": [
                {
                    "output_type": "execute_result",
                    "data": {
                        "text/plain": [
                            "\"\\nimport matplotlib.pyplot as plt\\nfrom itertools import cycle\\n\\nplt.close('all')\\nplt.figure(1)\\nplt.clf()\\n\\ncolors = cycle('bgrcmykbgrcmykbgrcmykbgrcmyk')\\nfor k, col in zip(range(n_clusters_), colors):\\n    class_members = labels == k\\n    cluster_center = cosine_similarity[cluster_centers_indices[k]]\\n    plt.plot(cosine_similarity[class_members, 0], cosine_similarity[class_members, 1], col + '.')\\n    plt.plot(cluster_center[0], cluster_center[1], 'o', markerfacecolor=col,\\n             markeredgecolor='k', markersize=14)\\n    for x in cosine_similarity[class_members]:\\n        plt.plot([cluster_center[0], x[0]], [cluster_center[1], x[1]], col)\\n\\nplt.title('Estimated number of clusters: %d' % n_clusters_)\\nplt.show()\""
                        ]
                    },
                    "metadata": {},
                    "execution_count": 33
                }
            ],
            "metadata": {}
        },
        {
            "cell_type": "code",
            "execution_count": 34,
            "source": [
                "'''\r\n",
                "df['processed_articles'] = processed_articles\r\n",
                "df['affpropID'] = clustering.labels_'''\r\n"
            ],
            "outputs": [
                {
                    "output_type": "execute_result",
                    "data": {
                        "text/plain": [
                            "\"\\ndf['processed_articles'] = processed_articles\\ndf['affpropID'] = clustering.labels_\""
                        ]
                    },
                    "metadata": {},
                    "execution_count": 34
                }
            ],
            "metadata": {}
        },
        {
            "cell_type": "code",
            "execution_count": 35,
            "source": [
                "df.head()"
            ],
            "outputs": [
                {
                    "output_type": "execute_result",
                    "data": {
                        "text/html": [
                            "<div>\n",
                            "<style scoped>\n",
                            "    .dataframe tbody tr th:only-of-type {\n",
                            "        vertical-align: middle;\n",
                            "    }\n",
                            "\n",
                            "    .dataframe tbody tr th {\n",
                            "        vertical-align: top;\n",
                            "    }\n",
                            "\n",
                            "    .dataframe thead th {\n",
                            "        text-align: right;\n",
                            "    }\n",
                            "</style>\n",
                            "<table border=\"1\" class=\"dataframe\">\n",
                            "  <thead>\n",
                            "    <tr style=\"text-align: right;\">\n",
                            "      <th></th>\n",
                            "      <th>date_download</th>\n",
                            "      <th>date_modify</th>\n",
                            "      <th>date_publish</th>\n",
                            "      <th>description</th>\n",
                            "      <th>language</th>\n",
                            "      <th>source_domain</th>\n",
                            "      <th>maintext</th>\n",
                            "      <th>title</th>\n",
                            "      <th>url</th>\n",
                            "      <th>LDA_ID</th>\n",
                            "      <th>LDA_topic_percentage</th>\n",
                            "      <th>LDA_topic_keywords</th>\n",
                            "      <th>filtered_maintext</th>\n",
                            "    </tr>\n",
                            "  </thead>\n",
                            "  <tbody>\n",
                            "    <tr>\n",
                            "      <th>18</th>\n",
                            "      <td>07/14/2021, 01:00:35</td>\n",
                            "      <td>07/14/2021, 01:00:35</td>\n",
                            "      <td>06/12/2021, 12:38:22</td>\n",
                            "      <td>This material may not be published, broadcast,...</td>\n",
                            "      <td>en</td>\n",
                            "      <td>www.foxnews.com</td>\n",
                            "      <td>This material may not be published, broadcast...</td>\n",
                            "      <td>Johnson's 17 points leads No. 18 Arizona to 73...</td>\n",
                            "      <td>https://www.foxnews.com/sports/johnsons-17-poi...</td>\n",
                            "      <td>0</td>\n",
                            "      <td>0.61873</td>\n",
                            "      <td>gun, right, cialis, viagra, child, school, mod...</td>\n",
                            "      <td>material broadcast network llc right real mark...</td>\n",
                            "    </tr>\n",
                            "    <tr>\n",
                            "      <th>38</th>\n",
                            "      <td>07/14/2021, 01:04:12</td>\n",
                            "      <td>07/14/2021, 01:04:12</td>\n",
                            "      <td>06/12/2021, 15:33:07</td>\n",
                            "      <td>This material may not be published, broadcast,...</td>\n",
                            "      <td>en</td>\n",
                            "      <td>www.foxnews.com</td>\n",
                            "      <td>This material may not be published, broadcast...</td>\n",
                            "      <td>Microsoft Surface Torn Down: A Mixed Bag of Re...</td>\n",
                            "      <td>https://www.foxnews.com/tech/microsoft-surface...</td>\n",
                            "      <td>0</td>\n",
                            "      <td>0.63235</td>\n",
                            "      <td>gun, right, cialis, viagra, child, school, mod...</td>\n",
                            "      <td>material broadcast network llc right real mark...</td>\n",
                            "    </tr>\n",
                            "    <tr>\n",
                            "      <th>69</th>\n",
                            "      <td>07/14/2021, 01:13:12</td>\n",
                            "      <td>07/14/2021, 01:13:12</td>\n",
                            "      <td>06/13/2021, 15:34:01</td>\n",
                            "      <td>A specific dose of Alzheimer's drug should be ...</td>\n",
                            "      <td>en</td>\n",
                            "      <td>thechart.blogs.cnn.com</td>\n",
                            "      <td>A specific dose of Alzheimer's drug should be ...</td>\n",
                            "      <td>Stop selling higher dose Alzheimer's drug, gro...</td>\n",
                            "      <td>https://thechart.blogs.cnn.com/2011/05/18/stop...</td>\n",
                            "      <td>0</td>\n",
                            "      <td>0.75157</td>\n",
                            "      <td>gun, right, cialis, viagra, child, school, mod...</td>\n",
                            "      <td>dose alzheimer drug market risk patient consum...</td>\n",
                            "    </tr>\n",
                            "    <tr>\n",
                            "      <th>71</th>\n",
                            "      <td>07/14/2021, 01:13:12</td>\n",
                            "      <td>07/14/2021, 01:13:12</td>\n",
                            "      <td>06/13/2021, 15:54:01</td>\n",
                            "      <td>Editor's note: Last summer, this article was o...</td>\n",
                            "      <td>en</td>\n",
                            "      <td>thechart.blogs.cnn.com</td>\n",
                            "      <td>Editor's note: Last summer, this article was o...</td>\n",
                            "      <td>6 tips for minimizing cell phone radiation – T...</td>\n",
                            "      <td>https://thechart.blogs.cnn.com/2012/06/08/6-ti...</td>\n",
                            "      <td>0</td>\n",
                            "      <td>0.48768</td>\n",
                            "      <td>gun, right, cialis, viagra, child, school, mod...</td>\n",
                            "      <td>editor note summer chart share tip scientists ...</td>\n",
                            "    </tr>\n",
                            "    <tr>\n",
                            "      <th>72</th>\n",
                            "      <td>07/14/2021, 01:13:12</td>\n",
                            "      <td>07/14/2021, 01:13:12</td>\n",
                            "      <td>06/13/2021, 15:24:38</td>\n",
                            "      <td>The virus causing your cold sore may put you a...</td>\n",
                            "      <td>en</td>\n",
                            "      <td>thechart.blogs.cnn.com</td>\n",
                            "      <td>The virus causing your cold sore may put you a...</td>\n",
                            "      <td>Cold sores linked to cognitive decline – The C...</td>\n",
                            "      <td>https://thechart.blogs.cnn.com/2013/03/26/cold...</td>\n",
                            "      <td>0</td>\n",
                            "      <td>0.57721</td>\n",
                            "      <td>gun, right, cialis, viagra, child, school, mod...</td>\n",
                            "      <td>virus cold sore risk lower cognitive ability s...</td>\n",
                            "    </tr>\n",
                            "  </tbody>\n",
                            "</table>\n",
                            "</div>"
                        ],
                        "text/plain": [
                            "           date_download           date_modify          date_publish  \\\n",
                            "18  07/14/2021, 01:00:35  07/14/2021, 01:00:35  06/12/2021, 12:38:22   \n",
                            "38  07/14/2021, 01:04:12  07/14/2021, 01:04:12  06/12/2021, 15:33:07   \n",
                            "69  07/14/2021, 01:13:12  07/14/2021, 01:13:12  06/13/2021, 15:34:01   \n",
                            "71  07/14/2021, 01:13:12  07/14/2021, 01:13:12  06/13/2021, 15:54:01   \n",
                            "72  07/14/2021, 01:13:12  07/14/2021, 01:13:12  06/13/2021, 15:24:38   \n",
                            "\n",
                            "                                          description language  \\\n",
                            "18  This material may not be published, broadcast,...       en   \n",
                            "38  This material may not be published, broadcast,...       en   \n",
                            "69  A specific dose of Alzheimer's drug should be ...       en   \n",
                            "71  Editor's note: Last summer, this article was o...       en   \n",
                            "72  The virus causing your cold sore may put you a...       en   \n",
                            "\n",
                            "             source_domain                                           maintext  \\\n",
                            "18         www.foxnews.com   This material may not be published, broadcast...   \n",
                            "38         www.foxnews.com   This material may not be published, broadcast...   \n",
                            "69  thechart.blogs.cnn.com  A specific dose of Alzheimer's drug should be ...   \n",
                            "71  thechart.blogs.cnn.com  Editor's note: Last summer, this article was o...   \n",
                            "72  thechart.blogs.cnn.com  The virus causing your cold sore may put you a...   \n",
                            "\n",
                            "                                                title  \\\n",
                            "18  Johnson's 17 points leads No. 18 Arizona to 73...   \n",
                            "38  Microsoft Surface Torn Down: A Mixed Bag of Re...   \n",
                            "69  Stop selling higher dose Alzheimer's drug, gro...   \n",
                            "71  6 tips for minimizing cell phone radiation – T...   \n",
                            "72  Cold sores linked to cognitive decline – The C...   \n",
                            "\n",
                            "                                                  url  LDA_ID  \\\n",
                            "18  https://www.foxnews.com/sports/johnsons-17-poi...       0   \n",
                            "38  https://www.foxnews.com/tech/microsoft-surface...       0   \n",
                            "69  https://thechart.blogs.cnn.com/2011/05/18/stop...       0   \n",
                            "71  https://thechart.blogs.cnn.com/2012/06/08/6-ti...       0   \n",
                            "72  https://thechart.blogs.cnn.com/2013/03/26/cold...       0   \n",
                            "\n",
                            "    LDA_topic_percentage                                 LDA_topic_keywords  \\\n",
                            "18               0.61873  gun, right, cialis, viagra, child, school, mod...   \n",
                            "38               0.63235  gun, right, cialis, viagra, child, school, mod...   \n",
                            "69               0.75157  gun, right, cialis, viagra, child, school, mod...   \n",
                            "71               0.48768  gun, right, cialis, viagra, child, school, mod...   \n",
                            "72               0.57721  gun, right, cialis, viagra, child, school, mod...   \n",
                            "\n",
                            "                                    filtered_maintext  \n",
                            "18  material broadcast network llc right real mark...  \n",
                            "38  material broadcast network llc right real mark...  \n",
                            "69  dose alzheimer drug market risk patient consum...  \n",
                            "71  editor note summer chart share tip scientists ...  \n",
                            "72  virus cold sore risk lower cognitive ability s...  "
                        ]
                    },
                    "metadata": {},
                    "execution_count": 35
                }
            ],
            "metadata": {}
        },
        {
            "cell_type": "code",
            "execution_count": 36,
            "source": [
                "from sklearn.cluster import KMeans\r\n",
                "from scipy.spatial.distance import cdist\r\n",
                "from sklearn import metrics\r\n",
                "from tqdm import tqdm\r\n",
                "from scipy.spatial.distance import cdist\r\n",
                "import numpy as np\r\n"
            ],
            "outputs": [],
            "metadata": {}
        },
        {
            "cell_type": "code",
            "execution_count": 37,
            "source": [
                "max_clusters = 10"
            ],
            "outputs": [],
            "metadata": {}
        },
        {
            "cell_type": "code",
            "execution_count": 38,
            "source": [
                "distortions = []\r\n",
                "inertias = []\r\n",
                "mapping1 = {}\r\n",
                "mapping2 = {}\r\n",
                "\r\n",
                "last_distortion = 0\r\n",
                "\r\n",
                "all_kmeans_models = []\r\n",
                "\r\n",
                "K = range(2,max_clusters)\r\n",
                "X = np.matrix(tfidf.toarray())\r\n",
                "for i in tqdm(K):\r\n",
                "    print(\"Iteration: \" + str(i))\r\n",
                "    kMeans = KMeans(n_clusters=i, max_iter=400).fit(tfidf)\r\n",
                "    kMeans.predict(tfidf)\r\n",
                "    labels = kMeans.labels_\r\n",
                "    cluster_centers = kMeans.cluster_centers_\r\n",
                "    inertias.append(kMeans.inertia_)\r\n",
                "    distortions.append(sum(np.min(cdist(X, cluster_centers, 'euclidean'), axis=1)) / X.shape[0])\r\n",
                "\r\n",
                "    this_silhouette = metrics.silhouette_score(tfidf.toarray(), labels, metric='sqeuclidean')\r\n",
                "\r\n",
                "    print(\"Silhouette Score: \" + str(this_silhouette))\r\n",
                "\r\n",
                "    mapping1[i] =  sum(np.min(cdist(X, cluster_centers, 'euclidean'), axis=1)) / X.shape[0]\r\n",
                "    mapping2[i] = kMeans.inertia_\r\n",
                "\r\n",
                "    all_kmeans_models.append(kMeans)\r\n",
                "\r\n",
                "    common_words = kMeans.cluster_centers_.argsort()[:,-1:-11:-1]\r\n",
                "    for num, centroid in enumerate(common_words):\r\n",
                "        print(str(num) + ' : ' + ', '.join(words[word] for word in centroid))"
            ],
            "outputs": [
                {
                    "output_type": "stream",
                    "name": "stderr",
                    "text": [
                        "  0%|          | 0/8 [00:00<?, ?it/s]"
                    ]
                },
                {
                    "output_type": "stream",
                    "name": "stdout",
                    "text": [
                        "Iteration: 2\n"
                    ]
                },
                {
                    "output_type": "stream",
                    "name": "stderr",
                    "text": [
                        " 12%|█▎        | 1/8 [00:00<00:02,  3.21it/s]"
                    ]
                },
                {
                    "output_type": "stream",
                    "name": "stdout",
                    "text": [
                        "Silhouette Score: 0.08475549620972486\n",
                        "0 : police, morning, subscribed, newsletter, president, city, game, aposs, service, woman\n",
                        "1 : viagra, cialis, pharmacy, prescription, canada, loan, price, thesis, buy, drug\n",
                        "Iteration: 3\n"
                    ]
                },
                {
                    "output_type": "stream",
                    "name": "stderr",
                    "text": [
                        " 25%|██▌       | 2/8 [00:00<00:02,  2.28it/s]"
                    ]
                },
                {
                    "output_type": "stream",
                    "name": "stdout",
                    "text": [
                        "Silhouette Score: 0.10788397471168751\n",
                        "0 : alzheimer, aricept, dose, patient, help, group, homework, service, lah, drug\n",
                        "1 : police, morning, subscribed, newsletter, president, city, game, aposs, woman, security\n",
                        "2 : viagra, cialis, pharmacy, prescription, canada, loan, price, thesis, buy, drug\n",
                        "Iteration: 4\n"
                    ]
                },
                {
                    "output_type": "stream",
                    "name": "stderr",
                    "text": [
                        " 38%|███▊      | 3/8 [00:01<00:02,  2.03it/s]"
                    ]
                },
                {
                    "output_type": "stream",
                    "name": "stdout",
                    "text": [
                        "Silhouette Score: 0.11624685897007317\n",
                        "0 : game, casino, tadalafil, security, service, effect, viagra, help, team, thesis\n",
                        "1 : police, morning, subscribed, newsletter, president, city, aposs, woman, man, report\n",
                        "2 : alzheimer, aricept, dose, patient, help, group, homework, service, lah, drug\n",
                        "3 : viagra, cialis, pharmacy, prescription, canada, loan, thesis, price, buy, drug\n",
                        "Iteration: 5\n"
                    ]
                },
                {
                    "output_type": "stream",
                    "name": "stderr",
                    "text": [
                        " 50%|█████     | 4/8 [00:02<00:02,  1.74it/s]"
                    ]
                },
                {
                    "output_type": "stream",
                    "name": "stdout",
                    "text": [
                        "Silhouette Score: 0.12187189191981652\n",
                        "0 : casino, tadalafil, security, effect, chloroquine, game, clearance, service, intelligence, money\n",
                        "1 : viagra, cialis, pharmacy, prescription, canada, loan, thesis, price, buy, drug\n",
                        "2 : morning, newsletter, subscribed, president, city, aposs, game, government, school, york\n",
                        "3 : police, woman, man, officer, morning, car, incident, subscribed, newsletter, boy\n",
                        "4 : alzheimer, aricept, dose, help, homework, patient, service, group, lah, drug\n",
                        "Iteration: 6\n"
                    ]
                },
                {
                    "output_type": "stream",
                    "name": "stderr",
                    "text": [
                        " 62%|██████▎   | 5/8 [00:02<00:02,  1.46it/s]"
                    ]
                },
                {
                    "output_type": "stream",
                    "name": "stdout",
                    "text": [
                        "Silhouette Score: 0.12779561485556135\n",
                        "0 : game, search, health, york, player, aposs, child, star, woman, service\n",
                        "1 : viagra, cialis, pharmacy, prescription, canada, loan, thesis, price, buy, drug\n",
                        "2 : morning, subscribed, newsletter, president, city, government, official, court, judge, border\n",
                        "3 : casino, tadalafil, security, effect, chloroquine, game, clearance, service, intelligence, money\n",
                        "4 : police, woman, man, officer, morning, incident, subscribed, car, newsletter, boy\n",
                        "5 : alzheimer, aricept, dose, patient, help, group, homework, service, lah, drug\n",
                        "Iteration: 7\n"
                    ]
                },
                {
                    "output_type": "stream",
                    "name": "stderr",
                    "text": [
                        " 75%|███████▌  | 6/8 [00:03<00:01,  1.39it/s]"
                    ]
                },
                {
                    "output_type": "stream",
                    "name": "stdout",
                    "text": [
                        "Silhouette Score: 0.12872209295370426\n",
                        "0 : morning, subscribed, newsletter, president, government, city, official, border, house, report\n",
                        "1 : alzheimer, aricept, dose, patient, group, lah, medical, drug, info, neurology\n",
                        "2 : police, woman, man, officer, morning, incident, subscribed, car, newsletter, boy\n",
                        "3 : viagra, cialis, pharmacy, prescription, canada, loan, thesis, price, buy, drug\n",
                        "4 : casino, tadalafil, security, effect, chloroquine, game, clearance, intelligence, dosage, team\n",
                        "5 : game, school, child, health, search, aposs, york, star, woman, judge\n",
                        "6 : help, homework, service, essay, viagra, thesis, cialis, order, paper, info\n",
                        "Iteration: 8\n"
                    ]
                },
                {
                    "output_type": "stream",
                    "name": "stderr",
                    "text": [
                        " 88%|████████▊ | 7/8 [00:04<00:00,  1.34it/s]"
                    ]
                },
                {
                    "output_type": "stream",
                    "name": "stdout",
                    "text": [
                        "Silhouette Score: 0.11938413403613854\n",
                        "0 : viagra, cialis, pharmacy, prescription, loan, thesis, canada, price, buy, cash\n",
                        "1 : morning, president, subscribed, newsletter, government, school, official, city, report, house\n",
                        "2 : game, health, child, player, york, star, aposs, city, team, film\n",
                        "3 : police, woman, man, officer, morning, car, incident, subscribed, newsletter, boy\n",
                        "4 : alzheimer, aricept, dose, patient, group, lah, medical, drug, info, neurology\n",
                        "5 : help, homework, essay, service, thesis, viagra, paper, business, aricept, college\n",
                        "6 : casino, tadalafil, security, effect, chloroquine, game, clearance, intelligence, dosage, team\n",
                        "7 : cialis, pharmacy, prescription, viagra, tadalafil, canada, drug, price, buy, cost\n",
                        "Iteration: 9\n"
                    ]
                },
                {
                    "output_type": "stream",
                    "name": "stderr",
                    "text": [
                        "100%|██████████| 8/8 [00:05<00:00,  1.47it/s]"
                    ]
                },
                {
                    "output_type": "stream",
                    "name": "stdout",
                    "text": [
                        "Silhouette Score: 0.14578273040557524\n",
                        "0 : viagra, cialis, pharmacy, prescription, canada, loan, thesis, price, buy, drug\n",
                        "1 : police, woman, man, officer, morning, incident, car, subscribed, newsletter, boy\n",
                        "2 : morning, subscribed, newsletter, city, government, official, mile, border, town, aposs\n",
                        "3 : president, house, search, party, obama, campaign, government, america, morning, congress\n",
                        "4 : game, health, school, player, child, team, york, aposs, film, business\n",
                        "5 : court, judge, prison, lawyer, charge, morning, subscribed, newsletter, child, man\n",
                        "6 : casino, tadalafil, security, effect, chloroquine, game, clearance, intelligence, service, money\n",
                        "7 : alzheimer, aricept, dose, patient, group, lah, medical, drug, info, neurology\n",
                        "8 : help, homework, essay, service, viagra, paper, aricept, college, alzheimer, business\n"
                    ]
                },
                {
                    "output_type": "stream",
                    "name": "stderr",
                    "text": [
                        "\n"
                    ]
                }
            ],
            "metadata": {}
        },
        {
            "cell_type": "code",
            "execution_count": 39,
            "source": [
                "from kneed import KneeLocator\r\n",
                "print(distortions)\r\n",
                "print(\"The elbow point of the curve is: \")\r\n",
                "kneedle = KneeLocator(K, distortions, S=1.0, curve=\"convex\", direction=\"decreasing\")\r\n",
                "print(kneedle.knee_y)\r\n",
                "knee = kneedle.knee"
            ],
            "outputs": [
                {
                    "output_type": "stream",
                    "name": "stdout",
                    "text": [
                        "[0.921756189513762, 0.899658139012335, 0.8893302055485194, 0.8782770928790529, 0.8724591568302289, 0.8599163901975326, 0.8466273922323194, 0.8491628561693155]\n",
                        "The elbow point of the curve is: \n",
                        "0.8466273922323194\n"
                    ]
                }
            ],
            "metadata": {}
        },
        {
            "cell_type": "code",
            "execution_count": 40,
            "source": [
                "kneedle.plot_knee()"
            ],
            "outputs": [
                {
                    "output_type": "display_data",
                    "data": {
                        "image/png": "[encoded data removed]",
                        "text/plain": [
                            "<Figure size 432x432 with 1 Axes>"
                        ]
                    },
                    "metadata": {
                        "needs_background": "light"
                    }
                }
            ],
            "metadata": {}
        },
        {
            "cell_type": "code",
            "execution_count": 41,
            "source": [
                "import matplotlib.pyplot as plt\r\n",
                "\r\n",
                "plt.plot(K, inertias, 'bx-')\r\n",
                "plt.xlabel('Values of K')\r\n",
                "plt.ylabel('Inertia')\r\n",
                "plt.title('The Elbow Method using Inertia')\r\n",
                "plt.show()"
            ],
            "outputs": [
                {
                    "output_type": "display_data",
                    "data": {
                        "image/png": "[encoded data removed]",
                        "text/plain": [
                            "<Figure size 432x288 with 1 Axes>"
                        ]
                    },
                    "metadata": {
                        "needs_background": "light"
                    }
                }
            ],
            "metadata": {}
        },
        {
            "cell_type": "code",
            "execution_count": 42,
            "source": [
                "plt.plot(K, distortions, 'bx-')\r\n",
                "plt.xlabel('Values of K')\r\n",
                "plt.ylabel('Distortion')\r\n",
                "plt.title('The Elbow Method using Distortion')\r\n",
                "plt.show()"
            ],
            "outputs": [
                {
                    "output_type": "display_data",
                    "data": {
                        "image/png": "[encoded data removed]",
                        "text/plain": [
                            "<Figure size 432x288 with 1 Axes>"
                        ]
                    },
                    "metadata": {
                        "needs_background": "light"
                    }
                }
            ],
            "metadata": {}
        },
        {
            "cell_type": "code",
            "execution_count": 43,
            "source": [
                "# save the clusterIDs to the dataframe\r\n",
                "# minus 2 because we start checking with 2 clusters\r\n",
                "df[\"kMeans_ID\"] = all_kmeans_models[knee-2].labels_\r\n",
                "\r\n",
                "df.head()"
            ],
            "outputs": [
                {
                    "output_type": "execute_result",
                    "data": {
                        "text/html": [
                            "<div>\n",
                            "<style scoped>\n",
                            "    .dataframe tbody tr th:only-of-type {\n",
                            "        vertical-align: middle;\n",
                            "    }\n",
                            "\n",
                            "    .dataframe tbody tr th {\n",
                            "        vertical-align: top;\n",
                            "    }\n",
                            "\n",
                            "    .dataframe thead th {\n",
                            "        text-align: right;\n",
                            "    }\n",
                            "</style>\n",
                            "<table border=\"1\" class=\"dataframe\">\n",
                            "  <thead>\n",
                            "    <tr style=\"text-align: right;\">\n",
                            "      <th></th>\n",
                            "      <th>date_download</th>\n",
                            "      <th>date_modify</th>\n",
                            "      <th>date_publish</th>\n",
                            "      <th>description</th>\n",
                            "      <th>language</th>\n",
                            "      <th>source_domain</th>\n",
                            "      <th>maintext</th>\n",
                            "      <th>title</th>\n",
                            "      <th>url</th>\n",
                            "      <th>LDA_ID</th>\n",
                            "      <th>LDA_topic_percentage</th>\n",
                            "      <th>LDA_topic_keywords</th>\n",
                            "      <th>filtered_maintext</th>\n",
                            "      <th>kMeans_ID</th>\n",
                            "    </tr>\n",
                            "  </thead>\n",
                            "  <tbody>\n",
                            "    <tr>\n",
                            "      <th>18</th>\n",
                            "      <td>07/14/2021, 01:00:35</td>\n",
                            "      <td>07/14/2021, 01:00:35</td>\n",
                            "      <td>06/12/2021, 12:38:22</td>\n",
                            "      <td>This material may not be published, broadcast,...</td>\n",
                            "      <td>en</td>\n",
                            "      <td>www.foxnews.com</td>\n",
                            "      <td>This material may not be published, broadcast...</td>\n",
                            "      <td>Johnson's 17 points leads No. 18 Arizona to 73...</td>\n",
                            "      <td>https://www.foxnews.com/sports/johnsons-17-poi...</td>\n",
                            "      <td>0</td>\n",
                            "      <td>0.61873</td>\n",
                            "      <td>gun, right, cialis, viagra, child, school, mod...</td>\n",
                            "      <td>material broadcast network llc right real mark...</td>\n",
                            "      <td>2</td>\n",
                            "    </tr>\n",
                            "    <tr>\n",
                            "      <th>38</th>\n",
                            "      <td>07/14/2021, 01:04:12</td>\n",
                            "      <td>07/14/2021, 01:04:12</td>\n",
                            "      <td>06/12/2021, 15:33:07</td>\n",
                            "      <td>This material may not be published, broadcast,...</td>\n",
                            "      <td>en</td>\n",
                            "      <td>www.foxnews.com</td>\n",
                            "      <td>This material may not be published, broadcast...</td>\n",
                            "      <td>Microsoft Surface Torn Down: A Mixed Bag of Re...</td>\n",
                            "      <td>https://www.foxnews.com/tech/microsoft-surface...</td>\n",
                            "      <td>0</td>\n",
                            "      <td>0.63235</td>\n",
                            "      <td>gun, right, cialis, viagra, child, school, mod...</td>\n",
                            "      <td>material broadcast network llc right real mark...</td>\n",
                            "      <td>2</td>\n",
                            "    </tr>\n",
                            "    <tr>\n",
                            "      <th>69</th>\n",
                            "      <td>07/14/2021, 01:13:12</td>\n",
                            "      <td>07/14/2021, 01:13:12</td>\n",
                            "      <td>06/13/2021, 15:34:01</td>\n",
                            "      <td>A specific dose of Alzheimer's drug should be ...</td>\n",
                            "      <td>en</td>\n",
                            "      <td>thechart.blogs.cnn.com</td>\n",
                            "      <td>A specific dose of Alzheimer's drug should be ...</td>\n",
                            "      <td>Stop selling higher dose Alzheimer's drug, gro...</td>\n",
                            "      <td>https://thechart.blogs.cnn.com/2011/05/18/stop...</td>\n",
                            "      <td>0</td>\n",
                            "      <td>0.75157</td>\n",
                            "      <td>gun, right, cialis, viagra, child, school, mod...</td>\n",
                            "      <td>dose alzheimer drug market risk patient consum...</td>\n",
                            "      <td>4</td>\n",
                            "    </tr>\n",
                            "    <tr>\n",
                            "      <th>71</th>\n",
                            "      <td>07/14/2021, 01:13:12</td>\n",
                            "      <td>07/14/2021, 01:13:12</td>\n",
                            "      <td>06/13/2021, 15:54:01</td>\n",
                            "      <td>Editor's note: Last summer, this article was o...</td>\n",
                            "      <td>en</td>\n",
                            "      <td>thechart.blogs.cnn.com</td>\n",
                            "      <td>Editor's note: Last summer, this article was o...</td>\n",
                            "      <td>6 tips for minimizing cell phone radiation – T...</td>\n",
                            "      <td>https://thechart.blogs.cnn.com/2012/06/08/6-ti...</td>\n",
                            "      <td>0</td>\n",
                            "      <td>0.48768</td>\n",
                            "      <td>gun, right, cialis, viagra, child, school, mod...</td>\n",
                            "      <td>editor note summer chart share tip scientists ...</td>\n",
                            "      <td>2</td>\n",
                            "    </tr>\n",
                            "    <tr>\n",
                            "      <th>72</th>\n",
                            "      <td>07/14/2021, 01:13:12</td>\n",
                            "      <td>07/14/2021, 01:13:12</td>\n",
                            "      <td>06/13/2021, 15:24:38</td>\n",
                            "      <td>The virus causing your cold sore may put you a...</td>\n",
                            "      <td>en</td>\n",
                            "      <td>thechart.blogs.cnn.com</td>\n",
                            "      <td>The virus causing your cold sore may put you a...</td>\n",
                            "      <td>Cold sores linked to cognitive decline – The C...</td>\n",
                            "      <td>https://thechart.blogs.cnn.com/2013/03/26/cold...</td>\n",
                            "      <td>0</td>\n",
                            "      <td>0.57721</td>\n",
                            "      <td>gun, right, cialis, viagra, child, school, mod...</td>\n",
                            "      <td>virus cold sore risk lower cognitive ability s...</td>\n",
                            "      <td>7</td>\n",
                            "    </tr>\n",
                            "  </tbody>\n",
                            "</table>\n",
                            "</div>"
                        ],
                        "text/plain": [
                            "           date_download           date_modify          date_publish  \\\n",
                            "18  07/14/2021, 01:00:35  07/14/2021, 01:00:35  06/12/2021, 12:38:22   \n",
                            "38  07/14/2021, 01:04:12  07/14/2021, 01:04:12  06/12/2021, 15:33:07   \n",
                            "69  07/14/2021, 01:13:12  07/14/2021, 01:13:12  06/13/2021, 15:34:01   \n",
                            "71  07/14/2021, 01:13:12  07/14/2021, 01:13:12  06/13/2021, 15:54:01   \n",
                            "72  07/14/2021, 01:13:12  07/14/2021, 01:13:12  06/13/2021, 15:24:38   \n",
                            "\n",
                            "                                          description language  \\\n",
                            "18  This material may not be published, broadcast,...       en   \n",
                            "38  This material may not be published, broadcast,...       en   \n",
                            "69  A specific dose of Alzheimer's drug should be ...       en   \n",
                            "71  Editor's note: Last summer, this article was o...       en   \n",
                            "72  The virus causing your cold sore may put you a...       en   \n",
                            "\n",
                            "             source_domain                                           maintext  \\\n",
                            "18         www.foxnews.com   This material may not be published, broadcast...   \n",
                            "38         www.foxnews.com   This material may not be published, broadcast...   \n",
                            "69  thechart.blogs.cnn.com  A specific dose of Alzheimer's drug should be ...   \n",
                            "71  thechart.blogs.cnn.com  Editor's note: Last summer, this article was o...   \n",
                            "72  thechart.blogs.cnn.com  The virus causing your cold sore may put you a...   \n",
                            "\n",
                            "                                                title  \\\n",
                            "18  Johnson's 17 points leads No. 18 Arizona to 73...   \n",
                            "38  Microsoft Surface Torn Down: A Mixed Bag of Re...   \n",
                            "69  Stop selling higher dose Alzheimer's drug, gro...   \n",
                            "71  6 tips for minimizing cell phone radiation – T...   \n",
                            "72  Cold sores linked to cognitive decline – The C...   \n",
                            "\n",
                            "                                                  url  LDA_ID  \\\n",
                            "18  https://www.foxnews.com/sports/johnsons-17-poi...       0   \n",
                            "38  https://www.foxnews.com/tech/microsoft-surface...       0   \n",
                            "69  https://thechart.blogs.cnn.com/2011/05/18/stop...       0   \n",
                            "71  https://thechart.blogs.cnn.com/2012/06/08/6-ti...       0   \n",
                            "72  https://thechart.blogs.cnn.com/2013/03/26/cold...       0   \n",
                            "\n",
                            "    LDA_topic_percentage                                 LDA_topic_keywords  \\\n",
                            "18               0.61873  gun, right, cialis, viagra, child, school, mod...   \n",
                            "38               0.63235  gun, right, cialis, viagra, child, school, mod...   \n",
                            "69               0.75157  gun, right, cialis, viagra, child, school, mod...   \n",
                            "71               0.48768  gun, right, cialis, viagra, child, school, mod...   \n",
                            "72               0.57721  gun, right, cialis, viagra, child, school, mod...   \n",
                            "\n",
                            "                                    filtered_maintext  kMeans_ID  \n",
                            "18  material broadcast network llc right real mark...          2  \n",
                            "38  material broadcast network llc right real mark...          2  \n",
                            "69  dose alzheimer drug market risk patient consum...          4  \n",
                            "71  editor note summer chart share tip scientists ...          2  \n",
                            "72  virus cold sore risk lower cognitive ability s...          7  "
                        ]
                    },
                    "metadata": {},
                    "execution_count": 43
                }
            ],
            "metadata": {}
        },
        {
            "cell_type": "markdown",
            "source": [
                "# Subcluster by release date\r\n",
                "\r\n",
                "We will determine each articles release date and sort them into individual json files."
            ],
            "metadata": {}
        },
        {
            "cell_type": "code",
            "execution_count": 44,
            "source": [
                "def getMonthYear(s):\r\n",
                "     return s.split('-')[0]+\"-\"+s.split('-')[1]"
            ],
            "outputs": [],
            "metadata": {}
        },
        {
            "cell_type": "markdown",
            "source": [
                "import datetime as dt\r\n",
                "\r\n",
                "df['date_publish'] = pd.to_datetime(df['date_publish'])\r\n",
                "df['date_modify'] = pd.to_datetime(df['date_modify'])\r\n",
                "df['date_modify'] = df['date_modify'].dt.strftime('%m/%d/%Y, %H:%M:%S')\r\n",
                "df['date_download'] = pd.to_datetime(df['date_download'])\r\n",
                "df['date_download'] = df['date_download'].dt.strftime('%m/%d/%Y, %H:%M:%S')\r\n",
                "df['month_year'] = df['date_publish'].apply(lambda x: getMonthYear(str(x)))\r\n",
                "df['date_publish'] = df['date_publish'].dt.strftime('%m/%d/%Y, %H:%M:%S')\r\n",
                "df.head(3)"
            ],
            "metadata": {}
        },
        {
            "cell_type": "markdown",
            "source": [
                "df = df.drop(columns=[\"maintext_prepro\", \"maintext_nouns\", \"maintext_ready\", \"corpus\", \"id\"], errors='ignore')   #drop unwanted attributes that should not be output into the json files.\r\n",
                "df.head()"
            ],
            "metadata": {}
        },
        {
            "cell_type": "markdown",
            "source": [
                "# Generating folder structure\r\n",
                "\r\n",
                "The following code creates the desired folder hierarchy and names each cluster after the top 3 dominant words in each one. Within each cluster/folder we are subclustering all articles by their release date.\r\n",
                "The output json file has the format *year-month.json*. "
            ],
            "metadata": {}
        },
        {
            "cell_type": "code",
            "execution_count": 45,
            "source": [
                "import json\r\n",
                "\r\n",
                "for cluster_id, data in df.groupby(df.clusterID):\r\n",
                "    item = data.topic_keywords.iloc[0].split(\",\")\r\n",
                "    os.makedirs(f'./cluster_dataset/cluster_{cluster_id}-{item[0]}_{item[1]}_{item[2]}')\r\n",
                "    for date, date_data in data.groupby(data.month_year):\r\n",
                "             json_data = date_data.to_json(orient='records', force_ascii=False, date_format='iso', date_unit='s')\r\n",
                "             parsed = json.loads(json_data)\r\n",
                "             with open(f'./cluster_dataset/cluster_{cluster_id}-{item[0]}_{item[1]}_{item[2]}/{date}.json', 'w', encoding='utf-8') as f:\r\n",
                "                 f.write(json.dumps({\"data\": parsed}, indent=4, ensure_ascii=False))"
            ],
            "outputs": [
                {
                    "output_type": "error",
                    "ename": "AttributeError",
                    "evalue": "'DataFrame' object has no attribute 'clusterID'",
                    "traceback": [
                        "\u001b[1;31m---------------------------------------------------------------------------\u001b[0m",
                        "\u001b[1;31mAttributeError\u001b[0m                            Traceback (most recent call last)",
                        "\u001b[1;32m<ipython-input-45-1414644dcd41>\u001b[0m in \u001b[0;36m<module>\u001b[1;34m\u001b[0m\n\u001b[0;32m      1\u001b[0m \u001b[1;32mimport\u001b[0m \u001b[0mjson\u001b[0m\u001b[1;33m\u001b[0m\u001b[1;33m\u001b[0m\u001b[0m\n\u001b[0;32m      2\u001b[0m \u001b[1;33m\u001b[0m\u001b[0m\n\u001b[1;32m----> 3\u001b[1;33m \u001b[1;32mfor\u001b[0m \u001b[0mcluster_id\u001b[0m\u001b[1;33m,\u001b[0m \u001b[0mdata\u001b[0m \u001b[1;32min\u001b[0m \u001b[0mdf\u001b[0m\u001b[1;33m.\u001b[0m\u001b[0mgroupby\u001b[0m\u001b[1;33m(\u001b[0m\u001b[0mdf\u001b[0m\u001b[1;33m.\u001b[0m\u001b[0mclusterID\u001b[0m\u001b[1;33m)\u001b[0m\u001b[1;33m:\u001b[0m\u001b[1;33m\u001b[0m\u001b[1;33m\u001b[0m\u001b[0m\n\u001b[0m\u001b[0;32m      4\u001b[0m     \u001b[0mitem\u001b[0m \u001b[1;33m=\u001b[0m \u001b[0mdata\u001b[0m\u001b[1;33m.\u001b[0m\u001b[0mtopic_keywords\u001b[0m\u001b[1;33m.\u001b[0m\u001b[0miloc\u001b[0m\u001b[1;33m[\u001b[0m\u001b[1;36m0\u001b[0m\u001b[1;33m]\u001b[0m\u001b[1;33m.\u001b[0m\u001b[0msplit\u001b[0m\u001b[1;33m(\u001b[0m\u001b[1;34m\",\"\u001b[0m\u001b[1;33m)\u001b[0m\u001b[1;33m\u001b[0m\u001b[1;33m\u001b[0m\u001b[0m\n\u001b[0;32m      5\u001b[0m     \u001b[0mos\u001b[0m\u001b[1;33m.\u001b[0m\u001b[0mmakedirs\u001b[0m\u001b[1;33m(\u001b[0m\u001b[1;34mf'./cluster_dataset/cluster_{cluster_id}-{item[0]}_{item[1]}_{item[2]}'\u001b[0m\u001b[1;33m)\u001b[0m\u001b[1;33m\u001b[0m\u001b[1;33m\u001b[0m\u001b[0m\n",
                        "\u001b[1;32m~\\miniconda3\\envs\\kccs\\lib\\site-packages\\pandas\\core\\generic.py\u001b[0m in \u001b[0;36m__getattr__\u001b[1;34m(self, name)\u001b[0m\n\u001b[0;32m   5463\u001b[0m             \u001b[1;32mif\u001b[0m \u001b[0mself\u001b[0m\u001b[1;33m.\u001b[0m\u001b[0m_info_axis\u001b[0m\u001b[1;33m.\u001b[0m\u001b[0m_can_hold_identifiers_and_holds_name\u001b[0m\u001b[1;33m(\u001b[0m\u001b[0mname\u001b[0m\u001b[1;33m)\u001b[0m\u001b[1;33m:\u001b[0m\u001b[1;33m\u001b[0m\u001b[1;33m\u001b[0m\u001b[0m\n\u001b[0;32m   5464\u001b[0m                 \u001b[1;32mreturn\u001b[0m \u001b[0mself\u001b[0m\u001b[1;33m[\u001b[0m\u001b[0mname\u001b[0m\u001b[1;33m]\u001b[0m\u001b[1;33m\u001b[0m\u001b[1;33m\u001b[0m\u001b[0m\n\u001b[1;32m-> 5465\u001b[1;33m             \u001b[1;32mreturn\u001b[0m \u001b[0mobject\u001b[0m\u001b[1;33m.\u001b[0m\u001b[0m__getattribute__\u001b[0m\u001b[1;33m(\u001b[0m\u001b[0mself\u001b[0m\u001b[1;33m,\u001b[0m \u001b[0mname\u001b[0m\u001b[1;33m)\u001b[0m\u001b[1;33m\u001b[0m\u001b[1;33m\u001b[0m\u001b[0m\n\u001b[0m\u001b[0;32m   5466\u001b[0m \u001b[1;33m\u001b[0m\u001b[0m\n\u001b[0;32m   5467\u001b[0m     \u001b[1;32mdef\u001b[0m \u001b[0m__setattr__\u001b[0m\u001b[1;33m(\u001b[0m\u001b[0mself\u001b[0m\u001b[1;33m,\u001b[0m \u001b[0mname\u001b[0m\u001b[1;33m:\u001b[0m \u001b[0mstr\u001b[0m\u001b[1;33m,\u001b[0m \u001b[0mvalue\u001b[0m\u001b[1;33m)\u001b[0m \u001b[1;33m->\u001b[0m \u001b[1;32mNone\u001b[0m\u001b[1;33m:\u001b[0m\u001b[1;33m\u001b[0m\u001b[1;33m\u001b[0m\u001b[0m\n",
                        "\u001b[1;31mAttributeError\u001b[0m: 'DataFrame' object has no attribute 'clusterID'"
                    ]
                }
            ],
            "metadata": {}
        }
    ],
    "metadata": {
        "orig_nbformat": 4,
        "language_info": {
            "name": "python",
            "version": "3.9.4",
            "mimetype": "text/x-python",
            "codemirror_mode": {
                "name": "ipython",
                "version": 3
            },
            "pygments_lexer": "ipython3",
            "nbconvert_exporter": "python",
            "file_extension": ".py"
        },
        "kernelspec": {
            "name": "python3",
            "display_name": "Python 3.9.4 64-bit ('kccs': conda)"
        },
        "interpreter": {
            "hash": "d7b8994cdf06398bb1d6bc43ff8b2ebd874fbdc1b32ac998f9bfa73841ea6f5e"
        }
    },
    "nbformat": 4,
    "nbformat_minor": 2
}